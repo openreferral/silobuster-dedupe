{
 "cells": [
  {
   "cell_type": "code",
   "execution_count": 2,
   "id": "49dc1b89",
   "metadata": {
    "scrolled": false
   },
   "outputs": [
    {
     "name": "stdout",
     "output_type": "stream",
     "text": [
      "\n",
      "        SELECT\n",
      "            o.id as organization_id,\n",
      "            o.name as o_name,\n",
      "            o.url as o_url,\n",
      "            l.id as location_id,\n",
      "            l.name as l_name,\n",
      "            l.latitude,\n",
      "            l.longitude,\n",
      "            a.address_1,\n",
      "            a.address_2,\n",
      "            a.city,\n",
      "            a.state_province,\n",
      "            a.postal_code\n",
      "        FROM organization o\n",
      "        JOIN location l on l.organization_id = o.id\n",
      "        JOIN address a on a.location_id = l.id\n",
      "        WHERE type = 'physical'\n",
      "        \n",
      "                    organization_id  \\\n",
      "0  46c4acdfa7407bb1f0de32a2467c7987   \n",
      "1  0311533a6d3626101e12996e914c1477   \n",
      "2  c5fce969171a54cfae5440cacfd45585   \n",
      "3  7536dcaf0707e39f30ec2936a5b6774e   \n",
      "4  b3fa2d0531dc59d40be538c89a15e383   \n",
      "\n",
      "                                              o_name  \\\n",
      "0                                    *REQUIRED* text   \n",
      "1  Depressive and Bipolar Support Alliance Whatco...   \n",
      "2           Bellingham Parks and Recreation Division   \n",
      "3                        Mount Baker School District   \n",
      "4                       Bellingham Technical College   \n",
      "\n",
      "                                 o_url                       location_id  \\\n",
      "0               http://some.domain.com  ae97066be6a14f53d572bcbab83d4ef4   \n",
      "1           http://www.dbsalliance.org  5cbaa27bd58a2b8b728caad9c8a554bf   \n",
      "2  https://cob.org/services/recreation  647b980c49850404ea2db47db8ec504c   \n",
      "3        http://www.mtbaker.wednet.edu  2cc46b37742f870c0904d2a6f8adcd2e   \n",
      "4                  https://www.btc.edu  52dbbe006552f49c9a32e5dee5e3f7ce   \n",
      "\n",
      "                                    l_name  latitude  longitude  \\\n",
      "0                          *REQUIRED* text       NaN        NaN   \n",
      "1  Depressive and Bipolar Support Alliance       NaN        NaN   \n",
      "2     Bellingham Parks Recreation Division       NaN        NaN   \n",
      "3              Mount Baker School District       NaN        NaN   \n",
      "4             Bellingham Technical College       NaN        NaN   \n",
      "\n",
      "               address_1 address_2        city  \\\n",
      "0                   text      text        text   \n",
      "1    800 Chestnut Street  Suite 1C  Bellingham   \n",
      "2      210 Lottie Street            Bellingham   \n",
      "3       4956 Deming Road                Deming   \n",
      "4  3028 Lindbergh Avenue            Bellingham   \n",
      "\n",
      "                   state_province          postal_code  \n",
      "0  Two character state (All caps)  99999 or 99999-9999  \n",
      "1                              WA                98225  \n",
      "2                              WA                98225  \n",
      "3                              WA                98244  \n",
      "4                              WA                98225  \n",
      "Importing data ...\n",
      "Reading from dedupe_dataframe_learned_settings\n",
      "Clustering...\n"
     ]
    },
    {
     "name": "stderr",
     "output_type": "stream",
     "text": [
      "/tmp/ipykernel_7801/550769966.py:12: FutureWarning: The default value of regex will change from True to False in a future version.\n",
      "  df_final = pandas_dedupe.dedupe_dataframe(pg_feed.df, [\n"
     ]
    },
    {
     "name": "stdout",
     "output_type": "stream",
     "text": [
      "# duplicate sets 221\n"
     ]
    }
   ],
   "source": [
    "import pandas as pd\n",
    "import pandas_dedupe\n",
    "\n",
    "from libs.feeds.postgres_feed import PostgresFeed\n",
    "\n",
    "pg_feed = PostgresFeed.from_main()\n",
    "print(pg_feed.query)\n",
    "print (pg_feed.df.head(5))\n",
    "\n",
    "# The Levenshtein distance is used for fields identified as 'String'. However, it appears we \n",
    "# can't use \"has missing\" with Strings. Where fields may be empty, use type of \"Test\" instead.\n",
    "df_final = pandas_dedupe.dedupe_dataframe(pg_feed.df, [\n",
    "    ('o_name', 'String'),\n",
    "    ('address_1', 'String'), \n",
    "    ('address_2','Text', 'has missing'), \n",
    "    ('city','Text','has missing'), \n",
    "    ('state_province','Text','has missing'), \n",
    "    ('postal_code','Text','has missing'), \n",
    "    ('o_url','Text','has missing'), \n",
    "    #('l_description','Text','has missing')\n",
    "])\n",
    "\n",
    "df_final.to_csv('deduplication_output.csv')"
   ]
  },
  {
   "cell_type": "code",
   "execution_count": null,
   "id": "89cc550f",
   "metadata": {},
   "outputs": [],
   "source": []
  },
  {
   "cell_type": "code",
   "execution_count": null,
   "id": "02c05d1e",
   "metadata": {},
   "outputs": [],
   "source": []
  }
 ],
 "metadata": {
  "kernelspec": {
   "display_name": "Python 3 (ipykernel)",
   "language": "python",
   "name": "python3"
  },
  "language_info": {
   "codemirror_mode": {
    "name": "ipython",
    "version": 3
   },
   "file_extension": ".py",
   "mimetype": "text/x-python",
   "name": "python",
   "nbconvert_exporter": "python",
   "pygments_lexer": "ipython3",
   "version": "3.10.6"
  },
  "vscode": {
   "interpreter": {
    "hash": "916dbcbb3f70747c44a77c7bcd40155683ae19c65e1c03b4aa3499c5328201f1"
   }
  }
 },
 "nbformat": 4,
 "nbformat_minor": 5
}
