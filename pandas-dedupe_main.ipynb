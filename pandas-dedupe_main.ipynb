{
 "cells": [
  {
   "cell_type": "code",
   "execution_count": 1,
   "id": "49dc1b89",
   "metadata": {
    "scrolled": false
   },
   "outputs": [
    {
     "name": "stdout",
     "output_type": "stream",
     "text": [
      "\n",
      "        SELECT\n",
      "            o.id as organization_id,\n",
      "            o.name as o_name,\n",
      "            o.url as o_url,\n",
      "            l.id as location_id,\n",
      "            l.name as l_name,\n",
      "            l.latitude,\n",
      "            l.longitude,\n",
      "            a.address_1,\n",
      "            a.address_2,\n",
      "            a.city,\n",
      "            a.state_province,\n",
      "            a.postal_code\n",
      "        FROM organization o\n",
      "        JOIN location l on l.organization_id = o.id\n",
      "        JOIN address a on a.location_id = l.id\n",
      "        WHERE type = 'physical'\n",
      "        \n",
      "                    organization_id  \\\n",
      "0  46c4acdfa7407bb1f0de32a2467c7987   \n",
      "1  0311533a6d3626101e12996e914c1477   \n",
      "2  c5fce969171a54cfae5440cacfd45585   \n",
      "3  7536dcaf0707e39f30ec2936a5b6774e   \n",
      "4  b3fa2d0531dc59d40be538c89a15e383   \n",
      "\n",
      "                                              o_name  \\\n",
      "0                                    *REQUIRED* text   \n",
      "1  Depressive and Bipolar Support Alliance Whatco...   \n",
      "2           Bellingham Parks and Recreation Division   \n",
      "3                        Mount Baker School District   \n",
      "4                       Bellingham Technical College   \n",
      "\n",
      "                                 o_url                       location_id  \\\n",
      "0               http://some.domain.com  ae97066be6a14f53d572bcbab83d4ef4   \n",
      "1           http://www.dbsalliance.org  5cbaa27bd58a2b8b728caad9c8a554bf   \n",
      "2  https://cob.org/services/recreation  647b980c49850404ea2db47db8ec504c   \n",
      "3        http://www.mtbaker.wednet.edu  2cc46b37742f870c0904d2a6f8adcd2e   \n",
      "4                  https://www.btc.edu  52dbbe006552f49c9a32e5dee5e3f7ce   \n",
      "\n",
      "                                    l_name  latitude  longitude  \\\n",
      "0                          *REQUIRED* text       NaN        NaN   \n",
      "1  Depressive and Bipolar Support Alliance       NaN        NaN   \n",
      "2     Bellingham Parks Recreation Division       NaN        NaN   \n",
      "3              Mount Baker School District       NaN        NaN   \n",
      "4             Bellingham Technical College       NaN        NaN   \n",
      "\n",
      "               address_1 address_2        city  \\\n",
      "0                   text      text        text   \n",
      "1    800 Chestnut Street  Suite 1C  Bellingham   \n",
      "2      210 Lottie Street            Bellingham   \n",
      "3       4956 Deming Road                Deming   \n",
      "4  3028 Lindbergh Avenue            Bellingham   \n",
      "\n",
      "                   state_province          postal_code  \n",
      "0  Two character state (All caps)  99999 or 99999-9999  \n",
      "1                              WA                98225  \n",
      "2                              WA                98225  \n",
      "3                              WA                98244  \n",
      "4                              WA                98225  \n",
      "Importing data ...\n"
     ]
    },
    {
     "name": "stderr",
     "output_type": "stream",
     "text": [
      "/tmp/ipykernel_7712/550769966.py:12: FutureWarning: The default value of regex will change from True to False in a future version.\n",
      "  df_final = pandas_dedupe.dedupe_dataframe(pg_feed.df, [\n",
      "o_name : western washington university\n",
      "address_1 : 516 high street\n",
      "address_2 : room 540\n",
      "city : bellingham\n",
      "state_province : wa\n",
      "postal_code : 98225\n",
      "o_url : http://www.wwu.edu\n",
      "\n",
      "o_name : western washington university\n",
      "address_1 : 516 high street\n",
      "address_2 : room 280\n",
      "city : bellingham\n",
      "state_province : wa\n",
      "postal_code : 98225\n",
      "o_url : http://www.wwu.edu\n",
      "\n",
      "0/10 positive, 0/10 negative\n",
      "Do these records refer to the same thing?\n",
      "(y)es / (n)o / (u)nsure / (f)inished\n"
     ]
    },
    {
     "name": "stdout",
     "output_type": "stream",
     "text": [
      "Starting active labeling...\n",
      "y\n"
     ]
    },
    {
     "name": "stderr",
     "output_type": "stream",
     "text": [
      "o_name : western washington university\n",
      "address_1 : 516 high street\n",
      "address_2 : room 540\n",
      "city : bellingham\n",
      "state_province : wa\n",
      "postal_code : 98225\n",
      "o_url : http://www.wwu.edu\n",
      "\n",
      "o_name : western washington university\n",
      "address_1 : 516 high street\n",
      "address_2 : 2nd floor, room 256\n",
      "city : bellingham\n",
      "state_province : wa\n",
      "postal_code : 98225\n",
      "o_url : http://www.wwu.edu\n",
      "\n",
      "1/10 positive, 0/10 negative\n",
      "Do these records refer to the same thing?\n",
      "(y)es / (n)o / (u)nsure / (f)inished / (p)revious\n"
     ]
    },
    {
     "name": "stdout",
     "output_type": "stream",
     "text": [
      "y\n"
     ]
    },
    {
     "name": "stderr",
     "output_type": "stream",
     "text": [
      "o_name : bellingham food bank\n",
      "address_1 : 1824 ellis street\n",
      "address_2 : \n",
      "city : bellingham\n",
      "state_province : wa\n",
      "postal_code : 98225\n",
      "o_url : http://bellinghamfoodbank.org\n",
      "\n",
      "o_name : bellingham food bank\n",
      "address_1 : 1824 ellis st\n",
      "address_2 : None\n",
      "city : bellingham\n",
      "state_province : wa\n",
      "postal_code : 98225\n",
      "o_url : https://www.bellinghamfoodbank.org/\n",
      "\n",
      "2/10 positive, 0/10 negative\n",
      "Do these records refer to the same thing?\n",
      "(y)es / (n)o / (u)nsure / (f)inished / (p)revious\n"
     ]
    },
    {
     "name": "stdout",
     "output_type": "stream",
     "text": [
      "y\n"
     ]
    },
    {
     "name": "stderr",
     "output_type": "stream",
     "text": [
      "o_name : blaine food bank\n",
      "address_1 : 500 c street\n",
      "address_2 : \n",
      "city : blaine\n",
      "state_province : wa\n",
      "postal_code : 98230\n",
      "o_url : https://www.blainefoodbank.org\n",
      "\n",
      "o_name : blaine food bank\n",
      "address_1 : 500 c st\n",
      "address_2 : None\n",
      "city : blaine\n",
      "state_province : wa\n",
      "postal_code : 98230\n",
      "o_url : https://www.blainefoodbank.org/\n",
      "\n",
      "3/10 positive, 0/10 negative\n",
      "Do these records refer to the same thing?\n",
      "(y)es / (n)o / (u)nsure / (f)inished / (p)revious\n"
     ]
    },
    {
     "name": "stdout",
     "output_type": "stream",
     "text": [
      "y\n"
     ]
    },
    {
     "name": "stderr",
     "output_type": "stream",
     "text": [
      "o_name : lummi nation\n",
      "address_1 : 2665 kwina road\n",
      "address_2 : \n",
      "city : bellingham\n",
      "state_province : wa\n",
      "postal_code : 98226\n",
      "o_url : https://www.lummi-nsn.gov\n",
      "\n",
      "o_name : lummi nation\n",
      "address_1 : 2616 kwina road\n",
      "address_2 : \n",
      "city : bellingham\n",
      "state_province : wa\n",
      "postal_code : 98226\n",
      "o_url : https://www.lummi-nsn.gov\n",
      "\n",
      "4/10 positive, 0/10 negative\n",
      "Do these records refer to the same thing?\n",
      "(y)es / (n)o / (u)nsure / (f)inished / (p)revious\n"
     ]
    },
    {
     "name": "stdout",
     "output_type": "stream",
     "text": [
      "n\n"
     ]
    },
    {
     "name": "stderr",
     "output_type": "stream",
     "text": [
      "o_name : foothills food bank\n",
      "address_1 : 8255 kendall road\n",
      "address_2 : \n",
      "city : maple falls\n",
      "state_province : wa\n",
      "postal_code : 98266\n",
      "o_url : http://www.foothillsfoodbank.org\n",
      "\n",
      "o_name : foothills food bank\n",
      "address_1 : 8251 kendall road\n",
      "address_2 : \n",
      "city : sumas\n",
      "state_province : wa\n",
      "postal_code : 98295\n",
      "o_url : http://www.foothillsfoodbank.org\n",
      "\n",
      "4/10 positive, 1/10 negative\n",
      "Do these records refer to the same thing?\n",
      "(y)es / (n)o / (u)nsure / (f)inished / (p)revious\n"
     ]
    },
    {
     "name": "stdout",
     "output_type": "stream",
     "text": [
      "p\n"
     ]
    },
    {
     "name": "stderr",
     "output_type": "stream",
     "text": [
      "o_name : lummi nation\n",
      "address_1 : 2665 kwina road\n",
      "address_2 : \n",
      "city : bellingham\n",
      "state_province : wa\n",
      "postal_code : 98226\n",
      "o_url : https://www.lummi-nsn.gov\n",
      "\n",
      "o_name : lummi nation\n",
      "address_1 : 2616 kwina road\n",
      "address_2 : \n",
      "city : bellingham\n",
      "state_province : wa\n",
      "postal_code : 98226\n",
      "o_url : https://www.lummi-nsn.gov\n",
      "\n",
      "4/10 positive, 0/10 negative\n",
      "Do these records refer to the same thing?\n",
      "(y)es / (n)o / (u)nsure / (f)inished\n"
     ]
    },
    {
     "name": "stdout",
     "output_type": "stream",
     "text": [
      "y\n"
     ]
    },
    {
     "name": "stderr",
     "output_type": "stream",
     "text": [
      "o_name : foothills food bank\n",
      "address_1 : 8255 kendall road\n",
      "address_2 : \n",
      "city : maple falls\n",
      "state_province : wa\n",
      "postal_code : 98266\n",
      "o_url : http://www.foothillsfoodbank.org\n",
      "\n",
      "o_name : foothills food bank\n",
      "address_1 : 8251 kendall road\n",
      "address_2 : \n",
      "city : sumas\n",
      "state_province : wa\n",
      "postal_code : 98295\n",
      "o_url : http://www.foothillsfoodbank.org\n",
      "\n",
      "5/10 positive, 0/10 negative\n",
      "Do these records refer to the same thing?\n",
      "(y)es / (n)o / (u)nsure / (f)inished / (p)revious\n"
     ]
    },
    {
     "name": "stdout",
     "output_type": "stream",
     "text": [
      "y\n"
     ]
    },
    {
     "name": "stderr",
     "output_type": "stream",
     "text": [
      "o_name : whatcom county courts\n",
      "address_1 : 311 grand avenue\n",
      "address_2 : suite 401\n",
      "city : bellingham\n",
      "state_province : wa\n",
      "postal_code : 98225\n",
      "o_url : http://www.courts.wa.gov/court_dir/orgs/296.html\n",
      "\n",
      "o_name : whatcom county\n",
      "address_1 : 311 grand avenue\n",
      "address_2 : \n",
      "city : bellingham\n",
      "state_province : wa\n",
      "postal_code : 98225\n",
      "o_url : http://www.co.whatcom.wa.us\n",
      "\n",
      "6/10 positive, 0/10 negative\n",
      "Do these records refer to the same thing?\n",
      "(y)es / (n)o / (u)nsure / (f)inished / (p)revious\n"
     ]
    },
    {
     "name": "stdout",
     "output_type": "stream",
     "text": [
      "y\n"
     ]
    },
    {
     "name": "stderr",
     "output_type": "stream",
     "text": [
      "o_name : whatcom county courts\n",
      "address_1 : 311 grand avenue\n",
      "address_2 : suite 301\n",
      "city : bellingham\n",
      "state_province : wa\n",
      "postal_code : 98225\n",
      "o_url : http://www.courts.wa.gov/court_dir/orgs/296.html\n",
      "\n",
      "o_name : whatcom county\n",
      "address_1 : 311 grand avenue\n",
      "address_2 : \n",
      "city : bellingham\n",
      "state_province : wa\n",
      "postal_code : 98225\n",
      "o_url : http://www.co.whatcom.wa.us\n",
      "\n",
      "7/10 positive, 0/10 negative\n",
      "Do these records refer to the same thing?\n",
      "(y)es / (n)o / (u)nsure / (f)inished / (p)revious\n"
     ]
    },
    {
     "name": "stdout",
     "output_type": "stream",
     "text": [
      "y\n"
     ]
    },
    {
     "name": "stderr",
     "output_type": "stream",
     "text": [
      "o_name : project hope\n",
      "address_1 : 205 south british columbia avenue\n",
      "address_2 : suite 105\n",
      "city : lynden\n",
      "state_province : wa\n",
      "postal_code : 98264\n",
      "o_url : https://www.projecthopelynden.org\n",
      "\n",
      "o_name : project hope\n",
      "address_1 : 205 s british columbia ave\n",
      "address_2 : None\n",
      "city : lynden\n",
      "state_province : wa\n",
      "postal_code : 98264\n",
      "o_url : https://www.projecthopelynden.org/project-hope-food-bank/\n",
      "\n",
      "8/10 positive, 0/10 negative\n",
      "Do these records refer to the same thing?\n",
      "(y)es / (n)o / (u)nsure / (f)inished / (p)revious\n"
     ]
    },
    {
     "name": "stdout",
     "output_type": "stream",
     "text": [
      "y\n"
     ]
    },
    {
     "name": "stderr",
     "output_type": "stream",
     "text": [
      "o_name : lummi nation\n",
      "address_1 : 2616 kwina road\n",
      "address_2 : \n",
      "city : bellingham\n",
      "state_province : wa\n",
      "postal_code : 98226\n",
      "o_url : https://www.lummi-nsn.gov\n",
      "\n",
      "o_name : lummi nation\n",
      "address_1 : 2830 kwina road\n",
      "address_2 : \n",
      "city : bellingham\n",
      "state_province : wa\n",
      "postal_code : 98226\n",
      "o_url : https://www.lummi-nsn.gov\n",
      "\n",
      "9/10 positive, 0/10 negative\n",
      "Do these records refer to the same thing?\n",
      "(y)es / (n)o / (u)nsure / (f)inished / (p)revious\n"
     ]
    },
    {
     "name": "stdout",
     "output_type": "stream",
     "text": [
      "y\n"
     ]
    },
    {
     "name": "stderr",
     "output_type": "stream",
     "text": [
      "o_name : sea mar community health centers\n",
      "address_1 : 6046 portal way\n",
      "address_2 : \n",
      "city : ferndale\n",
      "state_province : wa\n",
      "postal_code : 98248\n",
      "o_url : https://www.seamar.org/\n",
      "\n",
      "o_name : sea mar community health center (ferndale)\n",
      "address_1 : 6046 portal way,unit, 201, building 101\n",
      "address_2 : None\n",
      "city : ferndale\n",
      "state_province : wa\n",
      "postal_code : 98248\n",
      "o_url : \n",
      "\n",
      "10/10 positive, 0/10 negative\n",
      "Do these records refer to the same thing?\n",
      "(y)es / (n)o / (u)nsure / (f)inished / (p)revious\n"
     ]
    },
    {
     "name": "stdout",
     "output_type": "stream",
     "text": [
      "y\n"
     ]
    },
    {
     "name": "stderr",
     "output_type": "stream",
     "text": [
      "o_name : sea mar community health centers\n",
      "address_1 : 4455 cordata parkway\n",
      "address_2 : \n",
      "city : bellingham\n",
      "state_province : wa\n",
      "postal_code : 98226\n",
      "o_url : https://www.seamar.org/\n",
      "\n",
      "o_name : sea mar community health center (bellingham)\n",
      "address_1 : 4455 cordata pkwy\n",
      "address_2 : None\n",
      "city : bellingham\n",
      "state_province : wa\n",
      "postal_code : 98226\n",
      "o_url : https://www.seamar.org/whatcom-medical-bellingham.html\n",
      "\n",
      "11/10 positive, 0/10 negative\n",
      "Do these records refer to the same thing?\n",
      "(y)es / (n)o / (u)nsure / (f)inished / (p)revious\n"
     ]
    },
    {
     "name": "stdout",
     "output_type": "stream",
     "text": [
      "y\n"
     ]
    },
    {
     "name": "stderr",
     "output_type": "stream",
     "text": [
      "o_name : north sound cooling centers\n",
      "address_1 : 2095 main street\n",
      "address_2 : \n",
      "city : ferndale\n",
      "state_province : wa\n",
      "postal_code : 98248\n",
      "o_url : \n",
      "\n",
      "o_name : north sound cooling centers\n",
      "address_1 : 2125 main street\n",
      "address_2 : \n",
      "city : ferndale\n",
      "state_province : wa\n",
      "postal_code : 98248\n",
      "o_url : \n",
      "\n",
      "12/10 positive, 0/10 negative\n",
      "Do these records refer to the same thing?\n",
      "(y)es / (n)o / (u)nsure / (f)inished / (p)revious\n"
     ]
    },
    {
     "name": "stdout",
     "output_type": "stream",
     "text": [
      "n\n"
     ]
    },
    {
     "name": "stderr",
     "output_type": "stream",
     "text": [
      "o_name : whatcom county health department\n",
      "address_1 : 1500 north state street\n",
      "address_2 : \n",
      "city : bellingham\n",
      "state_province : wa\n",
      "postal_code : 98225\n",
      "o_url : http://www.whatcomcounty.us/360/health-department\n",
      "\n",
      "o_name : whatcom county courts\n",
      "address_1 : 1020 north state street\n",
      "address_2 : \n",
      "city : bellingham\n",
      "state_province : wa\n",
      "postal_code : 98225\n",
      "o_url : http://www.courts.wa.gov/court_dir/orgs/296.html\n",
      "\n",
      "12/10 positive, 1/10 negative\n",
      "Do these records refer to the same thing?\n",
      "(y)es / (n)o / (u)nsure / (f)inished / (p)revious\n"
     ]
    },
    {
     "name": "stdout",
     "output_type": "stream",
     "text": [
      "n\n"
     ]
    },
    {
     "name": "stderr",
     "output_type": "stream",
     "text": [
      "o_name : whatcom county courts\n",
      "address_1 : 1020 north state street\n",
      "address_2 : \n",
      "city : bellingham\n",
      "state_province : wa\n",
      "postal_code : 98225\n",
      "o_url : http://www.courts.wa.gov/court_dir/orgs/296.html\n",
      "\n",
      "o_name : whatcom county pregnancy clinic\n",
      "address_1 : 1310 north state street\n",
      "address_2 : \n",
      "city : bellingham\n",
      "state_province : wa\n",
      "postal_code : 98225\n",
      "o_url : http://www.whatcomclinic.com\n",
      "\n",
      "12/10 positive, 2/10 negative\n",
      "Do these records refer to the same thing?\n",
      "(y)es / (n)o / (u)nsure / (f)inished / (p)revious\n"
     ]
    },
    {
     "name": "stdout",
     "output_type": "stream",
     "text": [
      "n\n"
     ]
    },
    {
     "name": "stderr",
     "output_type": "stream",
     "text": [
      "o_name : whatcom county courts\n",
      "address_1 : 205 4th street\n",
      "address_2 : \n",
      "city : lynden\n",
      "state_province : wa\n",
      "postal_code : 98264\n",
      "o_url : http://www.courts.wa.gov/court_dir/orgs/296.html\n",
      "\n",
      "o_name : whatcom county\n",
      "address_1 : 215 north commercial street\n",
      "address_2 : \n",
      "city : bellingham\n",
      "state_province : wa\n",
      "postal_code : 98225\n",
      "o_url : http://www.co.whatcom.wa.us\n",
      "\n",
      "12/10 positive, 3/10 negative\n",
      "Do these records refer to the same thing?\n",
      "(y)es / (n)o / (u)nsure / (f)inished / (p)revious\n"
     ]
    },
    {
     "name": "stdout",
     "output_type": "stream",
     "text": [
      "n\n"
     ]
    },
    {
     "name": "stderr",
     "output_type": "stream",
     "text": [
      "o_name : north sound cooling centers\n",
      "address_1 : 7506 kendall road\n",
      "address_2 : \n",
      "city : maple falls\n",
      "state_province : wa\n",
      "postal_code : 98266\n",
      "o_url : \n",
      "\n",
      "o_name : north sound cooling centers\n",
      "address_1 : 8251 kendall road\n",
      "address_2 : \n",
      "city : maple falls\n",
      "state_province : wa\n",
      "postal_code : 98266\n",
      "o_url : \n",
      "\n",
      "12/10 positive, 4/10 negative\n",
      "Do these records refer to the same thing?\n",
      "(y)es / (n)o / (u)nsure / (f)inished / (p)revious\n"
     ]
    },
    {
     "name": "stdout",
     "output_type": "stream",
     "text": [
      "y\n"
     ]
    },
    {
     "name": "stderr",
     "output_type": "stream",
     "text": [
      "o_name : bellingham food bank\n",
      "address_1 : 2717 alderwood avenue\n",
      "address_2 : \n",
      "city : bellingham\n",
      "state_province : wa\n",
      "postal_code : 98225\n",
      "o_url : http://bellinghamfoodbank.org\n",
      "\n",
      "o_name : bellingham food bank\n",
      "address_1 : 2020 cornwall avenue\n",
      "address_2 : \n",
      "city : bellingham\n",
      "state_province : wa\n",
      "postal_code : 98225\n",
      "o_url : http://bellinghamfoodbank.org\n",
      "\n",
      "13/10 positive, 4/10 negative\n",
      "Do these records refer to the same thing?\n",
      "(y)es / (n)o / (u)nsure / (f)inished / (p)revious\n"
     ]
    },
    {
     "name": "stdout",
     "output_type": "stream",
     "text": [
      "n\n"
     ]
    },
    {
     "name": "stderr",
     "output_type": "stream",
     "text": [
      "o_name : whatcom county health department\n",
      "address_1 : 1500 north state street\n",
      "address_2 : \n",
      "city : bellingham\n",
      "state_province : wa\n",
      "postal_code : 98225\n",
      "o_url : http://www.whatcomcounty.us/360/health-department\n",
      "\n",
      "o_name : whatcom county health department\n",
      "address_1 : 1500 n state st\n",
      "address_2 : None\n",
      "city : bellingham\n",
      "state_province : wa\n",
      "postal_code : 98225\n",
      "o_url : https://www.whatcomcounty.us/360/health-department\n",
      "\n",
      "13/10 positive, 5/10 negative\n",
      "Do these records refer to the same thing?\n",
      "(y)es / (n)o / (u)nsure / (f)inished / (p)revious\n"
     ]
    },
    {
     "name": "stdout",
     "output_type": "stream",
     "text": [
      "y\n"
     ]
    },
    {
     "name": "stderr",
     "output_type": "stream",
     "text": [
      "o_name : nooksack valley school district\n",
      "address_1 : 3326 east badger road\n",
      "address_2 : \n",
      "city : everson\n",
      "state_province : wa\n",
      "postal_code : 98247\n",
      "o_url : https://www.nv.k12.wa.us\n",
      "\n",
      "o_name : nooksack valley school\n",
      "address_1 : 3326 e badger rd\n",
      "address_2 : None\n",
      "city : everson\n",
      "state_province : wa\n",
      "postal_code : 98247\n",
      "o_url : \n",
      "\n",
      "14/10 positive, 5/10 negative\n",
      "Do these records refer to the same thing?\n",
      "(y)es / (n)o / (u)nsure / (f)inished / (p)revious\n"
     ]
    },
    {
     "name": "stdout",
     "output_type": "stream",
     "text": [
      "y\n"
     ]
    },
    {
     "name": "stderr",
     "output_type": "stream",
     "text": [
      "o_name : whatcom county sheriffs office\n",
      "address_1 : 311 grand avenue\n",
      "address_2 : \n",
      "city : bellingham\n",
      "state_province : wa\n",
      "postal_code : 98225\n",
      "o_url : http://www.co.whatcom.wa.us/sheriff/\n",
      "\n",
      "o_name : whatcom county\n",
      "address_1 : 311 grand avenue\n",
      "address_2 : \n",
      "city : bellingham\n",
      "state_province : wa\n",
      "postal_code : 98225\n",
      "o_url : http://www.co.whatcom.wa.us\n",
      "\n",
      "15/10 positive, 5/10 negative\n",
      "Do these records refer to the same thing?\n",
      "(y)es / (n)o / (u)nsure / (f)inished / (p)revious\n"
     ]
    },
    {
     "name": "stdout",
     "output_type": "stream",
     "text": [
      "y\n"
     ]
    },
    {
     "name": "stderr",
     "output_type": "stream",
     "text": [
      "o_name : planned parenthood\n",
      "address_1 : 1530 ellis st.\n",
      "address_2 : \n",
      "city : bellingham\n",
      "state_province : wa\n",
      "postal_code : 98225\n",
      "o_url : http://ppgnhi.org\n",
      "\n",
      "o_name : planned parenthood (bellingham)\n",
      "address_1 : 1530 ellis st\n",
      "address_2 : None\n",
      "city : bellingham\n",
      "state_province : wa\n",
      "postal_code : 98225\n",
      "o_url : https://www.plannedparenthood.org/health-center/washington/bellingham/98225/bellingham-health-center-2454-91780\n",
      "\n",
      "16/10 positive, 5/10 negative\n",
      "Do these records refer to the same thing?\n",
      "(y)es / (n)o / (u)nsure / (f)inished / (p)revious\n"
     ]
    },
    {
     "name": "stdout",
     "output_type": "stream",
     "text": [
      "y\n"
     ]
    },
    {
     "name": "stderr",
     "output_type": "stream",
     "text": [
      "o_name : washington state department of labor industries\n",
      "address_1 : 1720 ellis st\n",
      "address_2 : suite 200\n",
      "city : bellingham\n",
      "state_province : wa\n",
      "postal_code : 98225\n",
      "o_url : http://lni.wa.gov\n",
      "\n",
      "o_name : usda\n",
      "address_1 : 1701 ellis street\n",
      "address_2 : suite 221\n",
      "city : bellingham\n",
      "state_province : wa\n",
      "postal_code : 98225\n",
      "o_url : \n",
      "\n",
      "17/10 positive, 5/10 negative\n",
      "Do these records refer to the same thing?\n",
      "(y)es / (n)o / (u)nsure / (f)inished / (p)revious\n"
     ]
    },
    {
     "name": "stdout",
     "output_type": "stream",
     "text": [
      "n\n"
     ]
    },
    {
     "name": "stderr",
     "output_type": "stream",
     "text": [
      "o_name : saint pauls episcopal church\n",
      "address_1 : 2116 walnut street\n",
      "address_2 : \n",
      "city : bellingham\n",
      "state_province : wa\n",
      "postal_code : 98225\n",
      "o_url : http://stpaulsbellingham.org\n",
      "\n",
      "o_name : st. paul episcopal church - alms ministry\n",
      "address_1 : 2117 walnut st\n",
      "address_2 : None\n",
      "city : bellingham\n",
      "state_province : wa\n",
      "postal_code : 98225\n",
      "o_url : \n",
      "\n",
      "17/10 positive, 6/10 negative\n",
      "Do these records refer to the same thing?\n",
      "(y)es / (n)o / (u)nsure / (f)inished / (p)revious\n"
     ]
    },
    {
     "name": "stdout",
     "output_type": "stream",
     "text": [
      "n\n"
     ]
    },
    {
     "name": "stderr",
     "output_type": "stream",
     "text": [
      "o_name : bellingham food bank\n",
      "address_1 : 4173 meridian street\n",
      "address_2 : \n",
      "city : bellingham\n",
      "state_province : wa\n",
      "postal_code : 98226\n",
      "o_url : http://bellinghamfoodbank.org\n",
      "\n",
      "o_name : bellingham food bank\n",
      "address_1 : 1175 jersey street\n",
      "address_2 : \n",
      "city : bellingham\n",
      "state_province : wa\n",
      "postal_code : 98225\n",
      "o_url : http://bellinghamfoodbank.org\n",
      "\n",
      "17/10 positive, 7/10 negative\n",
      "Do these records refer to the same thing?\n",
      "(y)es / (n)o / (u)nsure / (f)inished / (p)revious\n"
     ]
    },
    {
     "name": "stdout",
     "output_type": "stream",
     "text": [
      "n\n"
     ]
    },
    {
     "name": "stderr",
     "output_type": "stream",
     "text": [
      "o_name : community assistance program\n",
      "address_1 : 382 boblett street\n",
      "address_2 : \n",
      "city : blaine\n",
      "state_province : wa\n",
      "postal_code : 98230\n",
      "o_url : http://blainecap.org\n",
      "\n",
      "o_name : community assistance program\n",
      "address_1 : 902 adelia street\n",
      "address_2 : \n",
      "city : blaine\n",
      "state_province : wa\n",
      "postal_code : 98230\n",
      "o_url : http://blainecap.org\n",
      "\n",
      "17/10 positive, 8/10 negative\n",
      "Do these records refer to the same thing?\n",
      "(y)es / (n)o / (u)nsure / (f)inished / (p)revious\n"
     ]
    },
    {
     "name": "stdout",
     "output_type": "stream",
     "text": [
      "n\n"
     ]
    },
    {
     "name": "stderr",
     "output_type": "stream",
     "text": [
      "o_name : whatcom county courts\n",
      "address_1 : 2014 c street\n",
      "address_2 : \n",
      "city : bellingham\n",
      "state_province : wa\n",
      "postal_code : 98225\n",
      "o_url : http://www.courts.wa.gov/court_dir/orgs/296.html\n",
      "\n",
      "o_name : whatcom county courts\n",
      "address_1 : 205 4th street\n",
      "address_2 : \n",
      "city : lynden\n",
      "state_province : wa\n",
      "postal_code : 98264\n",
      "o_url : http://www.courts.wa.gov/court_dir/orgs/296.html\n",
      "\n",
      "17/10 positive, 9/10 negative\n",
      "Do these records refer to the same thing?\n",
      "(y)es / (n)o / (u)nsure / (f)inished / (p)revious\n"
     ]
    },
    {
     "name": "stdout",
     "output_type": "stream",
     "text": [
      "n\n"
     ]
    },
    {
     "name": "stderr",
     "output_type": "stream",
     "text": [
      "o_name : unity care northwest\n",
      "address_1 : 6060 portal way\n",
      "address_2 : \n",
      "city : ferndale\n",
      "state_province : wa\n",
      "postal_code : 98248\n",
      "o_url : http://unitycarenw.org\n",
      "\n",
      "o_name : unity care nw (ferndale health center)\n",
      "address_1 : 6060 portal way\n",
      "address_2 : None\n",
      "city : ferndale\n",
      "state_province : wa\n",
      "postal_code : 98248\n",
      "o_url : \n",
      "\n",
      "17/10 positive, 10/10 negative\n",
      "Do these records refer to the same thing?\n",
      "(y)es / (n)o / (u)nsure / (f)inished / (p)revious\n"
     ]
    },
    {
     "name": "stdout",
     "output_type": "stream",
     "text": [
      "y\n"
     ]
    },
    {
     "name": "stderr",
     "output_type": "stream",
     "text": [
      "o_name : bellingham food bank\n",
      "address_1 : 4173 meridian street\n",
      "address_2 : \n",
      "city : bellingham\n",
      "state_province : wa\n",
      "postal_code : 98226\n",
      "o_url : http://bellinghamfoodbank.org\n",
      "\n",
      "o_name : satellite food bank at christ the king community church\n",
      "address_1 : 4173 meridian st\n",
      "address_2 : None\n",
      "city : bellingham\n",
      "state_province : wa\n",
      "postal_code : 98226\n",
      "o_url : \n",
      "\n",
      "18/10 positive, 10/10 negative\n",
      "Do these records refer to the same thing?\n",
      "(y)es / (n)o / (u)nsure / (f)inished / (p)revious\n"
     ]
    },
    {
     "name": "stdout",
     "output_type": "stream",
     "text": [
      "n\n"
     ]
    },
    {
     "name": "stderr",
     "output_type": "stream",
     "text": [
      "o_name : brigid collins family support center\n",
      "address_1 : 1231 north garden street\n",
      "address_2 : suite 200\n",
      "city : bellingham\n",
      "state_province : wa\n",
      "postal_code : 98225\n",
      "o_url : http://www.brigidcollins.org\n",
      "\n",
      "o_name : brigid collins family support center (bellingham)\n",
      "address_1 : 1231 n garden st,200\n",
      "address_2 : None\n",
      "city : bellingham\n",
      "state_province : wa\n",
      "postal_code : 98225\n",
      "o_url : \n",
      "\n",
      "18/10 positive, 11/10 negative\n",
      "Do these records refer to the same thing?\n",
      "(y)es / (n)o / (u)nsure / (f)inished / (p)revious\n"
     ]
    },
    {
     "name": "stdout",
     "output_type": "stream",
     "text": [
      "y\n"
     ]
    },
    {
     "name": "stderr",
     "output_type": "stream",
     "text": [
      "o_name : unity care northwest\n",
      "address_1 : 220 unity street\n",
      "address_2 : \n",
      "city : bellingham\n",
      "state_province : wa\n",
      "postal_code : 98225\n",
      "o_url : http://unitycarenw.org\n",
      "\n",
      "o_name : unity care nw (bellingham health center)\n",
      "address_1 : 220 unity st\n",
      "address_2 : None\n",
      "city : bellingham\n",
      "state_province : wa\n",
      "postal_code : 98225\n",
      "o_url : \n",
      "\n",
      "19/10 positive, 11/10 negative\n",
      "Do these records refer to the same thing?\n",
      "(y)es / (n)o / (u)nsure / (f)inished / (p)revious\n"
     ]
    },
    {
     "name": "stdout",
     "output_type": "stream",
     "text": [
      "n\n"
     ]
    },
    {
     "name": "stderr",
     "output_type": "stream",
     "text": [
      "o_name : salvation army - bellingham\n",
      "address_1 : 2912 northwest avenue\n",
      "address_2 : \n",
      "city : bellingham\n",
      "state_province : wa\n",
      "postal_code : 98225\n",
      "o_url : https://bellingham.salvationarmy.org\n",
      "\n",
      "o_name : salvation army - bellingham\n",
      "address_1 : 1515 birchwood avenue\n",
      "address_2 : \n",
      "city : bellingham\n",
      "state_province : wa\n",
      "postal_code : 98225\n",
      "o_url : https://bellingham.salvationarmy.org\n",
      "\n",
      "19/10 positive, 12/10 negative\n",
      "Do these records refer to the same thing?\n",
      "(y)es / (n)o / (u)nsure / (f)inished / (p)revious\n"
     ]
    },
    {
     "name": "stdout",
     "output_type": "stream",
     "text": [
      "n\n"
     ]
    },
    {
     "name": "stderr",
     "output_type": "stream",
     "text": [
      "o_name : whatcom county courts\n",
      "address_1 : 1020 north state street\n",
      "address_2 : \n",
      "city : bellingham\n",
      "state_province : wa\n",
      "postal_code : 98225\n",
      "o_url : http://www.courts.wa.gov/court_dir/orgs/296.html\n",
      "\n",
      "o_name : whatcom county courts\n",
      "address_1 : 2014 c street\n",
      "address_2 : \n",
      "city : bellingham\n",
      "state_province : wa\n",
      "postal_code : 98225\n",
      "o_url : http://www.courts.wa.gov/court_dir/orgs/296.html\n",
      "\n",
      "19/10 positive, 13/10 negative\n",
      "Do these records refer to the same thing?\n",
      "(y)es / (n)o / (u)nsure / (f)inished / (p)revious\n"
     ]
    },
    {
     "name": "stdout",
     "output_type": "stream",
     "text": [
      "n\n"
     ]
    },
    {
     "name": "stderr",
     "output_type": "stream",
     "text": [
      "o_name : foothills food bank\n",
      "address_1 : 8255 kendall road\n",
      "address_2 : \n",
      "city : maple falls\n",
      "state_province : wa\n",
      "postal_code : 98266\n",
      "o_url : http://www.foothillsfoodbank.org\n",
      "\n",
      "o_name : foothills food bank (saint peters church)\n",
      "address_1 : east whatcom regional resource center,8255 kendal road\n",
      "address_2 : None\n",
      "city : maple falls\n",
      "state_province : wa\n",
      "postal_code : 98266\n",
      "o_url : \n",
      "\n",
      "19/10 positive, 14/10 negative\n",
      "Do these records refer to the same thing?\n",
      "(y)es / (n)o / (u)nsure / (f)inished / (p)revious\n"
     ]
    },
    {
     "name": "stdout",
     "output_type": "stream",
     "text": [
      "n\n"
     ]
    },
    {
     "name": "stderr",
     "output_type": "stream",
     "text": [
      "o_name : catholic community services of western washington in whatcom county\n",
      "address_1 : 1133 railroad avenue\n",
      "address_2 : suite 100\n",
      "city : bellingham\n",
      "state_province : wa\n",
      "postal_code : 98225\n",
      "o_url : http://www.ccsww.org\n",
      "\n",
      "o_name : catholic community services (whatcom county)\n",
      "address_1 : 1133 railroad ave, 100\n",
      "address_2 : None\n",
      "city : bellingham\n",
      "state_province : wa\n",
      "postal_code : 98225\n",
      "o_url : \n",
      "\n",
      "19/10 positive, 15/10 negative\n",
      "Do these records refer to the same thing?\n",
      "(y)es / (n)o / (u)nsure / (f)inished / (p)revious\n"
     ]
    },
    {
     "name": "stdout",
     "output_type": "stream",
     "text": [
      "n\n"
     ]
    },
    {
     "name": "stderr",
     "output_type": "stream",
     "text": [
      "o_name : opportunity council in whatcom county\n",
      "address_1 : 1111 cornwall avenue\n",
      "address_2 : suite c\n",
      "city : bellingham\n",
      "state_province : wa\n",
      "postal_code : 98225\n",
      "o_url : http://www.oppco.org\n",
      "\n",
      "o_name : opportunity council (whatcom san juan)\n",
      "address_1 : 1111 cornwall ave,suite c\n",
      "address_2 : None\n",
      "city : bellingham\n",
      "state_province : wa\n",
      "postal_code : 98225\n",
      "o_url : https://www.oppco.org/\n",
      "\n",
      "19/10 positive, 16/10 negative\n",
      "Do these records refer to the same thing?\n",
      "(y)es / (n)o / (u)nsure / (f)inished / (p)revious\n"
     ]
    },
    {
     "name": "stdout",
     "output_type": "stream",
     "text": [
      "y\n"
     ]
    },
    {
     "name": "stderr",
     "output_type": "stream",
     "text": [
      "o_name : lummi nation\n",
      "address_1 : 2592 kwina road\n",
      "address_2 : \n",
      "city : bellingham\n",
      "state_province : wa\n",
      "postal_code : 98226\n",
      "o_url : https://www.lummi-nsn.gov\n",
      "\n",
      "o_name : lummi tribal health center\n",
      "address_1 : 2592 kwina rd\n",
      "address_2 : None\n",
      "city : bellingham\n",
      "state_province : wa\n",
      "postal_code : 98226\n",
      "o_url : https://www.lummi-nsn.gov/website.phppageid433\n",
      "\n",
      "20/10 positive, 16/10 negative\n",
      "Do these records refer to the same thing?\n",
      "(y)es / (n)o / (u)nsure / (f)inished / (p)revious\n"
     ]
    },
    {
     "name": "stdout",
     "output_type": "stream",
     "text": [
      "n\n"
     ]
    },
    {
     "name": "stderr",
     "output_type": "stream",
     "text": [
      "o_name : bellingham parks and recreation division\n",
      "address_1 : 210 lottie street\n",
      "address_2 : \n",
      "city : bellingham\n",
      "state_province : wa\n",
      "postal_code : 98225\n",
      "o_url : https://cob.org/services/recreation\n",
      "\n",
      "o_name : city of bellingham\n",
      "address_1 : 210 lottie street\n",
      "address_2 : \n",
      "city : bellingham\n",
      "state_province : wa\n",
      "postal_code : 98225\n",
      "o_url : https://cob.org\n",
      "\n",
      "20/10 positive, 17/10 negative\n",
      "Do these records refer to the same thing?\n",
      "(y)es / (n)o / (u)nsure / (f)inished / (p)revious\n"
     ]
    },
    {
     "name": "stdout",
     "output_type": "stream",
     "text": [
      "y\n"
     ]
    },
    {
     "name": "stderr",
     "output_type": "stream",
     "text": [
      "o_name : ideal option\n",
      "address_1 : 3800 byron avenue\n",
      "address_2 : suite 122\n",
      "city : bellingham\n",
      "state_province : wa\n",
      "postal_code : 98229\n",
      "o_url : https://www.idealoption.com/\n",
      "\n",
      "o_name : veterans affairs puget sound health care system\n",
      "address_1 : 3800 byron ave\n",
      "address_2 : suite 124\n",
      "city : bellingham\n",
      "state_province : wa\n",
      "postal_code : 98229\n",
      "o_url : http://www.pugetsound.va.gov/\n",
      "\n",
      "21/10 positive, 17/10 negative\n",
      "Do these records refer to the same thing?\n",
      "(y)es / (n)o / (u)nsure / (f)inished / (p)revious\n"
     ]
    },
    {
     "name": "stdout",
     "output_type": "stream",
     "text": [
      "n\n"
     ]
    },
    {
     "name": "stderr",
     "output_type": "stream",
     "text": [
      "o_name : dshs aging and long-term support administrations home and community services\n",
      "address_1 : 2219 rimland drive\n",
      "address_2 : suite 419\n",
      "city : bellingham\n",
      "state_province : wa\n",
      "postal_code : 98226\n",
      "o_url : https://www.dshs.wa.gov/altsa/home-and-community-services/agencies-helphcs\n",
      "\n",
      "o_name : dshs developmental disabilities administration\n",
      "address_1 : 2219 rimland drive\n",
      "address_2 : suite 315\n",
      "city : bellingham\n",
      "state_province : wa\n",
      "postal_code : 98226\n",
      "o_url : https://www.dshs.wa.gov/dda\n",
      "\n",
      "21/10 positive, 18/10 negative\n",
      "Do these records refer to the same thing?\n",
      "(y)es / (n)o / (u)nsure / (f)inished / (p)revious\n"
     ]
    },
    {
     "name": "stdout",
     "output_type": "stream",
     "text": [
      "n\n"
     ]
    },
    {
     "name": "stderr",
     "output_type": "stream",
     "text": [
      "o_name : foothills food bank\n",
      "address_1 : 8255 kendall road\n",
      "address_2 : \n",
      "city : maple falls\n",
      "state_province : wa\n",
      "postal_code : 98266\n",
      "o_url : http://www.foothillsfoodbank.org\n",
      "\n",
      "o_name : opportunity council - east whatcom regional resource center\n",
      "address_1 : 8251 kendall road\n",
      "address_2 : \n",
      "city : maple falls\n",
      "state_province : wa\n",
      "postal_code : 98266\n",
      "o_url : https://www.oppco.org/ewrrc\n",
      "\n",
      "21/10 positive, 19/10 negative\n",
      "Do these records refer to the same thing?\n",
      "(y)es / (n)o / (u)nsure / (f)inished / (p)revious\n"
     ]
    },
    {
     "name": "stdout",
     "output_type": "stream",
     "text": [
      "n\n"
     ]
    },
    {
     "name": "stderr",
     "output_type": "stream",
     "text": [
      "o_name : unity care northwest\n",
      "address_1 : 1616 cornwall avenue\n",
      "address_2 : \n",
      "city : bellingham\n",
      "state_province : wa\n",
      "postal_code : 98225\n",
      "o_url : http://unitycarenw.org\n",
      "\n",
      "o_name : unity care nw (bellingham, cornwall ave)\n",
      "address_1 : 1616 cornwall ave,ste. 205\n",
      "address_2 : None\n",
      "city : bellingham\n",
      "state_province : wa\n",
      "postal_code : 98225\n",
      "o_url : \n",
      "\n",
      "21/10 positive, 20/10 negative\n",
      "Do these records refer to the same thing?\n",
      "(y)es / (n)o / (u)nsure / (f)inished / (p)revious\n"
     ]
    },
    {
     "name": "stdout",
     "output_type": "stream",
     "text": [
      "y\n"
     ]
    },
    {
     "name": "stderr",
     "output_type": "stream",
     "text": [
      "o_name : whatcom county courts\n",
      "address_1 : 5694 2nd avenue\n",
      "address_2 : \n",
      "city : ferndale\n",
      "state_province : wa\n",
      "postal_code : 98248\n",
      "o_url : http://www.courts.wa.gov/court_dir/orgs/296.html\n",
      "\n",
      "o_name : ferndale community service cooperative - resource center\n",
      "address_1 : 5694 2nd ave\n",
      "address_2 : None\n",
      "city : ferndale\n",
      "state_province : wa\n",
      "postal_code : 98248\n",
      "o_url : \n",
      "\n",
      "22/10 positive, 20/10 negative\n",
      "Do these records refer to the same thing?\n",
      "(y)es / (n)o / (u)nsure / (f)inished / (p)revious\n"
     ]
    },
    {
     "name": "stdout",
     "output_type": "stream",
     "text": [
      "n\n"
     ]
    },
    {
     "name": "stderr",
     "output_type": "stream",
     "text": [
      "o_name : down syndrome outreach of whatcom county\n",
      "address_1 : 2602 mcleod rd\n",
      "address_2 : None\n",
      "city : bellingham\n",
      "state_province : wa\n",
      "postal_code : 98225\n",
      "o_url : \n",
      "\n",
      "o_name : arc of whatcom county\n",
      "address_1 : 2602 mcleod rd\n",
      "address_2 : None\n",
      "city : bellingham\n",
      "state_province : wa\n",
      "postal_code : 98225\n",
      "o_url : \n",
      "\n",
      "22/10 positive, 21/10 negative\n",
      "Do these records refer to the same thing?\n",
      "(y)es / (n)o / (u)nsure / (f)inished / (p)revious\n"
     ]
    },
    {
     "name": "stdout",
     "output_type": "stream",
     "text": [
      "y\n"
     ]
    },
    {
     "name": "stderr",
     "output_type": "stream",
     "text": [
      "o_name : bellingham food bank\n",
      "address_1 : 1824 ellis street\n",
      "address_2 : \n",
      "city : bellingham\n",
      "state_province : wa\n",
      "postal_code : 98225\n",
      "o_url : http://bellinghamfoodbank.org\n",
      "\n",
      "o_name : bellingham food bank\n",
      "address_1 : 1175 jersey street\n",
      "address_2 : \n",
      "city : bellingham\n",
      "state_province : wa\n",
      "postal_code : 98225\n",
      "o_url : http://bellinghamfoodbank.org\n",
      "\n",
      "23/10 positive, 21/10 negative\n",
      "Do these records refer to the same thing?\n",
      "(y)es / (n)o / (u)nsure / (f)inished / (p)revious\n"
     ]
    },
    {
     "name": "stdout",
     "output_type": "stream",
     "text": [
      "n\n"
     ]
    },
    {
     "name": "stderr",
     "output_type": "stream",
     "text": [
      "o_name : north sound cooling centers\n",
      "address_1 : 8251 kendall road\n",
      "address_2 : \n",
      "city : maple falls\n",
      "state_province : wa\n",
      "postal_code : 98266\n",
      "o_url : \n",
      "\n",
      "o_name : opportunity council - east whatcom regional resource center\n",
      "address_1 : 8251 kendall road\n",
      "address_2 : \n",
      "city : maple falls\n",
      "state_province : wa\n",
      "postal_code : 98266\n",
      "o_url : https://www.oppco.org/ewrrc\n",
      "\n",
      "23/10 positive, 22/10 negative\n",
      "Do these records refer to the same thing?\n",
      "(y)es / (n)o / (u)nsure / (f)inished / (p)revious\n"
     ]
    },
    {
     "name": "stdout",
     "output_type": "stream",
     "text": [
      "n\n"
     ]
    },
    {
     "name": "stderr",
     "output_type": "stream",
     "text": [
      "o_name : whatcom county sheriffs office\n",
      "address_1 : 311 grand avenue\n",
      "address_2 : \n",
      "city : bellingham\n",
      "state_province : wa\n",
      "postal_code : 98225\n",
      "o_url : http://www.co.whatcom.wa.us/sheriff/\n",
      "\n",
      "o_name : law advocates\n",
      "address_1 : 311 grand avenue\n",
      "address_2 : 5th floor\n",
      "city : bellingham\n",
      "state_province : wa\n",
      "postal_code : 98225\n",
      "o_url : http://www.lawadvocates.org\n",
      "\n",
      "23/10 positive, 23/10 negative\n",
      "Do these records refer to the same thing?\n",
      "(y)es / (n)o / (u)nsure / (f)inished / (p)revious\n"
     ]
    },
    {
     "name": "stdout",
     "output_type": "stream",
     "text": [
      "n\n"
     ]
    },
    {
     "name": "stderr",
     "output_type": "stream",
     "text": [
      "o_name : foothills food bank\n",
      "address_1 : 8251 kendall road\n",
      "address_2 : \n",
      "city : sumas\n",
      "state_province : wa\n",
      "postal_code : 98295\n",
      "o_url : http://www.foothillsfoodbank.org\n",
      "\n",
      "o_name : opportunity council - east whatcom regional resource center\n",
      "address_1 : 8251 kendall road\n",
      "address_2 : \n",
      "city : maple falls\n",
      "state_province : wa\n",
      "postal_code : 98266\n",
      "o_url : https://www.oppco.org/ewrrc\n",
      "\n",
      "23/10 positive, 24/10 negative\n",
      "Do these records refer to the same thing?\n",
      "(y)es / (n)o / (u)nsure / (f)inished / (p)revious\n"
     ]
    },
    {
     "name": "stdout",
     "output_type": "stream",
     "text": [
      "n\n"
     ]
    },
    {
     "name": "stderr",
     "output_type": "stream",
     "text": [
      "o_name : dshs division of child support\n",
      "address_1 : 4101 meridian street\n",
      "address_2 : \n",
      "city : bellingham\n",
      "state_province : wa\n",
      "postal_code : 98226\n",
      "o_url : http://dshs.wa.gov/dcs\n",
      "\n",
      "o_name : dshs division of vocational rehabilitation\n",
      "address_1 : 4101 meridian ave\n",
      "address_2 : \n",
      "city : bellingham\n",
      "state_province : wa\n",
      "postal_code : 98226\n",
      "o_url : http://dshs.wa.gov/dvr\n",
      "\n",
      "23/10 positive, 25/10 negative\n",
      "Do these records refer to the same thing?\n",
      "(y)es / (n)o / (u)nsure / (f)inished / (p)revious\n"
     ]
    },
    {
     "name": "stdout",
     "output_type": "stream",
     "text": [
      "n\n"
     ]
    },
    {
     "name": "stderr",
     "output_type": "stream",
     "text": [
      "o_name : hearing, speech deaf center\n",
      "address_1 : 114 west magnolia street\n",
      "address_2 : suite 106\n",
      "city : bellingham\n",
      "state_province : wa\n",
      "postal_code : 98225\n",
      "o_url : http://hsdc.org\n",
      "\n",
      "o_name : hearing, speech and deaf center (bellingham)\n",
      "address_1 : 114 w magnolia st,suite 106\n",
      "address_2 : None\n",
      "city : bellingham\n",
      "state_province : wa\n",
      "postal_code : 98225\n",
      "o_url : \n",
      "\n",
      "23/10 positive, 26/10 negative\n",
      "Do these records refer to the same thing?\n",
      "(y)es / (n)o / (u)nsure / (f)inished / (p)revious\n"
     ]
    },
    {
     "name": "stdout",
     "output_type": "stream",
     "text": [
      "y\n"
     ]
    },
    {
     "name": "stderr",
     "output_type": "stream",
     "text": [
      "o_name : community assistance program\n",
      "address_1 : 902 adelia street\n",
      "address_2 : \n",
      "city : blaine\n",
      "state_province : wa\n",
      "postal_code : 98230\n",
      "o_url : http://blainecap.org\n",
      "\n",
      "o_name : community assistance program\n",
      "address_1 : 508 g street\n",
      "address_2 : \n",
      "city : blaine\n",
      "state_province : wa\n",
      "postal_code : 98230\n",
      "o_url : http://blainecap.org\n",
      "\n",
      "24/10 positive, 26/10 negative\n",
      "Do these records refer to the same thing?\n",
      "(y)es / (n)o / (u)nsure / (f)inished / (p)revious\n"
     ]
    },
    {
     "name": "stdout",
     "output_type": "stream",
     "text": [
      "n\n"
     ]
    },
    {
     "name": "stderr",
     "output_type": "stream",
     "text": [
      "o_name : law advocates\n",
      "address_1 : 210 central avenue\n",
      "address_2 : \n",
      "city : bellingham\n",
      "state_province : wa\n",
      "postal_code : 98225\n",
      "o_url : http://www.lawadvocates.org\n",
      "\n",
      "o_name : law advocates\n",
      "address_1 : 311 grand avenue\n",
      "address_2 : 5th floor\n",
      "city : bellingham\n",
      "state_province : wa\n",
      "postal_code : 98225\n",
      "o_url : http://www.lawadvocates.org\n",
      "\n",
      "24/10 positive, 27/10 negative\n",
      "Do these records refer to the same thing?\n",
      "(y)es / (n)o / (u)nsure / (f)inished / (p)revious\n"
     ]
    },
    {
     "name": "stdout",
     "output_type": "stream",
     "text": [
      "n\n"
     ]
    },
    {
     "name": "stderr",
     "output_type": "stream",
     "text": [
      "o_name : arc of whatcom county\n",
      "address_1 : 2602 mcleod road\n",
      "address_2 : \n",
      "city : bellingham\n",
      "state_province : wa\n",
      "postal_code : 98225\n",
      "o_url : http://www.arcwhatcom.org\n",
      "\n",
      "o_name : down syndrome outreach of whatcom county\n",
      "address_1 : 2602 mcleod rd\n",
      "address_2 : None\n",
      "city : bellingham\n",
      "state_province : wa\n",
      "postal_code : 98225\n",
      "o_url : \n",
      "\n",
      "24/10 positive, 28/10 negative\n",
      "Do these records refer to the same thing?\n",
      "(y)es / (n)o / (u)nsure / (f)inished / (p)revious\n"
     ]
    },
    {
     "name": "stdout",
     "output_type": "stream",
     "text": [
      "n\n"
     ]
    },
    {
     "name": "stderr",
     "output_type": "stream",
     "text": [
      "o_name : whatcom county courts\n",
      "address_1 : 5694 2nd avenue\n",
      "address_2 : \n",
      "city : ferndale\n",
      "state_province : wa\n",
      "postal_code : 98248\n",
      "o_url : http://www.courts.wa.gov/court_dir/orgs/296.html\n",
      "\n",
      "o_name : ferndale community service cooperative\n",
      "address_1 : 5694 2nd avenue\n",
      "address_2 : \n",
      "city : ferndale\n",
      "state_province : wa\n",
      "postal_code : 98248\n",
      "o_url : http://www.ferndalecsc.org\n",
      "\n",
      "24/10 positive, 29/10 negative\n",
      "Do these records refer to the same thing?\n",
      "(y)es / (n)o / (u)nsure / (f)inished / (p)revious\n"
     ]
    },
    {
     "name": "stdout",
     "output_type": "stream",
     "text": [
      "n\n"
     ]
    },
    {
     "name": "stderr",
     "output_type": "stream",
     "text": [
      "o_name : whatcom county courts\n",
      "address_1 : 1020 north state street\n",
      "address_2 : \n",
      "city : bellingham\n",
      "state_province : wa\n",
      "postal_code : 98225\n",
      "o_url : http://www.courts.wa.gov/court_dir/orgs/296.html\n",
      "\n",
      "o_name : whatcom county courts\n",
      "address_1 : 205 4th street\n",
      "address_2 : \n",
      "city : lynden\n",
      "state_province : wa\n",
      "postal_code : 98264\n",
      "o_url : http://www.courts.wa.gov/court_dir/orgs/296.html\n",
      "\n",
      "24/10 positive, 30/10 negative\n",
      "Do these records refer to the same thing?\n",
      "(y)es / (n)o / (u)nsure / (f)inished / (p)revious\n"
     ]
    },
    {
     "name": "stdout",
     "output_type": "stream",
     "text": [
      "n\n"
     ]
    },
    {
     "name": "stderr",
     "output_type": "stream",
     "text": [
      "o_name : whatcom county health department\n",
      "address_1 : 509 girard street\n",
      "address_2 : \n",
      "city : bellingham\n",
      "state_province : wa\n",
      "postal_code : 98225\n",
      "o_url : http://www.whatcomcounty.us/360/health-department\n",
      "\n",
      "o_name : whatcom county health department\n",
      "address_1 : 1500 north state street\n",
      "address_2 : \n",
      "city : bellingham\n",
      "state_province : wa\n",
      "postal_code : 98225\n",
      "o_url : http://www.whatcomcounty.us/360/health-department\n",
      "\n",
      "24/10 positive, 31/10 negative\n",
      "Do these records refer to the same thing?\n",
      "(y)es / (n)o / (u)nsure / (f)inished / (p)revious\n"
     ]
    },
    {
     "name": "stdout",
     "output_type": "stream",
     "text": [
      "n\n"
     ]
    },
    {
     "name": "stderr",
     "output_type": "stream",
     "text": [
      "o_name : nami whatcom\n",
      "address_1 : 800 east chestnut street\n",
      "address_2 : 1c\n",
      "city : bellingham\n",
      "state_province : wa\n",
      "postal_code : 98225\n",
      "o_url : http://www.namiwhatcom.org\n",
      "\n",
      "o_name : bellingham central lions club\n",
      "address_1 : 800 east chestnut street\n",
      "address_2 : suite 3b\n",
      "city : bellingham\n",
      "state_province : wa\n",
      "postal_code : 98225\n",
      "o_url : http://www.bellinghamcentrallions.org\n",
      "\n",
      "24/10 positive, 32/10 negative\n",
      "Do these records refer to the same thing?\n",
      "(y)es / (n)o / (u)nsure / (f)inished / (p)revious\n"
     ]
    },
    {
     "name": "stdout",
     "output_type": "stream",
     "text": [
      "n\n"
     ]
    },
    {
     "name": "stderr",
     "output_type": "stream",
     "text": [
      "o_name : law advocates\n",
      "address_1 : 210 central avenue\n",
      "address_2 : \n",
      "city : bellingham\n",
      "state_province : wa\n",
      "postal_code : 98225\n",
      "o_url : http://www.lawadvocates.org\n",
      "\n",
      "o_name : north sound cooling centers\n",
      "address_1 : 210 central avenue\n",
      "address_2 : \n",
      "city : bellingham\n",
      "state_province : wa\n",
      "postal_code : 98225\n",
      "o_url : \n",
      "\n",
      "24/10 positive, 33/10 negative\n",
      "Do these records refer to the same thing?\n",
      "(y)es / (n)o / (u)nsure / (f)inished / (p)revious\n"
     ]
    },
    {
     "name": "stdout",
     "output_type": "stream",
     "text": [
      "n\n"
     ]
    },
    {
     "name": "stderr",
     "output_type": "stream",
     "text": [
      "o_name : depressive and bipolar support alliance whatcom county\n",
      "address_1 : 800 chestnut street\n",
      "address_2 : suite 1c\n",
      "city : bellingham\n",
      "state_province : wa\n",
      "postal_code : 98225\n",
      "o_url : http://www.dbsalliance.org\n",
      "\n",
      "o_name : nami whatcom\n",
      "address_1 : 800 east chestnut street\n",
      "address_2 : 1c\n",
      "city : bellingham\n",
      "state_province : wa\n",
      "postal_code : 98225\n",
      "o_url : http://www.namiwhatcom.org\n",
      "\n",
      "24/10 positive, 34/10 negative\n",
      "Do these records refer to the same thing?\n",
      "(y)es / (n)o / (u)nsure / (f)inished / (p)revious\n"
     ]
    },
    {
     "name": "stdout",
     "output_type": "stream",
     "text": [
      "n\n"
     ]
    },
    {
     "name": "stderr",
     "output_type": "stream",
     "text": [
      "o_name : foothills food bank\n",
      "address_1 : 8255 kendall road\n",
      "address_2 : \n",
      "city : maple falls\n",
      "state_province : wa\n",
      "postal_code : 98266\n",
      "o_url : http://www.foothillsfoodbank.org\n",
      "\n",
      "o_name : food lifeline mobile food program in maple falls\n",
      "address_1 : 8251 kendall rd\n",
      "address_2 : None\n",
      "city : maple falls\n",
      "state_province : wa\n",
      "postal_code : 98266\n",
      "o_url : \n",
      "\n",
      "24/10 positive, 35/10 negative\n",
      "Do these records refer to the same thing?\n",
      "(y)es / (n)o / (u)nsure / (f)inished / (p)revious\n"
     ]
    },
    {
     "name": "stdout",
     "output_type": "stream",
     "text": [
      "n\n"
     ]
    },
    {
     "name": "stderr",
     "output_type": "stream",
     "text": [
      "o_name : whatcom county courts\n",
      "address_1 : 435 martin st\n",
      "address_2 : suite 4000\n",
      "city : blaine\n",
      "state_province : wa\n",
      "postal_code : 98230\n",
      "o_url : http://www.courts.wa.gov/court_dir/orgs/296.html\n",
      "\n",
      "o_name : whatcom county courts\n",
      "address_1 : 433 cherry street\n",
      "address_2 : \n",
      "city : sumas\n",
      "state_province : wa\n",
      "postal_code : 98295\n",
      "o_url : http://www.courts.wa.gov/court_dir/orgs/296.html\n",
      "\n",
      "24/10 positive, 36/10 negative\n",
      "Do these records refer to the same thing?\n",
      "(y)es / (n)o / (u)nsure / (f)inished / (p)revious\n"
     ]
    },
    {
     "name": "stdout",
     "output_type": "stream",
     "text": [
      "n\n"
     ]
    },
    {
     "name": "stderr",
     "output_type": "stream",
     "text": [
      "o_name : boys and girls clubs of whatcom county\n",
      "address_1 : 1715 kentucky street\n",
      "address_2 : \n",
      "city : bellingham\n",
      "state_province : wa\n",
      "postal_code : 98229\n",
      "o_url : http://www.whatcomclubs.org\n",
      "\n",
      "o_name : boys and girls clubs of whatcom county\n",
      "address_1 : 2015 cherry street\n",
      "address_2 : \n",
      "city : ferndale\n",
      "state_province : wa\n",
      "postal_code : 98248\n",
      "o_url : http://www.whatcomclubs.org\n",
      "\n",
      "24/10 positive, 37/10 negative\n",
      "Do these records refer to the same thing?\n",
      "(y)es / (n)o / (u)nsure / (f)inished / (p)revious\n"
     ]
    },
    {
     "name": "stdout",
     "output_type": "stream",
     "text": [
      "n\n"
     ]
    },
    {
     "name": "stderr",
     "output_type": "stream",
     "text": [
      "o_name : dshs community services offices\n",
      "address_1 : 4101 meridian ave\n",
      "address_2 : \n",
      "city : bellingham\n",
      "state_province : wa\n",
      "postal_code : 98226\n",
      "o_url : https://www.dshs.wa.gov/food-cash-medical\n",
      "\n",
      "o_name : dshs division of vocational rehabilitation\n",
      "address_1 : 4101 meridian ave\n",
      "address_2 : \n",
      "city : bellingham\n",
      "state_province : wa\n",
      "postal_code : 98226\n",
      "o_url : http://dshs.wa.gov/dvr\n",
      "\n",
      "24/10 positive, 38/10 negative\n",
      "Do these records refer to the same thing?\n",
      "(y)es / (n)o / (u)nsure / (f)inished / (p)revious\n"
     ]
    },
    {
     "name": "stdout",
     "output_type": "stream",
     "text": [
      "n\n"
     ]
    },
    {
     "name": "stderr",
     "output_type": "stream",
     "text": [
      "o_name : compass health - whatcom county\n",
      "address_1 : 3645 east mcleod road\n",
      "address_2 : \n",
      "city : bellingham\n",
      "state_province : wa\n",
      "postal_code : 98226\n",
      "o_url : https://www.compasshealth.org\n",
      "\n",
      "o_name : compass health (bellingham - mcleod rd)\n",
      "address_1 : 3645 e mcleod rd\n",
      "address_2 : None\n",
      "city : bellingham\n",
      "state_province : wa\n",
      "postal_code : 98226\n",
      "o_url : \n",
      "\n",
      "24/10 positive, 39/10 negative\n",
      "Do these records refer to the same thing?\n",
      "(y)es / (n)o / (u)nsure / (f)inished / (p)revious\n"
     ]
    },
    {
     "name": "stdout",
     "output_type": "stream",
     "text": [
      "y\n"
     ]
    },
    {
     "name": "stderr",
     "output_type": "stream",
     "text": [
      "o_name : community assistance program\n",
      "address_1 : 382 boblett street\n",
      "address_2 : \n",
      "city : blaine\n",
      "state_province : wa\n",
      "postal_code : 98230\n",
      "o_url : http://blainecap.org\n",
      "\n",
      "o_name : community assistance program\n",
      "address_1 : 508 g street\n",
      "address_2 : \n",
      "city : blaine\n",
      "state_province : wa\n",
      "postal_code : 98230\n",
      "o_url : http://blainecap.org\n",
      "\n",
      "25/10 positive, 39/10 negative\n",
      "Do these records refer to the same thing?\n",
      "(y)es / (n)o / (u)nsure / (f)inished / (p)revious\n"
     ]
    },
    {
     "name": "stdout",
     "output_type": "stream",
     "text": [
      "n\n"
     ]
    },
    {
     "name": "stderr",
     "output_type": "stream",
     "text": [
      "o_name : saint vincent de paul - sacred heart church\n",
      "address_1 : 1110 14th street\n",
      "address_2 : \n",
      "city : bellingham\n",
      "state_province : wa\n",
      "postal_code : 98225\n",
      "o_url : https://www.shbham.org\n",
      "\n",
      "o_name : sacred heart church / st vincent de paul (bellingham)\n",
      "address_1 : 1110 14th st\n",
      "address_2 : None\n",
      "city : bellingham\n",
      "state_province : wa\n",
      "postal_code : 98225\n",
      "o_url : \n",
      "\n",
      "25/10 positive, 40/10 negative\n",
      "Do these records refer to the same thing?\n",
      "(y)es / (n)o / (u)nsure / (f)inished / (p)revious\n"
     ]
    },
    {
     "name": "stdout",
     "output_type": "stream",
     "text": [
      "y\n"
     ]
    },
    {
     "name": "stderr",
     "output_type": "stream",
     "text": [
      "o_name : foothills food bank\n",
      "address_1 : 8251 kendall road\n",
      "address_2 : \n",
      "city : sumas\n",
      "state_province : wa\n",
      "postal_code : 98295\n",
      "o_url : http://www.foothillsfoodbank.org\n",
      "\n",
      "o_name : food lifeline mobile food program in maple falls\n",
      "address_1 : 8251 kendall rd\n",
      "address_2 : None\n",
      "city : maple falls\n",
      "state_province : wa\n",
      "postal_code : 98266\n",
      "o_url : \n",
      "\n",
      "26/10 positive, 40/10 negative\n",
      "Do these records refer to the same thing?\n",
      "(y)es / (n)o / (u)nsure / (f)inished / (p)revious\n"
     ]
    },
    {
     "name": "stdout",
     "output_type": "stream",
     "text": [
      "y\n"
     ]
    },
    {
     "name": "stderr",
     "output_type": "stream",
     "text": [
      "o_name : foothills food bank\n",
      "address_1 : 8255 kendall road\n",
      "address_2 : \n",
      "city : maple falls\n",
      "state_province : wa\n",
      "postal_code : 98266\n",
      "o_url : http://www.foothillsfoodbank.org\n",
      "\n",
      "o_name : north sound cooling centers\n",
      "address_1 : 8251 kendall road\n",
      "address_2 : \n",
      "city : maple falls\n",
      "state_province : wa\n",
      "postal_code : 98266\n",
      "o_url : \n",
      "\n",
      "27/10 positive, 40/10 negative\n",
      "Do these records refer to the same thing?\n",
      "(y)es / (n)o / (u)nsure / (f)inished / (p)revious\n"
     ]
    },
    {
     "name": "stdout",
     "output_type": "stream",
     "text": [
      "n\n"
     ]
    },
    {
     "name": "stderr",
     "output_type": "stream",
     "text": [
      "o_name : foothills food bank\n",
      "address_1 : 8251 kendall road\n",
      "address_2 : \n",
      "city : sumas\n",
      "state_province : wa\n",
      "postal_code : 98295\n",
      "o_url : http://www.foothillsfoodbank.org\n",
      "\n",
      "o_name : north sound cooling centers\n",
      "address_1 : 8251 kendall road\n",
      "address_2 : \n",
      "city : maple falls\n",
      "state_province : wa\n",
      "postal_code : 98266\n",
      "o_url : \n",
      "\n",
      "27/10 positive, 41/10 negative\n",
      "Do these records refer to the same thing?\n",
      "(y)es / (n)o / (u)nsure / (f)inished / (p)revious\n"
     ]
    },
    {
     "name": "stdout",
     "output_type": "stream",
     "text": [
      "n\n"
     ]
    },
    {
     "name": "stderr",
     "output_type": "stream",
     "text": [
      "o_name : down syndrome outreach of whatcom county\n",
      "address_1 : 2602 mcleod rd\n",
      "address_2 : None\n",
      "city : bellingham\n",
      "state_province : wa\n",
      "postal_code : 98225\n",
      "o_url : \n",
      "\n",
      "o_name : parent to parent (whatcom)\n",
      "address_1 : 2602 mcleod rd\n",
      "address_2 : None\n",
      "city : bellingham\n",
      "state_province : wa\n",
      "postal_code : 98225\n",
      "o_url : \n",
      "\n",
      "27/10 positive, 42/10 negative\n",
      "Do these records refer to the same thing?\n",
      "(y)es / (n)o / (u)nsure / (f)inished / (p)revious\n"
     ]
    },
    {
     "name": "stdout",
     "output_type": "stream",
     "text": [
      "n\n"
     ]
    },
    {
     "name": "stderr",
     "output_type": "stream",
     "text": [
      "o_name : north sound cooling centers\n",
      "address_1 : 8251 kendall road\n",
      "address_2 : \n",
      "city : maple falls\n",
      "state_province : wa\n",
      "postal_code : 98266\n",
      "o_url : \n",
      "\n",
      "o_name : food lifeline mobile food program in maple falls\n",
      "address_1 : 8251 kendall rd\n",
      "address_2 : None\n",
      "city : maple falls\n",
      "state_province : wa\n",
      "postal_code : 98266\n",
      "o_url : \n",
      "\n",
      "27/10 positive, 43/10 negative\n",
      "Do these records refer to the same thing?\n",
      "(y)es / (n)o / (u)nsure / (f)inished / (p)revious\n"
     ]
    },
    {
     "name": "stdout",
     "output_type": "stream",
     "text": [
      "n\n"
     ]
    },
    {
     "name": "stderr",
     "output_type": "stream",
     "text": [
      "o_name : worksource whatcom\n",
      "address_1 : 101 prospect street\n",
      "address_2 : \n",
      "city : bellingham\n",
      "state_province : wa\n",
      "postal_code : 98225\n",
      "o_url : https://www.worksourcewa.com\n",
      "\n",
      "o_name : northwest workforce council\n",
      "address_1 : 101 prospect street\n",
      "address_2 : \n",
      "city : bellingham\n",
      "state_province : wa\n",
      "postal_code : 98225\n",
      "o_url : http://www.nwboard.org/\n",
      "\n",
      "27/10 positive, 44/10 negative\n",
      "Do these records refer to the same thing?\n",
      "(y)es / (n)o / (u)nsure / (f)inished / (p)revious\n"
     ]
    },
    {
     "name": "stdout",
     "output_type": "stream",
     "text": [
      "y\n"
     ]
    },
    {
     "name": "stderr",
     "output_type": "stream",
     "text": [
      "o_name : whatcom county courts\n",
      "address_1 : 311 grand avenue\n",
      "address_2 : suite 401\n",
      "city : bellingham\n",
      "state_province : wa\n",
      "postal_code : 98225\n",
      "o_url : http://www.courts.wa.gov/court_dir/orgs/296.html\n",
      "\n",
      "o_name : whatcom county courts\n",
      "address_1 : 5694 2nd avenue\n",
      "address_2 : \n",
      "city : ferndale\n",
      "state_province : wa\n",
      "postal_code : 98248\n",
      "o_url : http://www.courts.wa.gov/court_dir/orgs/296.html\n",
      "\n",
      "28/10 positive, 44/10 negative\n",
      "Do these records refer to the same thing?\n",
      "(y)es / (n)o / (u)nsure / (f)inished / (p)revious\n"
     ]
    },
    {
     "name": "stdout",
     "output_type": "stream",
     "text": [
      "n\n"
     ]
    },
    {
     "name": "stderr",
     "output_type": "stream",
     "text": [
      "o_name : opportunity council in whatcom county\n",
      "address_1 : 1111 cornwall avenue\n",
      "address_2 : suite c\n",
      "city : bellingham\n",
      "state_province : wa\n",
      "postal_code : 98225\n",
      "o_url : http://www.oppco.org\n",
      "\n",
      "o_name : whatcom taking action\n",
      "address_1 : 1111 cornwall avenue\n",
      "address_2 : None\n",
      "city : bellingham\n",
      "state_province : wa\n",
      "postal_code : 98225\n",
      "o_url : https://whatcomtakingaction.org/\n",
      "\n",
      "28/10 positive, 45/10 negative\n",
      "Do these records refer to the same thing?\n",
      "(y)es / (n)o / (u)nsure / (f)inished / (p)revious\n"
     ]
    },
    {
     "name": "stdout",
     "output_type": "stream",
     "text": [
      "n\n"
     ]
    },
    {
     "name": "stderr",
     "output_type": "stream",
     "text": [
      "o_name : journey housing and payee services\n",
      "address_1 : 1515 cornwall avenue\n",
      "address_2 : \n",
      "city : bellingham\n",
      "state_province : wa\n",
      "postal_code : 98225\n",
      "o_url : https://journeyhousingandpayee.org\n",
      "\n",
      "o_name : sunrise services, inc.\n",
      "address_1 : 1515 cornwall avenue\n",
      "address_2 : \n",
      "city : bellingham\n",
      "state_province : wa\n",
      "postal_code : 98225\n",
      "o_url : https://sunriseservicesinc.com\n",
      "\n",
      "28/10 positive, 46/10 negative\n",
      "Do these records refer to the same thing?\n",
      "(y)es / (n)o / (u)nsure / (f)inished / (p)revious\n"
     ]
    },
    {
     "name": "stdout",
     "output_type": "stream",
     "text": [
      "n\n"
     ]
    },
    {
     "name": "stderr",
     "output_type": "stream",
     "text": [
      "o_name : lighthouse mission ministries\n",
      "address_1 : 1530 cornwall avenue\n",
      "address_2 : \n",
      "city : bellingham\n",
      "state_province : wa\n",
      "postal_code : 98225\n",
      "o_url : http://www.thelighthousemission.org\n",
      "\n",
      "o_name : north sound cooling centers\n",
      "address_1 : 1530 cornwall avenue\n",
      "address_2 : \n",
      "city : bellingham\n",
      "state_province : wa\n",
      "postal_code : 98225\n",
      "o_url : \n",
      "\n",
      "28/10 positive, 47/10 negative\n",
      "Do these records refer to the same thing?\n",
      "(y)es / (n)o / (u)nsure / (f)inished / (p)revious\n"
     ]
    },
    {
     "name": "stdout",
     "output_type": "stream",
     "text": [
      "n\n"
     ]
    },
    {
     "name": "stderr",
     "output_type": "stream",
     "text": [
      "o_name : bellingham public library\n",
      "address_1 : 210 central avenue\n",
      "address_2 : \n",
      "city : bellingham\n",
      "state_province : wa\n",
      "postal_code : 98225\n",
      "o_url : http://www.bellinghampubliclibrary.org\n",
      "\n",
      "o_name : law advocates\n",
      "address_1 : 210 central avenue\n",
      "address_2 : \n",
      "city : bellingham\n",
      "state_province : wa\n",
      "postal_code : 98225\n",
      "o_url : http://www.lawadvocates.org\n",
      "\n",
      "28/10 positive, 48/10 negative\n",
      "Do these records refer to the same thing?\n",
      "(y)es / (n)o / (u)nsure / (f)inished / (p)revious\n"
     ]
    },
    {
     "name": "stdout",
     "output_type": "stream",
     "text": [
      "n\n"
     ]
    },
    {
     "name": "stderr",
     "output_type": "stream",
     "text": [
      "o_name : law advocates\n",
      "address_1 : 210 central avenue\n",
      "address_2 : \n",
      "city : bellingham\n",
      "state_province : wa\n",
      "postal_code : 98225\n",
      "o_url : http://www.lawadvocates.org\n",
      "\n",
      "o_name : bellingham public library\n",
      "address_1 : 210 central ave\n",
      "address_2 : None\n",
      "city : bellingham\n",
      "state_province : wa\n",
      "postal_code : 98227\n",
      "o_url : \n",
      "\n",
      "28/10 positive, 49/10 negative\n",
      "Do these records refer to the same thing?\n",
      "(y)es / (n)o / (u)nsure / (f)inished / (p)revious\n"
     ]
    },
    {
     "name": "stdout",
     "output_type": "stream",
     "text": [
      "n\n"
     ]
    },
    {
     "name": "stderr",
     "output_type": "stream",
     "text": [
      "o_name : whatcom county courts\n",
      "address_1 : 311 grand avenue\n",
      "address_2 : suite 501\n",
      "city : bellingham\n",
      "state_province : wa\n",
      "postal_code : 98225\n",
      "o_url : http://www.courts.wa.gov/court_dir/orgs/296.html\n",
      "\n",
      "o_name : whatcom county courts\n",
      "address_1 : 5694 2nd avenue\n",
      "address_2 : \n",
      "city : ferndale\n",
      "state_province : wa\n",
      "postal_code : 98248\n",
      "o_url : http://www.courts.wa.gov/court_dir/orgs/296.html\n",
      "\n",
      "28/10 positive, 50/10 negative\n",
      "Do these records refer to the same thing?\n",
      "(y)es / (n)o / (u)nsure / (f)inished / (p)revious\n"
     ]
    },
    {
     "name": "stdout",
     "output_type": "stream",
     "text": [
      "n\n"
     ]
    },
    {
     "name": "stderr",
     "output_type": "stream",
     "text": [
      "o_name : whatcom county courts\n",
      "address_1 : 311 grand avenue\n",
      "address_2 : suite 301\n",
      "city : bellingham\n",
      "state_province : wa\n",
      "postal_code : 98225\n",
      "o_url : http://www.courts.wa.gov/court_dir/orgs/296.html\n",
      "\n",
      "o_name : whatcom county courts\n",
      "address_1 : 5694 2nd avenue\n",
      "address_2 : \n",
      "city : ferndale\n",
      "state_province : wa\n",
      "postal_code : 98248\n",
      "o_url : http://www.courts.wa.gov/court_dir/orgs/296.html\n",
      "\n",
      "28/10 positive, 51/10 negative\n",
      "Do these records refer to the same thing?\n",
      "(y)es / (n)o / (u)nsure / (f)inished / (p)revious\n"
     ]
    },
    {
     "name": "stdout",
     "output_type": "stream",
     "text": [
      "n\n"
     ]
    },
    {
     "name": "stderr",
     "output_type": "stream",
     "text": [
      "o_name : whatcom taking action\n",
      "address_1 : 1111 cornwall avenue\n",
      "address_2 : None\n",
      "city : bellingham\n",
      "state_province : wa\n",
      "postal_code : 98225\n",
      "o_url : https://whatcomtakingaction.org/\n",
      "\n",
      "o_name : early intervention services (whatcom county)\n",
      "address_1 : 1111 cornwall ave,ste 200\n",
      "address_2 : None\n",
      "city : bellingham\n",
      "state_province : wa\n",
      "postal_code : 98225\n",
      "o_url : \n",
      "\n",
      "28/10 positive, 52/10 negative\n",
      "Do these records refer to the same thing?\n",
      "(y)es / (n)o / (u)nsure / (f)inished / (p)revious\n"
     ]
    },
    {
     "name": "stdout",
     "output_type": "stream",
     "text": [
      "y\n"
     ]
    },
    {
     "name": "stderr",
     "output_type": "stream",
     "text": [
      "o_name : arc of whatcom county\n",
      "address_1 : 2602 mcleod rd\n",
      "address_2 : None\n",
      "city : bellingham\n",
      "state_province : wa\n",
      "postal_code : 98225\n",
      "o_url : \n",
      "\n",
      "o_name : parent to parent (whatcom)\n",
      "address_1 : 2602 mcleod rd\n",
      "address_2 : None\n",
      "city : bellingham\n",
      "state_province : wa\n",
      "postal_code : 98225\n",
      "o_url : \n",
      "\n",
      "29/10 positive, 52/10 negative\n",
      "Do these records refer to the same thing?\n",
      "(y)es / (n)o / (u)nsure / (f)inished / (p)revious\n"
     ]
    },
    {
     "name": "stdout",
     "output_type": "stream",
     "text": [
      "n\n"
     ]
    },
    {
     "name": "stderr",
     "output_type": "stream",
     "text": [
      "o_name : opportunity council in whatcom county\n",
      "address_1 : 1111 cornwall avenue\n",
      "address_2 : suite c\n",
      "city : bellingham\n",
      "state_province : wa\n",
      "postal_code : 98225\n",
      "o_url : http://www.oppco.org\n",
      "\n",
      "o_name : early intervention services (whatcom county)\n",
      "address_1 : 1111 cornwall ave,ste 200\n",
      "address_2 : None\n",
      "city : bellingham\n",
      "state_province : wa\n",
      "postal_code : 98225\n",
      "o_url : \n",
      "\n",
      "29/10 positive, 53/10 negative\n",
      "Do these records refer to the same thing?\n",
      "(y)es / (n)o / (u)nsure / (f)inished / (p)revious\n"
     ]
    },
    {
     "name": "stdout",
     "output_type": "stream",
     "text": [
      "n\n"
     ]
    },
    {
     "name": "stderr",
     "output_type": "stream",
     "text": [
      "o_name : north sound cooling centers\n",
      "address_1 : 7506 kendall road\n",
      "address_2 : \n",
      "city : maple falls\n",
      "state_province : wa\n",
      "postal_code : 98266\n",
      "o_url : \n",
      "\n",
      "o_name : opportunity council - east whatcom regional resource center\n",
      "address_1 : 8251 kendall road\n",
      "address_2 : \n",
      "city : maple falls\n",
      "state_province : wa\n",
      "postal_code : 98266\n",
      "o_url : https://www.oppco.org/ewrrc\n",
      "\n",
      "29/10 positive, 54/10 negative\n",
      "Do these records refer to the same thing?\n",
      "(y)es / (n)o / (u)nsure / (f)inished / (p)revious\n"
     ]
    },
    {
     "name": "stdout",
     "output_type": "stream",
     "text": [
      "n\n"
     ]
    },
    {
     "name": "stderr",
     "output_type": "stream",
     "text": [
      "o_name : new way ministries\n",
      "address_1 : 205 south british columbia avenue\n",
      "address_2 : \n",
      "city : lynden\n",
      "state_province : wa\n",
      "postal_code : 98264\n",
      "o_url : http://www.christianhopeassociation.org\n",
      "\n",
      "o_name : project hope\n",
      "address_1 : 205 south british columbia avenue\n",
      "address_2 : suite 105\n",
      "city : lynden\n",
      "state_province : wa\n",
      "postal_code : 98264\n",
      "o_url : https://www.projecthopelynden.org\n",
      "\n",
      "29/10 positive, 55/10 negative\n",
      "Do these records refer to the same thing?\n",
      "(y)es / (n)o / (u)nsure / (f)inished / (p)revious\n"
     ]
    },
    {
     "name": "stdout",
     "output_type": "stream",
     "text": [
      "n\n"
     ]
    },
    {
     "name": "stderr",
     "output_type": "stream",
     "text": [
      "o_name : hearing, speech deaf center\n",
      "address_1 : 114 west magnolia street\n",
      "address_2 : suite 106\n",
      "city : bellingham\n",
      "state_province : wa\n",
      "postal_code : 98225\n",
      "o_url : http://hsdc.org\n",
      "\n",
      "o_name : internal revenue service\n",
      "address_1 : 114 west magnolia street\n",
      "address_2 : \n",
      "city : bellingham\n",
      "state_province : wa\n",
      "postal_code : 98225\n",
      "o_url : https://www.irs.gov/help/contact-my-local-office-in-washington\n",
      "\n",
      "29/10 positive, 56/10 negative\n",
      "Do these records refer to the same thing?\n",
      "(y)es / (n)o / (u)nsure / (f)inished / (p)revious\n"
     ]
    },
    {
     "name": "stdout",
     "output_type": "stream",
     "text": [
      "n\n"
     ]
    },
    {
     "name": "stderr",
     "output_type": "stream",
     "text": [
      "o_name : whatcom county courts\n",
      "address_1 : 1020 north state street\n",
      "address_2 : \n",
      "city : bellingham\n",
      "state_province : wa\n",
      "postal_code : 98225\n",
      "o_url : http://www.courts.wa.gov/court_dir/orgs/296.html\n",
      "\n",
      "o_name : northwest youth services\n",
      "address_1 : 1020 north state street\n",
      "address_2 : \n",
      "city : bellingham\n",
      "state_province : wa\n",
      "postal_code : 98225\n",
      "o_url : http://www.nwys.org/\n",
      "\n",
      "29/10 positive, 57/10 negative\n",
      "Do these records refer to the same thing?\n",
      "(y)es / (n)o / (u)nsure / (f)inished / (p)revious\n"
     ]
    },
    {
     "name": "stdout",
     "output_type": "stream",
     "text": [
      "n\n"
     ]
    },
    {
     "name": "stderr",
     "output_type": "stream",
     "text": [
      "o_name : opportunity council in whatcom county\n",
      "address_1 : 2117 walnut street\n",
      "address_2 : \n",
      "city : bellingham\n",
      "state_province : wa\n",
      "postal_code : 98225\n",
      "o_url : http://www.oppco.org\n",
      "\n",
      "o_name : st. paul episcopal church - alms ministry\n",
      "address_1 : 2117 walnut st\n",
      "address_2 : None\n",
      "city : bellingham\n",
      "state_province : wa\n",
      "postal_code : 98225\n",
      "o_url : \n",
      "\n",
      "29/10 positive, 58/10 negative\n",
      "Do these records refer to the same thing?\n",
      "(y)es / (n)o / (u)nsure / (f)inished / (p)revious\n"
     ]
    },
    {
     "name": "stdout",
     "output_type": "stream",
     "text": [
      "n\n"
     ]
    },
    {
     "name": "stderr",
     "output_type": "stream",
     "text": [
      "o_name : kendall elementary school\n",
      "address_1 : 7547 kendall rd\n",
      "address_2 : None\n",
      "city : maple falls\n",
      "state_province : wa\n",
      "postal_code : 98266\n",
      "o_url : https://www.mtbaker.wednet.edu/o/kendall\n",
      "\n",
      "o_name : food lifeline mobile food program in maple falls\n",
      "address_1 : 8251 kendall rd\n",
      "address_2 : None\n",
      "city : maple falls\n",
      "state_province : wa\n",
      "postal_code : 98266\n",
      "o_url : \n",
      "\n",
      "29/10 positive, 59/10 negative\n",
      "Do these records refer to the same thing?\n",
      "(y)es / (n)o / (u)nsure / (f)inished / (p)revious\n"
     ]
    },
    {
     "name": "stdout",
     "output_type": "stream",
     "text": [
      "n\n"
     ]
    },
    {
     "name": "stderr",
     "output_type": "stream",
     "text": [
      "o_name : whatcom county courts\n",
      "address_1 : 1020 north state street\n",
      "address_2 : \n",
      "city : bellingham\n",
      "state_province : wa\n",
      "postal_code : 98225\n",
      "o_url : http://www.courts.wa.gov/court_dir/orgs/296.html\n",
      "\n",
      "o_name : whatcom county courts\n",
      "address_1 : 111 w main st\n",
      "address_2 : \n",
      "city : everson\n",
      "state_province : wa\n",
      "postal_code : 98247\n",
      "o_url : http://www.courts.wa.gov/court_dir/orgs/296.html\n",
      "\n",
      "29/10 positive, 60/10 negative\n",
      "Do these records refer to the same thing?\n",
      "(y)es / (n)o / (u)nsure / (f)inished / (p)revious\n"
     ]
    },
    {
     "name": "stdout",
     "output_type": "stream",
     "text": [
      "n\n"
     ]
    },
    {
     "name": "stderr",
     "output_type": "stream",
     "text": [
      "o_name : whatcom county courts\n",
      "address_1 : 311 grand avenue\n",
      "address_2 : suite 501\n",
      "city : bellingham\n",
      "state_province : wa\n",
      "postal_code : 98225\n",
      "o_url : http://www.courts.wa.gov/court_dir/orgs/296.html\n",
      "\n",
      "o_name : law advocates\n",
      "address_1 : 311 grand avenue\n",
      "address_2 : 5th floor\n",
      "city : bellingham\n",
      "state_province : wa\n",
      "postal_code : 98225\n",
      "o_url : http://www.lawadvocates.org\n",
      "\n",
      "29/10 positive, 61/10 negative\n",
      "Do these records refer to the same thing?\n",
      "(y)es / (n)o / (u)nsure / (f)inished / (p)revious\n"
     ]
    },
    {
     "name": "stdout",
     "output_type": "stream",
     "text": [
      "n\n"
     ]
    },
    {
     "name": "stderr",
     "output_type": "stream",
     "text": [
      "o_name : whatcom county courts\n",
      "address_1 : 311 grand avenue\n",
      "address_2 : suite 301\n",
      "city : bellingham\n",
      "state_province : wa\n",
      "postal_code : 98225\n",
      "o_url : http://www.courts.wa.gov/court_dir/orgs/296.html\n",
      "\n",
      "o_name : law advocates\n",
      "address_1 : 311 grand avenue\n",
      "address_2 : 5th floor\n",
      "city : bellingham\n",
      "state_province : wa\n",
      "postal_code : 98225\n",
      "o_url : http://www.lawadvocates.org\n",
      "\n",
      "29/10 positive, 62/10 negative\n",
      "Do these records refer to the same thing?\n",
      "(y)es / (n)o / (u)nsure / (f)inished / (p)revious\n"
     ]
    },
    {
     "name": "stdout",
     "output_type": "stream",
     "text": [
      "n\n"
     ]
    },
    {
     "name": "stderr",
     "output_type": "stream",
     "text": [
      "o_name : bellingham public library\n",
      "address_1 : 1117 12th street\n",
      "address_2 : \n",
      "city : bellingham\n",
      "state_province : wa\n",
      "postal_code : 98225\n",
      "o_url : http://www.bellinghampubliclibrary.org\n",
      "\n",
      "o_name : bellingham public library\n",
      "address_1 : 3111 newmarket street\n",
      "address_2 : suite 103\n",
      "city : bellingham\n",
      "state_province : wa\n",
      "postal_code : 98226\n",
      "o_url : http://www.bellinghampubliclibrary.org\n",
      "\n",
      "29/10 positive, 63/10 negative\n",
      "Do these records refer to the same thing?\n",
      "(y)es / (n)o / (u)nsure / (f)inished / (p)revious\n"
     ]
    },
    {
     "name": "stdout",
     "output_type": "stream",
     "text": [
      "n\n"
     ]
    },
    {
     "name": "stderr",
     "output_type": "stream",
     "text": [
      "o_name : opportunity council - east whatcom regional resource center\n",
      "address_1 : 8251 kendall road\n",
      "address_2 : \n",
      "city : maple falls\n",
      "state_province : wa\n",
      "postal_code : 98266\n",
      "o_url : https://www.oppco.org/ewrrc\n",
      "\n",
      "o_name : food lifeline mobile food program in maple falls\n",
      "address_1 : 8251 kendall rd\n",
      "address_2 : None\n",
      "city : maple falls\n",
      "state_province : wa\n",
      "postal_code : 98266\n",
      "o_url : \n",
      "\n",
      "29/10 positive, 64/10 negative\n",
      "Do these records refer to the same thing?\n",
      "(y)es / (n)o / (u)nsure / (f)inished / (p)revious\n"
     ]
    },
    {
     "name": "stdout",
     "output_type": "stream",
     "text": [
      "n\n"
     ]
    },
    {
     "name": "stderr",
     "output_type": "stream",
     "text": [
      "o_name : whatcom county courts\n",
      "address_1 : 311 grand avenue\n",
      "address_2 : suite 401\n",
      "city : bellingham\n",
      "state_province : wa\n",
      "postal_code : 98225\n",
      "o_url : http://www.courts.wa.gov/court_dir/orgs/296.html\n",
      "\n",
      "o_name : law advocates\n",
      "address_1 : 311 grand avenue\n",
      "address_2 : 5th floor\n",
      "city : bellingham\n",
      "state_province : wa\n",
      "postal_code : 98225\n",
      "o_url : http://www.lawadvocates.org\n",
      "\n",
      "29/10 positive, 65/10 negative\n",
      "Do these records refer to the same thing?\n",
      "(y)es / (n)o / (u)nsure / (f)inished / (p)revious\n"
     ]
    },
    {
     "name": "stdout",
     "output_type": "stream",
     "text": [
      "n\n"
     ]
    },
    {
     "name": "stderr",
     "output_type": "stream",
     "text": [
      "o_name : whatcom county courts\n",
      "address_1 : 435 martin st\n",
      "address_2 : suite 4000\n",
      "city : blaine\n",
      "state_province : wa\n",
      "postal_code : 98230\n",
      "o_url : http://www.courts.wa.gov/court_dir/orgs/296.html\n",
      "\n",
      "o_name : whatcom county courts\n",
      "address_1 : 111 w main st\n",
      "address_2 : \n",
      "city : everson\n",
      "state_province : wa\n",
      "postal_code : 98247\n",
      "o_url : http://www.courts.wa.gov/court_dir/orgs/296.html\n",
      "\n",
      "29/10 positive, 66/10 negative\n",
      "Do these records refer to the same thing?\n",
      "(y)es / (n)o / (u)nsure / (f)inished / (p)revious\n"
     ]
    },
    {
     "name": "stdout",
     "output_type": "stream",
     "text": [
      "n\n"
     ]
    },
    {
     "name": "stderr",
     "output_type": "stream",
     "text": [
      "o_name : whatcom county courts\n",
      "address_1 : 1020 north state street\n",
      "address_2 : \n",
      "city : bellingham\n",
      "state_province : wa\n",
      "postal_code : 98225\n",
      "o_url : http://www.courts.wa.gov/court_dir/orgs/296.html\n",
      "\n",
      "o_name : whatcom county courts\n",
      "address_1 : 435 martin st\n",
      "address_2 : suite 4000\n",
      "city : blaine\n",
      "state_province : wa\n",
      "postal_code : 98230\n",
      "o_url : http://www.courts.wa.gov/court_dir/orgs/296.html\n",
      "\n",
      "29/10 positive, 67/10 negative\n",
      "Do these records refer to the same thing?\n",
      "(y)es / (n)o / (u)nsure / (f)inished / (p)revious\n"
     ]
    },
    {
     "name": "stdout",
     "output_type": "stream",
     "text": [
      "n\n"
     ]
    },
    {
     "name": "stderr",
     "output_type": "stream",
     "text": [
      "o_name : meridian school district\n",
      "address_1 : 214 west laurel road\n",
      "address_2 : \n",
      "city : bellingham\n",
      "state_province : wa\n",
      "postal_code : 98226\n",
      "o_url : http://www.meridian.wednet.edu/\n",
      "\n",
      "o_name : meridian school district\n",
      "address_1 : 954 east hemmi road\n",
      "address_2 : \n",
      "city : everson\n",
      "state_province : wa\n",
      "postal_code : 98247\n",
      "o_url : http://www.meridian.wednet.edu/\n",
      "\n",
      "29/10 positive, 68/10 negative\n",
      "Do these records refer to the same thing?\n",
      "(y)es / (n)o / (u)nsure / (f)inished / (p)revious\n"
     ]
    },
    {
     "name": "stdout",
     "output_type": "stream",
     "text": [
      "n\n"
     ]
    },
    {
     "name": "stderr",
     "output_type": "stream",
     "text": [
      "o_name : bellingham public library\n",
      "address_1 : 210 central avenue\n",
      "address_2 : \n",
      "city : bellingham\n",
      "state_province : wa\n",
      "postal_code : 98225\n",
      "o_url : http://www.bellinghampubliclibrary.org\n",
      "\n",
      "o_name : north sound cooling centers\n",
      "address_1 : 210 central avenue\n",
      "address_2 : \n",
      "city : bellingham\n",
      "state_province : wa\n",
      "postal_code : 98225\n",
      "o_url : \n",
      "\n",
      "29/10 positive, 69/10 negative\n",
      "Do these records refer to the same thing?\n",
      "(y)es / (n)o / (u)nsure / (f)inished / (p)revious\n"
     ]
    },
    {
     "name": "stdout",
     "output_type": "stream",
     "text": [
      "n\n"
     ]
    },
    {
     "name": "stderr",
     "output_type": "stream",
     "text": [
      "o_name : bellingham public library\n",
      "address_1 : 1117 12th street\n",
      "address_2 : \n",
      "city : bellingham\n",
      "state_province : wa\n",
      "postal_code : 98225\n",
      "o_url : http://www.bellinghampubliclibrary.org\n",
      "\n",
      "o_name : north sound cooling centers\n",
      "address_1 : 1117 12th street\n",
      "address_2 : \n",
      "city : bellingham\n",
      "state_province : wa\n",
      "postal_code : 98225\n",
      "o_url : \n",
      "\n",
      "29/10 positive, 70/10 negative\n",
      "Do these records refer to the same thing?\n",
      "(y)es / (n)o / (u)nsure / (f)inished / (p)revious\n"
     ]
    },
    {
     "name": "stdout",
     "output_type": "stream",
     "text": [
      "n\n"
     ]
    },
    {
     "name": "stderr",
     "output_type": "stream",
     "text": [
      "o_name : arc of whatcom county\n",
      "address_1 : 2602 mcleod road\n",
      "address_2 : \n",
      "city : bellingham\n",
      "state_province : wa\n",
      "postal_code : 98225\n",
      "o_url : http://www.arcwhatcom.org\n",
      "\n",
      "o_name : parent to parent (whatcom)\n",
      "address_1 : 2602 mcleod rd\n",
      "address_2 : None\n",
      "city : bellingham\n",
      "state_province : wa\n",
      "postal_code : 98225\n",
      "o_url : \n",
      "\n",
      "29/10 positive, 71/10 negative\n",
      "Do these records refer to the same thing?\n",
      "(y)es / (n)o / (u)nsure / (f)inished / (p)revious\n"
     ]
    },
    {
     "name": "stdout",
     "output_type": "stream",
     "text": [
      "n\n"
     ]
    },
    {
     "name": "stderr",
     "output_type": "stream",
     "text": [
      "o_name : whatcom county\n",
      "address_1 : 311 grand avenue\n",
      "address_2 : \n",
      "city : bellingham\n",
      "state_province : wa\n",
      "postal_code : 98225\n",
      "o_url : http://www.co.whatcom.wa.us\n",
      "\n",
      "o_name : whatcom county\n",
      "address_1 : 215 north commercial street\n",
      "address_2 : \n",
      "city : bellingham\n",
      "state_province : wa\n",
      "postal_code : 98225\n",
      "o_url : http://www.co.whatcom.wa.us\n",
      "\n",
      "29/10 positive, 72/10 negative\n",
      "Do these records refer to the same thing?\n",
      "(y)es / (n)o / (u)nsure / (f)inished / (p)revious\n"
     ]
    },
    {
     "name": "stdout",
     "output_type": "stream",
     "text": [
      "n\n"
     ]
    },
    {
     "name": "stderr",
     "output_type": "stream",
     "text": [
      "o_name : sea mar community health centers\n",
      "address_1 : 1603 east illinois street\n",
      "address_2 : \n",
      "city : bellingham\n",
      "state_province : wa\n",
      "postal_code : 98226\n",
      "o_url : https://www.seamar.org/\n",
      "\n",
      "o_name : sea mar community health centers\n",
      "address_1 : 1764 iowa street\n",
      "address_2 : \n",
      "city : bellingham\n",
      "state_province : wa\n",
      "postal_code : 98229\n",
      "o_url : https://www.seamar.org/\n",
      "\n",
      "29/10 positive, 73/10 negative\n",
      "Do these records refer to the same thing?\n",
      "(y)es / (n)o / (u)nsure / (f)inished / (p)revious\n"
     ]
    },
    {
     "name": "stdout",
     "output_type": "stream",
     "text": [
      "n\n"
     ]
    },
    {
     "name": "stderr",
     "output_type": "stream",
     "text": [
      "o_name : sea mar community health centers\n",
      "address_1 : 4455 cordata parkway\n",
      "address_2 : \n",
      "city : bellingham\n",
      "state_province : wa\n",
      "postal_code : 98226\n",
      "o_url : https://www.seamar.org/\n",
      "\n",
      "o_name : sea mar community health centers\n",
      "address_1 : 6046 portal way\n",
      "address_2 : \n",
      "city : ferndale\n",
      "state_province : wa\n",
      "postal_code : 98248\n",
      "o_url : https://www.seamar.org/\n",
      "\n",
      "29/10 positive, 74/10 negative\n",
      "Do these records refer to the same thing?\n",
      "(y)es / (n)o / (u)nsure / (f)inished / (p)revious\n"
     ]
    },
    {
     "name": "stdout",
     "output_type": "stream",
     "text": [
      "n\n"
     ]
    },
    {
     "name": "stderr",
     "output_type": "stream",
     "text": [
      "o_name : opportunity council in whatcom county\n",
      "address_1 : 2750 mcleod rd\n",
      "address_2 : \n",
      "city : bellingham\n",
      "state_province : wa\n",
      "postal_code : 98225\n",
      "o_url : http://www.oppco.org\n",
      "\n",
      "o_name : opportunity council in whatcom county\n",
      "address_1 : 2117 walnut street\n",
      "address_2 : \n",
      "city : bellingham\n",
      "state_province : wa\n",
      "postal_code : 98225\n",
      "o_url : http://www.oppco.org\n",
      "\n",
      "29/10 positive, 75/10 negative\n",
      "Do these records refer to the same thing?\n",
      "(y)es / (n)o / (u)nsure / (f)inished / (p)revious\n"
     ]
    },
    {
     "name": "stdout",
     "output_type": "stream",
     "text": [
      "n\n"
     ]
    },
    {
     "name": "stderr",
     "output_type": "stream",
     "text": [
      "o_name : bellingham food bank\n",
      "address_1 : 1824 ellis street\n",
      "address_2 : \n",
      "city : bellingham\n",
      "state_province : wa\n",
      "postal_code : 98225\n",
      "o_url : http://bellinghamfoodbank.org\n",
      "\n",
      "o_name : bellingham food bank\n",
      "address_1 : 4173 meridian street\n",
      "address_2 : \n",
      "city : bellingham\n",
      "state_province : wa\n",
      "postal_code : 98226\n",
      "o_url : http://bellinghamfoodbank.org\n",
      "\n",
      "29/10 positive, 76/10 negative\n",
      "Do these records refer to the same thing?\n",
      "(y)es / (n)o / (u)nsure / (f)inished / (p)revious\n"
     ]
    },
    {
     "name": "stdout",
     "output_type": "stream",
     "text": [
      "n\n"
     ]
    },
    {
     "name": "stderr",
     "output_type": "stream",
     "text": [
      "o_name : law advocates\n",
      "address_1 : 311 grand avenue\n",
      "address_2 : 5th floor\n",
      "city : bellingham\n",
      "state_province : wa\n",
      "postal_code : 98225\n",
      "o_url : http://www.lawadvocates.org\n",
      "\n",
      "o_name : whatcom county\n",
      "address_1 : 311 grand avenue\n",
      "address_2 : \n",
      "city : bellingham\n",
      "state_province : wa\n",
      "postal_code : 98225\n",
      "o_url : http://www.co.whatcom.wa.us\n",
      "\n",
      "29/10 positive, 77/10 negative\n",
      "Do these records refer to the same thing?\n",
      "(y)es / (n)o / (u)nsure / (f)inished / (p)revious\n"
     ]
    },
    {
     "name": "stdout",
     "output_type": "stream",
     "text": [
      "n\n"
     ]
    },
    {
     "name": "stderr",
     "output_type": "stream",
     "text": [
      "o_name : whatcom taking action\n",
      "address_1 : 1111 cornwall avenue\n",
      "address_2 : None\n",
      "city : bellingham\n",
      "state_province : wa\n",
      "postal_code : 98225\n",
      "o_url : https://whatcomtakingaction.org/\n",
      "\n",
      "o_name : opportunity council (whatcom san juan)\n",
      "address_1 : 1111 cornwall ave,suite c\n",
      "address_2 : None\n",
      "city : bellingham\n",
      "state_province : wa\n",
      "postal_code : 98225\n",
      "o_url : https://www.oppco.org/\n",
      "\n",
      "29/10 positive, 78/10 negative\n",
      "Do these records refer to the same thing?\n",
      "(y)es / (n)o / (u)nsure / (f)inished / (p)revious\n"
     ]
    },
    {
     "name": "stdout",
     "output_type": "stream",
     "text": [
      "n\n"
     ]
    },
    {
     "name": "stderr",
     "output_type": "stream",
     "text": [
      "o_name : whatcom county courts\n",
      "address_1 : 205 4th street\n",
      "address_2 : \n",
      "city : lynden\n",
      "state_province : wa\n",
      "postal_code : 98264\n",
      "o_url : http://www.courts.wa.gov/court_dir/orgs/296.html\n",
      "\n",
      "o_name : whatcom county courts\n",
      "address_1 : 433 cherry street\n",
      "address_2 : \n",
      "city : sumas\n",
      "state_province : wa\n",
      "postal_code : 98295\n",
      "o_url : http://www.courts.wa.gov/court_dir/orgs/296.html\n",
      "\n",
      "29/10 positive, 79/10 negative\n",
      "Do these records refer to the same thing?\n",
      "(y)es / (n)o / (u)nsure / (f)inished / (p)revious\n"
     ]
    },
    {
     "name": "stdout",
     "output_type": "stream",
     "text": [
      "n\n"
     ]
    },
    {
     "name": "stderr",
     "output_type": "stream",
     "text": [
      "o_name : foothills food bank\n",
      "address_1 : 8255 kendall road\n",
      "address_2 : \n",
      "city : maple falls\n",
      "state_province : wa\n",
      "postal_code : 98266\n",
      "o_url : http://www.foothillsfoodbank.org\n",
      "\n",
      "o_name : north sound cooling centers\n",
      "address_1 : 7506 kendall road\n",
      "address_2 : \n",
      "city : maple falls\n",
      "state_province : wa\n",
      "postal_code : 98266\n",
      "o_url : \n",
      "\n",
      "29/10 positive, 80/10 negative\n",
      "Do these records refer to the same thing?\n",
      "(y)es / (n)o / (u)nsure / (f)inished / (p)revious\n"
     ]
    },
    {
     "name": "stdout",
     "output_type": "stream",
     "text": [
      "n\n"
     ]
    },
    {
     "name": "stderr",
     "output_type": "stream",
     "text": [
      "o_name : whatcom county courts\n",
      "address_1 : 2014 c street\n",
      "address_2 : \n",
      "city : bellingham\n",
      "state_province : wa\n",
      "postal_code : 98225\n",
      "o_url : http://www.courts.wa.gov/court_dir/orgs/296.html\n",
      "\n",
      "o_name : whatcom county courts\n",
      "address_1 : 433 cherry street\n",
      "address_2 : \n",
      "city : sumas\n",
      "state_province : wa\n",
      "postal_code : 98295\n",
      "o_url : http://www.courts.wa.gov/court_dir/orgs/296.html\n",
      "\n",
      "29/10 positive, 81/10 negative\n",
      "Do these records refer to the same thing?\n",
      "(y)es / (n)o / (u)nsure / (f)inished / (p)revious\n"
     ]
    },
    {
     "name": "stdout",
     "output_type": "stream",
     "text": [
      "n\n"
     ]
    },
    {
     "name": "stderr",
     "output_type": "stream",
     "text": [
      "o_name : lydia place\n",
      "address_1 : 1701 gladstone street\n",
      "address_2 : \n",
      "city : bellingham\n",
      "state_province : wa\n",
      "postal_code : 98229\n",
      "o_url : http://www.lydiaplace.org\n",
      "\n",
      "o_name : usda\n",
      "address_1 : 1701 ellis street\n",
      "address_2 : suite 221\n",
      "city : bellingham\n",
      "state_province : wa\n",
      "postal_code : 98225\n",
      "o_url : \n",
      "\n",
      "29/10 positive, 82/10 negative\n",
      "Do these records refer to the same thing?\n",
      "(y)es / (n)o / (u)nsure / (f)inished / (p)revious\n"
     ]
    },
    {
     "name": "stdout",
     "output_type": "stream",
     "text": [
      "n\n"
     ]
    },
    {
     "name": "stderr",
     "output_type": "stream",
     "text": [
      "o_name : usda\n",
      "address_1 : 1701 ellis street\n",
      "address_2 : suite 221\n",
      "city : bellingham\n",
      "state_province : wa\n",
      "postal_code : 98225\n",
      "o_url : \n",
      "\n",
      "o_name : lydia place\n",
      "address_1 : 1701 gladstone street\n",
      "address_2 : None\n",
      "city : bellingham\n",
      "state_province : wa\n",
      "postal_code : 98229\n",
      "o_url : https://lydiaplace.org/\n",
      "\n",
      "29/10 positive, 83/10 negative\n",
      "Do these records refer to the same thing?\n",
      "(y)es / (n)o / (u)nsure / (f)inished / (p)revious\n"
     ]
    },
    {
     "name": "stdout",
     "output_type": "stream",
     "text": [
      "n\n"
     ]
    },
    {
     "name": "stderr",
     "output_type": "stream",
     "text": [
      "o_name : boys and girls clubs of whatcom county\n",
      "address_1 : 2015 cherry street\n",
      "address_2 : \n",
      "city : ferndale\n",
      "state_province : wa\n",
      "postal_code : 98248\n",
      "o_url : http://www.whatcomclubs.org\n",
      "\n",
      "o_name : boys and girls clubs of whatcom county\n",
      "address_1 : 635 8th street\n",
      "address_2 : \n",
      "city : blaine\n",
      "state_province : wa\n",
      "postal_code : 98230\n",
      "o_url : http://www.whatcomclubs.org\n",
      "\n",
      "29/10 positive, 84/10 negative\n",
      "Do these records refer to the same thing?\n",
      "(y)es / (n)o / (u)nsure / (f)inished / (p)revious\n"
     ]
    },
    {
     "name": "stdout",
     "output_type": "stream",
     "text": [
      "n\n"
     ]
    },
    {
     "name": "stderr",
     "output_type": "stream",
     "text": [
      "o_name : north sound cooling centers\n",
      "address_1 : 210 central avenue\n",
      "address_2 : \n",
      "city : bellingham\n",
      "state_province : wa\n",
      "postal_code : 98225\n",
      "o_url : \n",
      "\n",
      "o_name : bellingham public library\n",
      "address_1 : 210 central ave\n",
      "address_2 : None\n",
      "city : bellingham\n",
      "state_province : wa\n",
      "postal_code : 98227\n",
      "o_url : \n",
      "\n",
      "29/10 positive, 85/10 negative\n",
      "Do these records refer to the same thing?\n",
      "(y)es / (n)o / (u)nsure / (f)inished / (p)revious\n"
     ]
    },
    {
     "name": "stdout",
     "output_type": "stream",
     "text": [
      "n\n"
     ]
    },
    {
     "name": "stderr",
     "output_type": "stream",
     "text": [
      "o_name : opportunity council (whatcom san juan)\n",
      "address_1 : 1111 cornwall ave,suite c\n",
      "address_2 : None\n",
      "city : bellingham\n",
      "state_province : wa\n",
      "postal_code : 98225\n",
      "o_url : https://www.oppco.org/\n",
      "\n",
      "o_name : early intervention services (whatcom county)\n",
      "address_1 : 1111 cornwall ave,ste 200\n",
      "address_2 : None\n",
      "city : bellingham\n",
      "state_province : wa\n",
      "postal_code : 98225\n",
      "o_url : \n",
      "\n",
      "29/10 positive, 86/10 negative\n",
      "Do these records refer to the same thing?\n",
      "(y)es / (n)o / (u)nsure / (f)inished / (p)revious\n"
     ]
    },
    {
     "name": "stdout",
     "output_type": "stream",
     "text": [
      "n\n"
     ]
    },
    {
     "name": "stderr",
     "output_type": "stream",
     "text": [
      "o_name : new way ministries\n",
      "address_1 : 205 south british columbia avenue\n",
      "address_2 : \n",
      "city : lynden\n",
      "state_province : wa\n",
      "postal_code : 98264\n",
      "o_url : http://www.christianhopeassociation.org\n",
      "\n",
      "o_name : project hope\n",
      "address_1 : 205 s british columbia ave\n",
      "address_2 : None\n",
      "city : lynden\n",
      "state_province : wa\n",
      "postal_code : 98264\n",
      "o_url : https://www.projecthopelynden.org/project-hope-food-bank/\n",
      "\n",
      "29/10 positive, 87/10 negative\n",
      "Do these records refer to the same thing?\n",
      "(y)es / (n)o / (u)nsure / (f)inished / (p)revious\n"
     ]
    },
    {
     "name": "stdout",
     "output_type": "stream",
     "text": [
      "n\n"
     ]
    },
    {
     "name": "stderr",
     "output_type": "stream",
     "text": [
      "o_name : whatcom county courts\n",
      "address_1 : 1020 north state street\n",
      "address_2 : \n",
      "city : bellingham\n",
      "state_province : wa\n",
      "postal_code : 98225\n",
      "o_url : http://www.courts.wa.gov/court_dir/orgs/296.html\n",
      "\n",
      "o_name : whatcom county courts\n",
      "address_1 : 433 cherry street\n",
      "address_2 : \n",
      "city : sumas\n",
      "state_province : wa\n",
      "postal_code : 98295\n",
      "o_url : http://www.courts.wa.gov/court_dir/orgs/296.html\n",
      "\n",
      "29/10 positive, 88/10 negative\n",
      "Do these records refer to the same thing?\n",
      "(y)es / (n)o / (u)nsure / (f)inished / (p)revious\n"
     ]
    },
    {
     "name": "stdout",
     "output_type": "stream",
     "text": [
      "n\n"
     ]
    },
    {
     "name": "stderr",
     "output_type": "stream",
     "text": [
      "o_name : whatcom county courts\n",
      "address_1 : 111 w main st\n",
      "address_2 : \n",
      "city : everson\n",
      "state_province : wa\n",
      "postal_code : 98247\n",
      "o_url : http://www.courts.wa.gov/court_dir/orgs/296.html\n",
      "\n",
      "o_name : whatcom county courts\n",
      "address_1 : 433 cherry street\n",
      "address_2 : \n",
      "city : sumas\n",
      "state_province : wa\n",
      "postal_code : 98295\n",
      "o_url : http://www.courts.wa.gov/court_dir/orgs/296.html\n",
      "\n",
      "29/10 positive, 89/10 negative\n",
      "Do these records refer to the same thing?\n",
      "(y)es / (n)o / (u)nsure / (f)inished / (p)revious\n"
     ]
    },
    {
     "name": "stdout",
     "output_type": "stream",
     "text": [
      "n\n"
     ]
    },
    {
     "name": "stderr",
     "output_type": "stream",
     "text": [
      "o_name : nami whatcom\n",
      "address_1 : 800 east chestnut street\n",
      "address_2 : 1c\n",
      "city : bellingham\n",
      "state_province : wa\n",
      "postal_code : 98225\n",
      "o_url : http://www.namiwhatcom.org\n",
      "\n",
      "o_name : whatcom county dental resource list\n",
      "address_1 : 800 e chestnut ll suite 2\n",
      "address_2 : None\n",
      "city : bellingham\n",
      "state_province : wa\n",
      "postal_code : 98227\n",
      "o_url : \n",
      "\n",
      "29/10 positive, 90/10 negative\n",
      "Do these records refer to the same thing?\n",
      "(y)es / (n)o / (u)nsure / (f)inished / (p)revious\n"
     ]
    },
    {
     "name": "stdout",
     "output_type": "stream",
     "text": [
      "n\n"
     ]
    },
    {
     "name": "stderr",
     "output_type": "stream",
     "text": [
      "o_name : opportunity council in whatcom county\n",
      "address_1 : 1111 cornwall avenue\n",
      "address_2 : suite c\n",
      "city : bellingham\n",
      "state_province : wa\n",
      "postal_code : 98225\n",
      "o_url : http://www.oppco.org\n",
      "\n",
      "o_name : opportunity council in whatcom county\n",
      "address_1 : 2117 walnut street\n",
      "address_2 : \n",
      "city : bellingham\n",
      "state_province : wa\n",
      "postal_code : 98225\n",
      "o_url : http://www.oppco.org\n",
      "\n",
      "29/10 positive, 91/10 negative\n",
      "Do these records refer to the same thing?\n",
      "(y)es / (n)o / (u)nsure / (f)inished / (p)revious\n"
     ]
    },
    {
     "name": "stdout",
     "output_type": "stream",
     "text": [
      "n\n"
     ]
    },
    {
     "name": "stderr",
     "output_type": "stream",
     "text": [
      "o_name : unity care northwest\n",
      "address_1 : 1616 cornwall avenue\n",
      "address_2 : \n",
      "city : bellingham\n",
      "state_province : wa\n",
      "postal_code : 98225\n",
      "o_url : http://unitycarenw.org\n",
      "\n",
      "o_name : unity care northwest\n",
      "address_1 : 6060 portal way\n",
      "address_2 : \n",
      "city : ferndale\n",
      "state_province : wa\n",
      "postal_code : 98248\n",
      "o_url : http://unitycarenw.org\n",
      "\n",
      "29/10 positive, 92/10 negative\n",
      "Do these records refer to the same thing?\n",
      "(y)es / (n)o / (u)nsure / (f)inished / (p)revious\n"
     ]
    },
    {
     "name": "stdout",
     "output_type": "stream",
     "text": [
      "n\n"
     ]
    },
    {
     "name": "stderr",
     "output_type": "stream",
     "text": [
      "o_name : western washington university\n",
      "address_1 : 188 east college way\n",
      "address_2 : room 453\n",
      "city : bellingham\n",
      "state_province : wa\n",
      "postal_code : 98225\n",
      "o_url : http://www.wwu.edu\n",
      "\n",
      "o_name : western washington university\n",
      "address_1 : 516 high street\n",
      "address_2 : \n",
      "city : bellingham\n",
      "state_province : wa\n",
      "postal_code : 98225\n",
      "o_url : http://www.wwu.edu\n",
      "\n",
      "29/10 positive, 93/10 negative\n",
      "Do these records refer to the same thing?\n",
      "(y)es / (n)o / (u)nsure / (f)inished / (p)revious\n"
     ]
    },
    {
     "name": "stdout",
     "output_type": "stream",
     "text": [
      "n\n"
     ]
    },
    {
     "name": "stderr",
     "output_type": "stream",
     "text": [
      "o_name : western washington university\n",
      "address_1 : 516 high street\n",
      "address_2 : \n",
      "city : bellingham\n",
      "state_province : wa\n",
      "postal_code : 98225\n",
      "o_url : http://www.wwu.edu\n",
      "\n",
      "o_name : western washington university\n",
      "address_1 : 188 east college way\n",
      "address_2 : room 453\n",
      "city : bellingham\n",
      "state_province : wa\n",
      "postal_code : 98225\n",
      "o_url : http://www.wwu.edu\n",
      "\n",
      "29/10 positive, 94/10 negative\n",
      "Do these records refer to the same thing?\n",
      "(y)es / (n)o / (u)nsure / (f)inished / (p)revious\n"
     ]
    },
    {
     "name": "stdout",
     "output_type": "stream",
     "text": [
      "n\n"
     ]
    },
    {
     "name": "stderr",
     "output_type": "stream",
     "text": [
      "o_name : bellingham public library\n",
      "address_1 : 3111 newmarket street\n",
      "address_2 : suite 103\n",
      "city : bellingham\n",
      "state_province : wa\n",
      "postal_code : 98226\n",
      "o_url : http://www.bellinghampubliclibrary.org\n",
      "\n",
      "o_name : north sound cooling centers\n",
      "address_1 : 3111 newmarket street\n",
      "address_2 : suite 103\n",
      "city : bellingham\n",
      "state_province : wa\n",
      "postal_code : 98226\n",
      "o_url : \n",
      "\n",
      "29/10 positive, 95/10 negative\n",
      "Do these records refer to the same thing?\n",
      "(y)es / (n)o / (u)nsure / (f)inished / (p)revious\n"
     ]
    },
    {
     "name": "stdout",
     "output_type": "stream",
     "text": [
      "n\n"
     ]
    },
    {
     "name": "stderr",
     "output_type": "stream",
     "text": [
      "o_name : law advocates\n",
      "address_1 : 1415 commercial street\n",
      "address_2 : \n",
      "city : bellingham\n",
      "state_province : wa\n",
      "postal_code : 98225\n",
      "o_url : http://www.lawadvocates.org\n",
      "\n",
      "o_name : law advocates\n",
      "address_1 : 210 central avenue\n",
      "address_2 : \n",
      "city : bellingham\n",
      "state_province : wa\n",
      "postal_code : 98225\n",
      "o_url : http://www.lawadvocates.org\n",
      "\n",
      "29/10 positive, 96/10 negative\n",
      "Do these records refer to the same thing?\n",
      "(y)es / (n)o / (u)nsure / (f)inished / (p)revious\n"
     ]
    },
    {
     "name": "stdout",
     "output_type": "stream",
     "text": [
      "n\n"
     ]
    },
    {
     "name": "stderr",
     "output_type": "stream",
     "text": [
      "o_name : boys and girls clubs of whatcom county\n",
      "address_1 : 1715 kentucky street\n",
      "address_2 : \n",
      "city : bellingham\n",
      "state_province : wa\n",
      "postal_code : 98229\n",
      "o_url : http://www.whatcomclubs.org\n",
      "\n",
      "o_name : boys and girls clubs of whatcom county\n",
      "address_1 : 635 8th street\n",
      "address_2 : \n",
      "city : blaine\n",
      "state_province : wa\n",
      "postal_code : 98230\n",
      "o_url : http://www.whatcomclubs.org\n",
      "\n",
      "29/10 positive, 97/10 negative\n",
      "Do these records refer to the same thing?\n",
      "(y)es / (n)o / (u)nsure / (f)inished / (p)revious\n"
     ]
    },
    {
     "name": "stdout",
     "output_type": "stream",
     "text": [
      "n\n"
     ]
    },
    {
     "name": "stderr",
     "output_type": "stream",
     "text": [
      "o_name : catholic community services of western washington in whatcom county\n",
      "address_1 : 1133 railroad avenue\n",
      "address_2 : suite 100\n",
      "city : bellingham\n",
      "state_province : wa\n",
      "postal_code : 98225\n",
      "o_url : http://www.ccsww.org\n",
      "\n",
      "o_name : catholic community services of western washington in whatcom county\n",
      "address_1 : 515 lakeway drive\n",
      "address_2 : \n",
      "city : bellingham\n",
      "state_province : wa\n",
      "postal_code : 98225\n",
      "o_url : http://www.ccsww.org\n",
      "\n",
      "29/10 positive, 98/10 negative\n",
      "Do these records refer to the same thing?\n",
      "(y)es / (n)o / (u)nsure / (f)inished / (p)revious\n"
     ]
    },
    {
     "name": "stdout",
     "output_type": "stream",
     "text": [
      "n\n"
     ]
    },
    {
     "name": "stderr",
     "output_type": "stream",
     "text": [
      "o_name : whatcom county\n",
      "address_1 : 3505 airport drive\n",
      "address_2 : \n",
      "city : bellingham\n",
      "state_province : wa\n",
      "postal_code : 98225\n",
      "o_url : http://www.co.whatcom.wa.us\n",
      "\n",
      "o_name : whatcom county\n",
      "address_1 : 215 north commercial street\n",
      "address_2 : \n",
      "city : bellingham\n",
      "state_province : wa\n",
      "postal_code : 98225\n",
      "o_url : http://www.co.whatcom.wa.us\n",
      "\n",
      "29/10 positive, 99/10 negative\n",
      "Do these records refer to the same thing?\n",
      "(y)es / (n)o / (u)nsure / (f)inished / (p)revious\n"
     ]
    },
    {
     "name": "stdout",
     "output_type": "stream",
     "text": [
      "n\n"
     ]
    },
    {
     "name": "stderr",
     "output_type": "stream",
     "text": [
      "o_name : north sound cooling centers\n",
      "address_1 : 7506 kendall road\n",
      "address_2 : \n",
      "city : maple falls\n",
      "state_province : wa\n",
      "postal_code : 98266\n",
      "o_url : \n",
      "\n",
      "o_name : food lifeline mobile food program in maple falls\n",
      "address_1 : 8251 kendall rd\n",
      "address_2 : None\n",
      "city : maple falls\n",
      "state_province : wa\n",
      "postal_code : 98266\n",
      "o_url : \n",
      "\n",
      "29/10 positive, 100/10 negative\n",
      "Do these records refer to the same thing?\n",
      "(y)es / (n)o / (u)nsure / (f)inished / (p)revious\n"
     ]
    },
    {
     "name": "stdout",
     "output_type": "stream",
     "text": [
      "n\n"
     ]
    },
    {
     "name": "stderr",
     "output_type": "stream",
     "text": [
      "o_name : dshs division of child support\n",
      "address_1 : 4101 meridian street\n",
      "address_2 : \n",
      "city : bellingham\n",
      "state_province : wa\n",
      "postal_code : 98226\n",
      "o_url : http://dshs.wa.gov/dcs\n",
      "\n",
      "o_name : dshs community services offices\n",
      "address_1 : 4101 meridian ave\n",
      "address_2 : \n",
      "city : bellingham\n",
      "state_province : wa\n",
      "postal_code : 98226\n",
      "o_url : https://www.dshs.wa.gov/food-cash-medical\n",
      "\n",
      "29/10 positive, 101/10 negative\n",
      "Do these records refer to the same thing?\n",
      "(y)es / (n)o / (u)nsure / (f)inished / (p)revious\n"
     ]
    },
    {
     "name": "stdout",
     "output_type": "stream",
     "text": [
      "n\n"
     ]
    },
    {
     "name": "stderr",
     "output_type": "stream",
     "text": [
      "o_name : depressive and bipolar support alliance whatcom county\n",
      "address_1 : 800 chestnut street\n",
      "address_2 : suite 1c\n",
      "city : bellingham\n",
      "state_province : wa\n",
      "postal_code : 98225\n",
      "o_url : http://www.dbsalliance.org\n",
      "\n",
      "o_name : bellingham central lions club\n",
      "address_1 : 800 east chestnut street\n",
      "address_2 : suite 3b\n",
      "city : bellingham\n",
      "state_province : wa\n",
      "postal_code : 98225\n",
      "o_url : http://www.bellinghamcentrallions.org\n",
      "\n",
      "29/10 positive, 102/10 negative\n",
      "Do these records refer to the same thing?\n",
      "(y)es / (n)o / (u)nsure / (f)inished / (p)revious\n"
     ]
    },
    {
     "name": "stdout",
     "output_type": "stream",
     "text": [
      "n\n"
     ]
    },
    {
     "name": "stderr",
     "output_type": "stream",
     "text": [
      "o_name : whatcom county courts\n",
      "address_1 : 205 4th street\n",
      "address_2 : \n",
      "city : lynden\n",
      "state_province : wa\n",
      "postal_code : 98264\n",
      "o_url : http://www.courts.wa.gov/court_dir/orgs/296.html\n",
      "\n",
      "o_name : whatcom center for early learning (ferndale)\n",
      "address_1 : 205 cherry st,5534 2nd ave\n",
      "address_2 : None\n",
      "city : ferndale\n",
      "state_province : wa\n",
      "postal_code : 98248\n",
      "o_url : \n",
      "\n",
      "29/10 positive, 103/10 negative\n",
      "Do these records refer to the same thing?\n",
      "(y)es / (n)o / (u)nsure / (f)inished / (p)revious\n"
     ]
    },
    {
     "name": "stdout",
     "output_type": "stream",
     "text": [
      "n\n"
     ]
    },
    {
     "name": "stderr",
     "output_type": "stream",
     "text": [
      "o_name : internal revenue service\n",
      "address_1 : 114 west magnolia street\n",
      "address_2 : \n",
      "city : bellingham\n",
      "state_province : wa\n",
      "postal_code : 98225\n",
      "o_url : https://www.irs.gov/help/contact-my-local-office-in-washington\n",
      "\n",
      "o_name : hearing, speech and deaf center (bellingham)\n",
      "address_1 : 114 w magnolia st,suite 106\n",
      "address_2 : None\n",
      "city : bellingham\n",
      "state_province : wa\n",
      "postal_code : 98225\n",
      "o_url : \n",
      "\n",
      "29/10 positive, 104/10 negative\n",
      "Do these records refer to the same thing?\n",
      "(y)es / (n)o / (u)nsure / (f)inished / (p)revious\n"
     ]
    },
    {
     "name": "stdout",
     "output_type": "stream",
     "text": [
      "n\n"
     ]
    },
    {
     "name": "stderr",
     "output_type": "stream",
     "text": [
      "o_name : whatcom hospice\n",
      "address_1 : 2800 douglas avenue\n",
      "address_2 : \n",
      "city : bellingham\n",
      "state_province : wa\n",
      "postal_code : 98225\n",
      "o_url : http://whatcomhospice.org\n",
      "\n",
      "o_name : whatcom hospice\n",
      "address_1 : 3001 squalicum parkway\n",
      "address_2 : suite 11\n",
      "city : bellingham\n",
      "state_province : wa\n",
      "postal_code : 98225\n",
      "o_url : http://whatcomhospice.org\n",
      "\n",
      "29/10 positive, 105/10 negative\n",
      "Do these records refer to the same thing?\n",
      "(y)es / (n)o / (u)nsure / (f)inished / (p)revious\n"
     ]
    },
    {
     "name": "stdout",
     "output_type": "stream",
     "text": [
      "n\n"
     ]
    },
    {
     "name": "stderr",
     "output_type": "stream",
     "text": [
      "o_name : sea mar community health centers\n",
      "address_1 : 1603 east illinois street\n",
      "address_2 : \n",
      "city : bellingham\n",
      "state_province : wa\n",
      "postal_code : 98226\n",
      "o_url : https://www.seamar.org/\n",
      "\n",
      "o_name : sea mar community health centers\n",
      "address_1 : 6046 portal way\n",
      "address_2 : \n",
      "city : ferndale\n",
      "state_province : wa\n",
      "postal_code : 98248\n",
      "o_url : https://www.seamar.org/\n",
      "\n",
      "29/10 positive, 106/10 negative\n",
      "Do these records refer to the same thing?\n",
      "(y)es / (n)o / (u)nsure / (f)inished / (p)revious\n"
     ]
    },
    {
     "name": "stdout",
     "output_type": "stream",
     "text": [
      "n\n"
     ]
    },
    {
     "name": "stderr",
     "output_type": "stream",
     "text": [
      "o_name : opportunity council - east whatcom regional resource center\n",
      "address_1 : 8251 kendall road\n",
      "address_2 : \n",
      "city : maple falls\n",
      "state_province : wa\n",
      "postal_code : 98266\n",
      "o_url : https://www.oppco.org/ewrrc\n",
      "\n",
      "o_name : kendall elementary school\n",
      "address_1 : 7547 kendall rd\n",
      "address_2 : None\n",
      "city : maple falls\n",
      "state_province : wa\n",
      "postal_code : 98266\n",
      "o_url : https://www.mtbaker.wednet.edu/o/kendall\n",
      "\n",
      "29/10 positive, 107/10 negative\n",
      "Do these records refer to the same thing?\n",
      "(y)es / (n)o / (u)nsure / (f)inished / (p)revious\n"
     ]
    },
    {
     "name": "stdout",
     "output_type": "stream",
     "text": [
      "y\n"
     ]
    },
    {
     "name": "stderr",
     "output_type": "stream",
     "text": [
      "o_name : sea mar community health centers\n",
      "address_1 : 3350 airport drive\n",
      "address_2 : \n",
      "city : bellingham\n",
      "state_province : wa\n",
      "postal_code : 98226\n",
      "o_url : https://www.seamar.org/\n",
      "\n",
      "o_name : sea mar community health centers\n",
      "address_1 : 4455 cordata parkway\n",
      "address_2 : \n",
      "city : bellingham\n",
      "state_province : wa\n",
      "postal_code : 98226\n",
      "o_url : https://www.seamar.org/\n",
      "\n",
      "30/10 positive, 107/10 negative\n",
      "Do these records refer to the same thing?\n",
      "(y)es / (n)o / (u)nsure / (f)inished / (p)revious\n"
     ]
    },
    {
     "name": "stdout",
     "output_type": "stream",
     "text": [
      "n\n"
     ]
    },
    {
     "name": "stderr",
     "output_type": "stream",
     "text": [
      "o_name : sea mar community health centers\n",
      "address_1 : 3350 airport drive\n",
      "address_2 : \n",
      "city : bellingham\n",
      "state_province : wa\n",
      "postal_code : 98226\n",
      "o_url : https://www.seamar.org/\n",
      "\n",
      "o_name : sea mar community health centers\n",
      "address_1 : 1603 east illinois street\n",
      "address_2 : \n",
      "city : bellingham\n",
      "state_province : wa\n",
      "postal_code : 98226\n",
      "o_url : https://www.seamar.org/\n",
      "\n",
      "30/10 positive, 108/10 negative\n",
      "Do these records refer to the same thing?\n",
      "(y)es / (n)o / (u)nsure / (f)inished / (p)revious\n"
     ]
    },
    {
     "name": "stdout",
     "output_type": "stream",
     "text": [
      "n\n"
     ]
    },
    {
     "name": "stderr",
     "output_type": "stream",
     "text": [
      "o_name : lake whatcom residential and treatment center\n",
      "address_1 : 3600 meridian street\n",
      "address_2 : \n",
      "city : bellingham\n",
      "state_province : wa\n",
      "postal_code : 98225\n",
      "o_url : http://lwrtc.org\n",
      "\n",
      "o_name : lake whatcom residential and treatment center\n",
      "address_1 : 3400 agate heights road\n",
      "address_2 : \n",
      "city : bellingham\n",
      "state_province : wa\n",
      "postal_code : 98226\n",
      "o_url : http://lwrtc.org\n",
      "\n",
      "30/10 positive, 109/10 negative\n",
      "Do these records refer to the same thing?\n",
      "(y)es / (n)o / (u)nsure / (f)inished / (p)revious\n"
     ]
    },
    {
     "name": "stdout",
     "output_type": "stream",
     "text": [
      "n\n"
     ]
    },
    {
     "name": "stderr",
     "output_type": "stream",
     "text": [
      "o_name : point roberts food bank\n",
      "address_1 : 323 evergreen way\n",
      "address_2 : \n",
      "city : point roberts\n",
      "state_province : wa\n",
      "postal_code : 98281\n",
      "o_url : http://www.harmonywebdesigns.com/pointrobertschurch/announcements.htm\n",
      "\n",
      "o_name : point roberts food bank\n",
      "address_1 : 1480 gulf rd\n",
      "address_2 : None\n",
      "city : point roberts\n",
      "state_province : wa\n",
      "postal_code : 98281\n",
      "o_url : \n",
      "\n",
      "30/10 positive, 110/10 negative\n",
      "Do these records refer to the same thing?\n",
      "(y)es / (n)o / (u)nsure / (f)inished / (p)revious\n"
     ]
    },
    {
     "name": "stdout",
     "output_type": "stream",
     "text": [
      "n\n"
     ]
    },
    {
     "name": "stderr",
     "output_type": "stream",
     "text": [
      "o_name : whatcom county courts\n",
      "address_1 : 1020 north state street\n",
      "address_2 : \n",
      "city : bellingham\n",
      "state_province : wa\n",
      "postal_code : 98225\n",
      "o_url : http://www.courts.wa.gov/court_dir/orgs/296.html\n",
      "\n",
      "o_name : whatcom county courts\n",
      "address_1 : 311 grand avenue\n",
      "address_2 : suite 301\n",
      "city : bellingham\n",
      "state_province : wa\n",
      "postal_code : 98225\n",
      "o_url : http://www.courts.wa.gov/court_dir/orgs/296.html\n",
      "\n",
      "30/10 positive, 111/10 negative\n",
      "Do these records refer to the same thing?\n",
      "(y)es / (n)o / (u)nsure / (f)inished / (p)revious\n"
     ]
    },
    {
     "name": "stdout",
     "output_type": "stream",
     "text": [
      "n\n"
     ]
    },
    {
     "name": "stderr",
     "output_type": "stream",
     "text": [
      "o_name : whatcom county courts\n",
      "address_1 : 1020 north state street\n",
      "address_2 : \n",
      "city : bellingham\n",
      "state_province : wa\n",
      "postal_code : 98225\n",
      "o_url : http://www.courts.wa.gov/court_dir/orgs/296.html\n",
      "\n",
      "o_name : whatcom county courts\n",
      "address_1 : 311 grand avenue\n",
      "address_2 : suite 401\n",
      "city : bellingham\n",
      "state_province : wa\n",
      "postal_code : 98225\n",
      "o_url : http://www.courts.wa.gov/court_dir/orgs/296.html\n",
      "\n",
      "30/10 positive, 112/10 negative\n",
      "Do these records refer to the same thing?\n",
      "(y)es / (n)o / (u)nsure / (f)inished / (p)revious\n"
     ]
    },
    {
     "name": "stdout",
     "output_type": "stream",
     "text": [
      "n\n"
     ]
    },
    {
     "name": "stderr",
     "output_type": "stream",
     "text": [
      "o_name : whatcom county courts\n",
      "address_1 : 311 grand avenue\n",
      "address_2 : suite 501\n",
      "city : bellingham\n",
      "state_province : wa\n",
      "postal_code : 98225\n",
      "o_url : http://www.courts.wa.gov/court_dir/orgs/296.html\n",
      "\n",
      "o_name : whatcom county courts\n",
      "address_1 : 1020 north state street\n",
      "address_2 : \n",
      "city : bellingham\n",
      "state_province : wa\n",
      "postal_code : 98225\n",
      "o_url : http://www.courts.wa.gov/court_dir/orgs/296.html\n",
      "\n",
      "30/10 positive, 113/10 negative\n",
      "Do these records refer to the same thing?\n",
      "(y)es / (n)o / (u)nsure / (f)inished / (p)revious\n"
     ]
    },
    {
     "name": "stdout",
     "output_type": "stream",
     "text": [
      "n\n"
     ]
    },
    {
     "name": "stderr",
     "output_type": "stream",
     "text": [
      "o_name : bellingham public library\n",
      "address_1 : 210 central avenue\n",
      "address_2 : \n",
      "city : bellingham\n",
      "state_province : wa\n",
      "postal_code : 98225\n",
      "o_url : http://www.bellinghampubliclibrary.org\n",
      "\n",
      "o_name : bellingham public library\n",
      "address_1 : 1117 12th street\n",
      "address_2 : \n",
      "city : bellingham\n",
      "state_province : wa\n",
      "postal_code : 98225\n",
      "o_url : http://www.bellinghampubliclibrary.org\n",
      "\n",
      "30/10 positive, 114/10 negative\n",
      "Do these records refer to the same thing?\n",
      "(y)es / (n)o / (u)nsure / (f)inished / (p)revious\n"
     ]
    },
    {
     "name": "stdout",
     "output_type": "stream",
     "text": [
      "n\n"
     ]
    },
    {
     "name": "stderr",
     "output_type": "stream",
     "text": [
      "o_name : opportunity council in whatcom county\n",
      "address_1 : 1111 cornwall avenue\n",
      "address_2 : suite c\n",
      "city : bellingham\n",
      "state_province : wa\n",
      "postal_code : 98225\n",
      "o_url : http://www.oppco.org\n",
      "\n",
      "o_name : opportunity council in whatcom county\n",
      "address_1 : 2750 mcleod rd\n",
      "address_2 : \n",
      "city : bellingham\n",
      "state_province : wa\n",
      "postal_code : 98225\n",
      "o_url : http://www.oppco.org\n",
      "\n",
      "30/10 positive, 115/10 negative\n",
      "Do these records refer to the same thing?\n",
      "(y)es / (n)o / (u)nsure / (f)inished / (p)revious\n"
     ]
    },
    {
     "name": "stdout",
     "output_type": "stream",
     "text": [
      "n\n"
     ]
    },
    {
     "name": "stderr",
     "output_type": "stream",
     "text": [
      "o_name : north sound cooling centers\n",
      "address_1 : 8251 kendall road\n",
      "address_2 : \n",
      "city : maple falls\n",
      "state_province : wa\n",
      "postal_code : 98266\n",
      "o_url : \n",
      "\n",
      "o_name : foothills food bank (saint peters church)\n",
      "address_1 : east whatcom regional resource center,8255 kendal road\n",
      "address_2 : None\n",
      "city : maple falls\n",
      "state_province : wa\n",
      "postal_code : 98266\n",
      "o_url : \n",
      "\n",
      "30/10 positive, 116/10 negative\n",
      "Do these records refer to the same thing?\n",
      "(y)es / (n)o / (u)nsure / (f)inished / (p)revious\n"
     ]
    },
    {
     "name": "stdout",
     "output_type": "stream",
     "text": [
      "n\n"
     ]
    },
    {
     "name": "stderr",
     "output_type": "stream",
     "text": [
      "o_name : north sound cooling centers\n",
      "address_1 : 7506 kendall road\n",
      "address_2 : \n",
      "city : maple falls\n",
      "state_province : wa\n",
      "postal_code : 98266\n",
      "o_url : \n",
      "\n",
      "o_name : foothills food bank (saint peters church)\n",
      "address_1 : east whatcom regional resource center,8255 kendal road\n",
      "address_2 : None\n",
      "city : maple falls\n",
      "state_province : wa\n",
      "postal_code : 98266\n",
      "o_url : \n",
      "\n",
      "30/10 positive, 117/10 negative\n",
      "Do these records refer to the same thing?\n",
      "(y)es / (n)o / (u)nsure / (f)inished / (p)revious\n"
     ]
    },
    {
     "name": "stdout",
     "output_type": "stream",
     "text": [
      "n\n"
     ]
    },
    {
     "name": "stderr",
     "output_type": "stream",
     "text": [
      "o_name : law advocates\n",
      "address_1 : 1415 commercial street\n",
      "address_2 : \n",
      "city : bellingham\n",
      "state_province : wa\n",
      "postal_code : 98225\n",
      "o_url : http://www.lawadvocates.org\n",
      "\n",
      "o_name : law advocates\n",
      "address_1 : 311 grand avenue\n",
      "address_2 : 5th floor\n",
      "city : bellingham\n",
      "state_province : wa\n",
      "postal_code : 98225\n",
      "o_url : http://www.lawadvocates.org\n",
      "\n",
      "30/10 positive, 118/10 negative\n",
      "Do these records refer to the same thing?\n",
      "(y)es / (n)o / (u)nsure / (f)inished / (p)revious\n"
     ]
    },
    {
     "name": "stdout",
     "output_type": "stream",
     "text": [
      "n\n"
     ]
    },
    {
     "name": "stderr",
     "output_type": "stream",
     "text": [
      "o_name : whatcom county courts\n",
      "address_1 : 311 grand avenue\n",
      "address_2 : suite 501\n",
      "city : bellingham\n",
      "state_province : wa\n",
      "postal_code : 98225\n",
      "o_url : http://www.courts.wa.gov/court_dir/orgs/296.html\n",
      "\n",
      "o_name : whatcom county courts\n",
      "address_1 : 111 w main st\n",
      "address_2 : \n",
      "city : everson\n",
      "state_province : wa\n",
      "postal_code : 98247\n",
      "o_url : http://www.courts.wa.gov/court_dir/orgs/296.html\n",
      "\n",
      "30/10 positive, 119/10 negative\n",
      "Do these records refer to the same thing?\n",
      "(y)es / (n)o / (u)nsure / (f)inished / (p)revious\n"
     ]
    },
    {
     "name": "stdout",
     "output_type": "stream",
     "text": [
      "n\n"
     ]
    },
    {
     "name": "stderr",
     "output_type": "stream",
     "text": [
      "o_name : whatcom county courts\n",
      "address_1 : 311 grand avenue\n",
      "address_2 : suite 301\n",
      "city : bellingham\n",
      "state_province : wa\n",
      "postal_code : 98225\n",
      "o_url : http://www.courts.wa.gov/court_dir/orgs/296.html\n",
      "\n",
      "o_name : whatcom county courts\n",
      "address_1 : 111 w main st\n",
      "address_2 : \n",
      "city : everson\n",
      "state_province : wa\n",
      "postal_code : 98247\n",
      "o_url : http://www.courts.wa.gov/court_dir/orgs/296.html\n",
      "\n",
      "30/10 positive, 120/10 negative\n",
      "Do these records refer to the same thing?\n",
      "(y)es / (n)o / (u)nsure / (f)inished / (p)revious\n"
     ]
    },
    {
     "name": "stdout",
     "output_type": "stream",
     "text": [
      "n\n"
     ]
    },
    {
     "name": "stderr",
     "output_type": "stream",
     "text": [
      "o_name : whatcom county courts\n",
      "address_1 : 311 grand avenue\n",
      "address_2 : suite 401\n",
      "city : bellingham\n",
      "state_province : wa\n",
      "postal_code : 98225\n",
      "o_url : http://www.courts.wa.gov/court_dir/orgs/296.html\n",
      "\n",
      "o_name : whatcom county courts\n",
      "address_1 : 111 w main st\n",
      "address_2 : \n",
      "city : everson\n",
      "state_province : wa\n",
      "postal_code : 98247\n",
      "o_url : http://www.courts.wa.gov/court_dir/orgs/296.html\n",
      "\n",
      "30/10 positive, 121/10 negative\n",
      "Do these records refer to the same thing?\n",
      "(y)es / (n)o / (u)nsure / (f)inished / (p)revious\n"
     ]
    },
    {
     "name": "stdout",
     "output_type": "stream",
     "text": [
      "n\n"
     ]
    },
    {
     "name": "stderr",
     "output_type": "stream",
     "text": [
      "o_name : western washington university\n",
      "address_1 : 516 high street\n",
      "address_2 : 2nd floor, room 256\n",
      "city : bellingham\n",
      "state_province : wa\n",
      "postal_code : 98225\n",
      "o_url : http://www.wwu.edu\n",
      "\n",
      "o_name : western washington university\n",
      "address_1 : 188 east college way\n",
      "address_2 : room 453\n",
      "city : bellingham\n",
      "state_province : wa\n",
      "postal_code : 98225\n",
      "o_url : http://www.wwu.edu\n",
      "\n",
      "30/10 positive, 122/10 negative\n",
      "Do these records refer to the same thing?\n",
      "(y)es / (n)o / (u)nsure / (f)inished / (p)revious\n"
     ]
    },
    {
     "name": "stdout",
     "output_type": "stream",
     "text": [
      "n\n"
     ]
    },
    {
     "name": "stderr",
     "output_type": "stream",
     "text": [
      "o_name : bellingham food bank\n",
      "address_1 : 2020 cornwall avenue\n",
      "address_2 : \n",
      "city : bellingham\n",
      "state_province : wa\n",
      "postal_code : 98225\n",
      "o_url : http://bellinghamfoodbank.org\n",
      "\n",
      "o_name : bellingham food bank\n",
      "address_1 : 1175 jersey street\n",
      "address_2 : \n",
      "city : bellingham\n",
      "state_province : wa\n",
      "postal_code : 98225\n",
      "o_url : http://bellinghamfoodbank.org\n",
      "\n",
      "30/10 positive, 123/10 negative\n",
      "Do these records refer to the same thing?\n",
      "(y)es / (n)o / (u)nsure / (f)inished / (p)revious\n"
     ]
    },
    {
     "name": "stdout",
     "output_type": "stream",
     "text": [
      "n\n"
     ]
    },
    {
     "name": "stderr",
     "output_type": "stream",
     "text": [
      "o_name : sea mar community health centers\n",
      "address_1 : 6884 hannegan road\n",
      "address_2 : \n",
      "city : everson\n",
      "state_province : wa\n",
      "postal_code : 98247\n",
      "o_url : https://www.seamar.org/\n",
      "\n",
      "o_name : sea mar community health centers\n",
      "address_1 : 1603 east illinois street\n",
      "address_2 : \n",
      "city : bellingham\n",
      "state_province : wa\n",
      "postal_code : 98226\n",
      "o_url : https://www.seamar.org/\n",
      "\n",
      "30/10 positive, 124/10 negative\n",
      "Do these records refer to the same thing?\n",
      "(y)es / (n)o / (u)nsure / (f)inished / (p)revious\n"
     ]
    },
    {
     "name": "stdout",
     "output_type": "stream",
     "text": [
      "n\n"
     ]
    },
    {
     "name": "stderr",
     "output_type": "stream",
     "text": [
      "o_name : bellingham food bank\n",
      "address_1 : 1824 ellis street\n",
      "address_2 : \n",
      "city : bellingham\n",
      "state_province : wa\n",
      "postal_code : 98225\n",
      "o_url : http://bellinghamfoodbank.org\n",
      "\n",
      "o_name : bellingham food bank\n",
      "address_1 : 2717 alderwood avenue\n",
      "address_2 : \n",
      "city : bellingham\n",
      "state_province : wa\n",
      "postal_code : 98225\n",
      "o_url : http://bellinghamfoodbank.org\n",
      "\n",
      "30/10 positive, 125/10 negative\n",
      "Do these records refer to the same thing?\n",
      "(y)es / (n)o / (u)nsure / (f)inished / (p)revious\n"
     ]
    },
    {
     "name": "stdout",
     "output_type": "stream",
     "text": [
      "n\n"
     ]
    },
    {
     "name": "stderr",
     "output_type": "stream",
     "text": [
      "o_name : western washington university\n",
      "address_1 : 516 high street\n",
      "address_2 : room 265\n",
      "city : bellingham\n",
      "state_province : wa\n",
      "postal_code : 98225\n",
      "o_url : http://www.wwu.edu\n",
      "\n",
      "o_name : western washington university\n",
      "address_1 : 188 east college way\n",
      "address_2 : room 453\n",
      "city : bellingham\n",
      "state_province : wa\n",
      "postal_code : 98225\n",
      "o_url : http://www.wwu.edu\n",
      "\n",
      "30/10 positive, 126/10 negative\n",
      "Do these records refer to the same thing?\n",
      "(y)es / (n)o / (u)nsure / (f)inished / (p)revious\n"
     ]
    },
    {
     "name": "stdout",
     "output_type": "stream",
     "text": [
      "n\n"
     ]
    },
    {
     "name": "stderr",
     "output_type": "stream",
     "text": [
      "o_name : western washington university\n",
      "address_1 : 516 high street\n",
      "address_2 : room 540\n",
      "city : bellingham\n",
      "state_province : wa\n",
      "postal_code : 98225\n",
      "o_url : http://www.wwu.edu\n",
      "\n",
      "o_name : western washington university\n",
      "address_1 : 188 east college way\n",
      "address_2 : room 453\n",
      "city : bellingham\n",
      "state_province : wa\n",
      "postal_code : 98225\n",
      "o_url : http://www.wwu.edu\n",
      "\n",
      "30/10 positive, 127/10 negative\n",
      "Do these records refer to the same thing?\n",
      "(y)es / (n)o / (u)nsure / (f)inished / (p)revious\n"
     ]
    },
    {
     "name": "stdout",
     "output_type": "stream",
     "text": [
      "n\n"
     ]
    },
    {
     "name": "stderr",
     "output_type": "stream",
     "text": [
      "o_name : western washington university\n",
      "address_1 : 188 east college way\n",
      "address_2 : room 453\n",
      "city : bellingham\n",
      "state_province : wa\n",
      "postal_code : 98225\n",
      "o_url : http://www.wwu.edu\n",
      "\n",
      "o_name : western washington university\n",
      "address_1 : 516 high street\n",
      "address_2 : room 280\n",
      "city : bellingham\n",
      "state_province : wa\n",
      "postal_code : 98225\n",
      "o_url : http://www.wwu.edu\n",
      "\n",
      "30/10 positive, 128/10 negative\n",
      "Do these records refer to the same thing?\n",
      "(y)es / (n)o / (u)nsure / (f)inished / (p)revious\n"
     ]
    },
    {
     "name": "stdout",
     "output_type": "stream",
     "text": [
      "n\n"
     ]
    },
    {
     "name": "stderr",
     "output_type": "stream",
     "text": [
      "o_name : interfaith coalition of whatcom county\n",
      "address_1 : 495 east bakerview road\n",
      "address_2 : \n",
      "city : bellingham\n",
      "state_province : wa\n",
      "postal_code : 98226\n",
      "o_url : http://www.interfaith-coalition.org\n",
      "\n",
      "o_name : interfaith coalition of whatcom county\n",
      "address_1 : 400 north commercial street\n",
      "address_2 : \n",
      "city : bellingham\n",
      "state_province : wa\n",
      "postal_code : 98225\n",
      "o_url : http://www.interfaith-coalition.org\n",
      "\n",
      "30/10 positive, 129/10 negative\n",
      "Do these records refer to the same thing?\n",
      "(y)es / (n)o / (u)nsure / (f)inished / (p)revious\n"
     ]
    },
    {
     "name": "stdout",
     "output_type": "stream",
     "text": [
      "n\n"
     ]
    },
    {
     "name": "stderr",
     "output_type": "stream",
     "text": [
      "o_name : whatcom county courts\n",
      "address_1 : 2014 c street\n",
      "address_2 : \n",
      "city : bellingham\n",
      "state_province : wa\n",
      "postal_code : 98225\n",
      "o_url : http://www.courts.wa.gov/court_dir/orgs/296.html\n",
      "\n",
      "o_name : whatcom county courts\n",
      "address_1 : 5694 2nd avenue\n",
      "address_2 : \n",
      "city : ferndale\n",
      "state_province : wa\n",
      "postal_code : 98248\n",
      "o_url : http://www.courts.wa.gov/court_dir/orgs/296.html\n",
      "\n",
      "30/10 positive, 130/10 negative\n",
      "Do these records refer to the same thing?\n",
      "(y)es / (n)o / (u)nsure / (f)inished / (p)revious\n"
     ]
    },
    {
     "name": "stdout",
     "output_type": "stream",
     "text": [
      "n\n"
     ]
    },
    {
     "name": "stderr",
     "output_type": "stream",
     "text": [
      "o_name : north sound cooling centers\n",
      "address_1 : 7506 kendall road\n",
      "address_2 : \n",
      "city : maple falls\n",
      "state_province : wa\n",
      "postal_code : 98266\n",
      "o_url : \n",
      "\n",
      "o_name : kendall elementary school\n",
      "address_1 : 7547 kendall rd\n",
      "address_2 : None\n",
      "city : maple falls\n",
      "state_province : wa\n",
      "postal_code : 98266\n",
      "o_url : https://www.mtbaker.wednet.edu/o/kendall\n",
      "\n",
      "30/10 positive, 131/10 negative\n",
      "Do these records refer to the same thing?\n",
      "(y)es / (n)o / (u)nsure / (f)inished / (p)revious\n"
     ]
    },
    {
     "name": "stdout",
     "output_type": "stream",
     "text": [
      "n\n"
     ]
    },
    {
     "name": "stderr",
     "output_type": "stream",
     "text": [
      "o_name : whatcom county courts\n",
      "address_1 : 205 4th street\n",
      "address_2 : \n",
      "city : lynden\n",
      "state_province : wa\n",
      "postal_code : 98264\n",
      "o_url : http://www.courts.wa.gov/court_dir/orgs/296.html\n",
      "\n",
      "o_name : project hope\n",
      "address_1 : 205 south british columbia avenue\n",
      "address_2 : suite 105\n",
      "city : lynden\n",
      "state_province : wa\n",
      "postal_code : 98264\n",
      "o_url : https://www.projecthopelynden.org\n",
      "\n",
      "30/10 positive, 132/10 negative\n",
      "Do these records refer to the same thing?\n",
      "(y)es / (n)o / (u)nsure / (f)inished / (p)revious\n"
     ]
    },
    {
     "name": "stdout",
     "output_type": "stream",
     "text": [
      "n\n"
     ]
    },
    {
     "name": "stderr",
     "output_type": "stream",
     "text": [
      "o_name : bellingham food bank\n",
      "address_1 : 1824 ellis street\n",
      "address_2 : \n",
      "city : bellingham\n",
      "state_province : wa\n",
      "postal_code : 98225\n",
      "o_url : http://bellinghamfoodbank.org\n",
      "\n",
      "o_name : bellingham food bank\n",
      "address_1 : 2020 cornwall avenue\n",
      "address_2 : \n",
      "city : bellingham\n",
      "state_province : wa\n",
      "postal_code : 98225\n",
      "o_url : http://bellinghamfoodbank.org\n",
      "\n",
      "30/10 positive, 133/10 negative\n",
      "Do these records refer to the same thing?\n",
      "(y)es / (n)o / (u)nsure / (f)inished / (p)revious\n"
     ]
    },
    {
     "name": "stdout",
     "output_type": "stream",
     "text": [
      "n\n"
     ]
    },
    {
     "name": "stderr",
     "output_type": "stream",
     "text": [
      "o_name : boys and girls clubs of whatcom county\n",
      "address_1 : 1715 kentucky street\n",
      "address_2 : \n",
      "city : bellingham\n",
      "state_province : wa\n",
      "postal_code : 98229\n",
      "o_url : http://www.whatcomclubs.org\n",
      "\n",
      "o_name : boys and girls clubs of whatcom county\n",
      "address_1 : 8800 bender road\n",
      "address_2 : \n",
      "city : lynden\n",
      "state_province : wa\n",
      "postal_code : 98264\n",
      "o_url : http://www.whatcomclubs.org\n",
      "\n",
      "30/10 positive, 134/10 negative\n",
      "Do these records refer to the same thing?\n",
      "(y)es / (n)o / (u)nsure / (f)inished / (p)revious\n"
     ]
    },
    {
     "name": "stdout",
     "output_type": "stream",
     "text": [
      "n\n"
     ]
    },
    {
     "name": "stderr",
     "output_type": "stream",
     "text": [
      "o_name : whatcom family ymca\n",
      "address_1 : 1256 north state street\n",
      "address_2 : \n",
      "city : bellingham\n",
      "state_province : wa\n",
      "postal_code : 98225\n",
      "o_url : http://whatcomymca.org\n",
      "\n",
      "o_name : whatcom family ymca\n",
      "address_1 : 2415 rimland dr\n",
      "address_2 : \n",
      "city : bellingham\n",
      "state_province : wa\n",
      "postal_code : 98226\n",
      "o_url : http://whatcomymca.org\n",
      "\n",
      "30/10 positive, 135/10 negative\n",
      "Do these records refer to the same thing?\n",
      "(y)es / (n)o / (u)nsure / (f)inished / (p)revious\n"
     ]
    },
    {
     "name": "stdout",
     "output_type": "stream",
     "text": [
      "n\n"
     ]
    },
    {
     "name": "stderr",
     "output_type": "stream",
     "text": [
      "o_name : bellingham food bank\n",
      "address_1 : 2717 alderwood avenue\n",
      "address_2 : \n",
      "city : bellingham\n",
      "state_province : wa\n",
      "postal_code : 98225\n",
      "o_url : http://bellinghamfoodbank.org\n",
      "\n",
      "o_name : bellingham food bank\n",
      "address_1 : 1175 jersey street\n",
      "address_2 : \n",
      "city : bellingham\n",
      "state_province : wa\n",
      "postal_code : 98225\n",
      "o_url : http://bellinghamfoodbank.org\n",
      "\n",
      "30/10 positive, 136/10 negative\n",
      "Do these records refer to the same thing?\n",
      "(y)es / (n)o / (u)nsure / (f)inished / (p)revious\n"
     ]
    },
    {
     "name": "stdout",
     "output_type": "stream",
     "text": [
      "n\n"
     ]
    },
    {
     "name": "stderr",
     "output_type": "stream",
     "text": [
      "o_name : whatcom county health department\n",
      "address_1 : 1500 north state street\n",
      "address_2 : \n",
      "city : bellingham\n",
      "state_province : wa\n",
      "postal_code : 98225\n",
      "o_url : http://www.whatcomcounty.us/360/health-department\n",
      "\n",
      "o_name : whatcom county health department\n",
      "address_1 : 4255 mitchell way\n",
      "address_2 : \n",
      "city : bellingham\n",
      "state_province : wa\n",
      "postal_code : 98226\n",
      "o_url : http://www.whatcomcounty.us/360/health-department\n",
      "\n",
      "30/10 positive, 137/10 negative\n",
      "Do these records refer to the same thing?\n",
      "(y)es / (n)o / (u)nsure / (f)inished / (p)revious\n"
     ]
    },
    {
     "name": "stdout",
     "output_type": "stream",
     "text": [
      "n\n"
     ]
    },
    {
     "name": "stderr",
     "output_type": "stream",
     "text": [
      "o_name : lighthouse mission ministries\n",
      "address_1 : 910 west holly street\n",
      "address_2 : \n",
      "city : bellingham\n",
      "state_province : wa\n",
      "postal_code : 98225\n",
      "o_url : http://www.thelighthousemission.org\n",
      "\n",
      "o_name : lighthouse mission ministries\n",
      "address_1 : 1530 cornwall avenue\n",
      "address_2 : \n",
      "city : bellingham\n",
      "state_province : wa\n",
      "postal_code : 98225\n",
      "o_url : http://www.thelighthousemission.org\n",
      "\n",
      "30/10 positive, 138/10 negative\n",
      "Do these records refer to the same thing?\n",
      "(y)es / (n)o / (u)nsure / (f)inished / (p)revious\n"
     ]
    },
    {
     "name": "stdout",
     "output_type": "stream",
     "text": [
      "n\n"
     ]
    },
    {
     "name": "stderr",
     "output_type": "stream",
     "text": [
      "o_name : sea mar community health centers\n",
      "address_1 : 3350 airport drive\n",
      "address_2 : \n",
      "city : bellingham\n",
      "state_province : wa\n",
      "postal_code : 98226\n",
      "o_url : https://www.seamar.org/\n",
      "\n",
      "o_name : sea mar community health centers\n",
      "address_1 : 6046 portal way\n",
      "address_2 : \n",
      "city : ferndale\n",
      "state_province : wa\n",
      "postal_code : 98248\n",
      "o_url : https://www.seamar.org/\n",
      "\n",
      "30/10 positive, 139/10 negative\n",
      "Do these records refer to the same thing?\n",
      "(y)es / (n)o / (u)nsure / (f)inished / (p)revious\n"
     ]
    },
    {
     "name": "stdout",
     "output_type": "stream",
     "text": [
      "n\n"
     ]
    },
    {
     "name": "stderr",
     "output_type": "stream",
     "text": [
      "o_name : sea mar community health centers\n",
      "address_1 : 6884 hannegan road\n",
      "address_2 : \n",
      "city : everson\n",
      "state_province : wa\n",
      "postal_code : 98247\n",
      "o_url : https://www.seamar.org/\n",
      "\n",
      "o_name : sea mar community health centers\n",
      "address_1 : 6046 portal way\n",
      "address_2 : \n",
      "city : ferndale\n",
      "state_province : wa\n",
      "postal_code : 98248\n",
      "o_url : https://www.seamar.org/\n",
      "\n",
      "30/10 positive, 140/10 negative\n",
      "Do these records refer to the same thing?\n",
      "(y)es / (n)o / (u)nsure / (f)inished / (p)revious\n"
     ]
    },
    {
     "name": "stdout",
     "output_type": "stream",
     "text": [
      "n\n"
     ]
    },
    {
     "name": "stderr",
     "output_type": "stream",
     "text": [
      "o_name : foothills food bank (saint peters church)\n",
      "address_1 : east whatcom regional resource center,8255 kendal road\n",
      "address_2 : None\n",
      "city : maple falls\n",
      "state_province : wa\n",
      "postal_code : 98266\n",
      "o_url : \n",
      "\n",
      "o_name : kendall elementary school\n",
      "address_1 : 7547 kendall rd\n",
      "address_2 : None\n",
      "city : maple falls\n",
      "state_province : wa\n",
      "postal_code : 98266\n",
      "o_url : https://www.mtbaker.wednet.edu/o/kendall\n",
      "\n",
      "30/10 positive, 141/10 negative\n",
      "Do these records refer to the same thing?\n",
      "(y)es / (n)o / (u)nsure / (f)inished / (p)revious\n"
     ]
    },
    {
     "name": "stdout",
     "output_type": "stream",
     "text": [
      "n\n"
     ]
    },
    {
     "name": "stderr",
     "output_type": "stream",
     "text": [
      "o_name : whatcom county courts\n",
      "address_1 : 311 grand avenue\n",
      "address_2 : suite 501\n",
      "city : bellingham\n",
      "state_province : wa\n",
      "postal_code : 98225\n",
      "o_url : http://www.courts.wa.gov/court_dir/orgs/296.html\n",
      "\n",
      "o_name : whatcom county courts\n",
      "address_1 : 2014 c street\n",
      "address_2 : \n",
      "city : bellingham\n",
      "state_province : wa\n",
      "postal_code : 98225\n",
      "o_url : http://www.courts.wa.gov/court_dir/orgs/296.html\n",
      "\n",
      "30/10 positive, 142/10 negative\n",
      "Do these records refer to the same thing?\n",
      "(y)es / (n)o / (u)nsure / (f)inished / (p)revious\n"
     ]
    },
    {
     "name": "stdout",
     "output_type": "stream",
     "text": [
      "n\n"
     ]
    },
    {
     "name": "stderr",
     "output_type": "stream",
     "text": [
      "o_name : whatcom county courts\n",
      "address_1 : 311 grand avenue\n",
      "address_2 : suite 301\n",
      "city : bellingham\n",
      "state_province : wa\n",
      "postal_code : 98225\n",
      "o_url : http://www.courts.wa.gov/court_dir/orgs/296.html\n",
      "\n",
      "o_name : whatcom county courts\n",
      "address_1 : 2014 c street\n",
      "address_2 : \n",
      "city : bellingham\n",
      "state_province : wa\n",
      "postal_code : 98225\n",
      "o_url : http://www.courts.wa.gov/court_dir/orgs/296.html\n",
      "\n",
      "30/10 positive, 143/10 negative\n",
      "Do these records refer to the same thing?\n",
      "(y)es / (n)o / (u)nsure / (f)inished / (p)revious\n"
     ]
    },
    {
     "name": "stdout",
     "output_type": "stream",
     "text": [
      "n\n"
     ]
    },
    {
     "name": "stderr",
     "output_type": "stream",
     "text": [
      "o_name : whatcom county courts\n",
      "address_1 : 311 grand avenue\n",
      "address_2 : suite 401\n",
      "city : bellingham\n",
      "state_province : wa\n",
      "postal_code : 98225\n",
      "o_url : http://www.courts.wa.gov/court_dir/orgs/296.html\n",
      "\n",
      "o_name : whatcom county courts\n",
      "address_1 : 2014 c street\n",
      "address_2 : \n",
      "city : bellingham\n",
      "state_province : wa\n",
      "postal_code : 98225\n",
      "o_url : http://www.courts.wa.gov/court_dir/orgs/296.html\n",
      "\n",
      "30/10 positive, 144/10 negative\n",
      "Do these records refer to the same thing?\n",
      "(y)es / (n)o / (u)nsure / (f)inished / (p)revious\n"
     ]
    },
    {
     "name": "stdout",
     "output_type": "stream",
     "text": [
      "n\n"
     ]
    },
    {
     "name": "stderr",
     "output_type": "stream",
     "text": [
      "o_name : whatcom county courts\n",
      "address_1 : 1020 north state street\n",
      "address_2 : \n",
      "city : bellingham\n",
      "state_province : wa\n",
      "postal_code : 98225\n",
      "o_url : http://www.courts.wa.gov/court_dir/orgs/296.html\n",
      "\n",
      "o_name : whatcom county courts\n",
      "address_1 : 5694 2nd avenue\n",
      "address_2 : \n",
      "city : ferndale\n",
      "state_province : wa\n",
      "postal_code : 98248\n",
      "o_url : http://www.courts.wa.gov/court_dir/orgs/296.html\n",
      "\n",
      "30/10 positive, 145/10 negative\n",
      "Do these records refer to the same thing?\n",
      "(y)es / (n)o / (u)nsure / (f)inished / (p)revious\n"
     ]
    },
    {
     "name": "stdout",
     "output_type": "stream",
     "text": [
      "n\n"
     ]
    },
    {
     "name": "stderr",
     "output_type": "stream",
     "text": [
      "o_name : sea mar community health centers\n",
      "address_1 : 4455 cordata parkway\n",
      "address_2 : \n",
      "city : bellingham\n",
      "state_province : wa\n",
      "postal_code : 98226\n",
      "o_url : https://www.seamar.org/\n",
      "\n",
      "o_name : sea mar community health centers\n",
      "address_1 : 1764 iowa street\n",
      "address_2 : \n",
      "city : bellingham\n",
      "state_province : wa\n",
      "postal_code : 98229\n",
      "o_url : https://www.seamar.org/\n",
      "\n",
      "30/10 positive, 146/10 negative\n",
      "Do these records refer to the same thing?\n",
      "(y)es / (n)o / (u)nsure / (f)inished / (p)revious\n"
     ]
    },
    {
     "name": "stdout",
     "output_type": "stream",
     "text": [
      "n\n"
     ]
    },
    {
     "name": "stderr",
     "output_type": "stream",
     "text": [
      "o_name : bellingham parks and recreation division\n",
      "address_1 : 210 lottie street\n",
      "address_2 : \n",
      "city : bellingham\n",
      "state_province : wa\n",
      "postal_code : 98225\n",
      "o_url : https://cob.org/services/recreation\n",
      "\n",
      "o_name : bellingham public library\n",
      "address_1 : 210 central ave\n",
      "address_2 : None\n",
      "city : bellingham\n",
      "state_province : wa\n",
      "postal_code : 98227\n",
      "o_url : \n",
      "\n",
      "30/10 positive, 147/10 negative\n",
      "Do these records refer to the same thing?\n",
      "(y)es / (n)o / (u)nsure / (f)inished / (p)revious\n"
     ]
    },
    {
     "name": "stdout",
     "output_type": "stream",
     "text": [
      "n\n"
     ]
    },
    {
     "name": "stderr",
     "output_type": "stream",
     "text": [
      "o_name : sea mar community health centers\n",
      "address_1 : 1603 east illinois street\n",
      "address_2 : \n",
      "city : bellingham\n",
      "state_province : wa\n",
      "postal_code : 98226\n",
      "o_url : https://www.seamar.org/\n",
      "\n",
      "o_name : sea mar community health centers\n",
      "address_1 : 4455 cordata parkway\n",
      "address_2 : \n",
      "city : bellingham\n",
      "state_province : wa\n",
      "postal_code : 98226\n",
      "o_url : https://www.seamar.org/\n",
      "\n",
      "30/10 positive, 148/10 negative\n",
      "Do these records refer to the same thing?\n",
      "(y)es / (n)o / (u)nsure / (f)inished / (p)revious\n"
     ]
    },
    {
     "name": "stdout",
     "output_type": "stream",
     "text": [
      "n\n"
     ]
    },
    {
     "name": "stderr",
     "output_type": "stream",
     "text": [
      "o_name : depressive and bipolar support alliance whatcom county\n",
      "address_1 : 800 chestnut street\n",
      "address_2 : suite 1c\n",
      "city : bellingham\n",
      "state_province : wa\n",
      "postal_code : 98225\n",
      "o_url : http://www.dbsalliance.org\n",
      "\n",
      "o_name : whatcom county dental resource list\n",
      "address_1 : 800 e chestnut ll suite 2\n",
      "address_2 : None\n",
      "city : bellingham\n",
      "state_province : wa\n",
      "postal_code : 98227\n",
      "o_url : \n",
      "\n",
      "30/10 positive, 149/10 negative\n",
      "Do these records refer to the same thing?\n",
      "(y)es / (n)o / (u)nsure / (f)inished / (p)revious\n"
     ]
    },
    {
     "name": "stdout",
     "output_type": "stream",
     "text": [
      "n\n"
     ]
    },
    {
     "name": "stderr",
     "output_type": "stream",
     "text": [
      "o_name : opportunity council - east whatcom regional resource center\n",
      "address_1 : 8251 kendall road\n",
      "address_2 : \n",
      "city : maple falls\n",
      "state_province : wa\n",
      "postal_code : 98266\n",
      "o_url : https://www.oppco.org/ewrrc\n",
      "\n",
      "o_name : foothills food bank (saint peters church)\n",
      "address_1 : east whatcom regional resource center,8255 kendal road\n",
      "address_2 : None\n",
      "city : maple falls\n",
      "state_province : wa\n",
      "postal_code : 98266\n",
      "o_url : \n",
      "\n",
      "30/10 positive, 150/10 negative\n",
      "Do these records refer to the same thing?\n",
      "(y)es / (n)o / (u)nsure / (f)inished / (p)revious\n"
     ]
    },
    {
     "name": "stdout",
     "output_type": "stream",
     "text": [
      "n\n"
     ]
    },
    {
     "name": "stderr",
     "output_type": "stream",
     "text": [
      "o_name : whatcom county\n",
      "address_1 : 311 grand avenue\n",
      "address_2 : \n",
      "city : bellingham\n",
      "state_province : wa\n",
      "postal_code : 98225\n",
      "o_url : http://www.co.whatcom.wa.us\n",
      "\n",
      "o_name : whatcom county\n",
      "address_1 : 3505 airport drive\n",
      "address_2 : \n",
      "city : bellingham\n",
      "state_province : wa\n",
      "postal_code : 98225\n",
      "o_url : http://www.co.whatcom.wa.us\n",
      "\n",
      "30/10 positive, 151/10 negative\n",
      "Do these records refer to the same thing?\n",
      "(y)es / (n)o / (u)nsure / (f)inished / (p)revious\n"
     ]
    },
    {
     "name": "stdout",
     "output_type": "stream",
     "text": [
      "n\n"
     ]
    },
    {
     "name": "stderr",
     "output_type": "stream",
     "text": [
      "o_name : foothills food bank (saint peters church)\n",
      "address_1 : east whatcom regional resource center,8255 kendal road\n",
      "address_2 : None\n",
      "city : maple falls\n",
      "state_province : wa\n",
      "postal_code : 98266\n",
      "o_url : \n",
      "\n",
      "o_name : food lifeline mobile food program in maple falls\n",
      "address_1 : 8251 kendall rd\n",
      "address_2 : None\n",
      "city : maple falls\n",
      "state_province : wa\n",
      "postal_code : 98266\n",
      "o_url : \n",
      "\n",
      "30/10 positive, 152/10 negative\n",
      "Do these records refer to the same thing?\n",
      "(y)es / (n)o / (u)nsure / (f)inished / (p)revious\n"
     ]
    },
    {
     "name": "stdout",
     "output_type": "stream",
     "text": [
      "n\n"
     ]
    },
    {
     "name": "stderr",
     "output_type": "stream",
     "text": [
      "o_name : bellingham public library\n",
      "address_1 : 210 central avenue\n",
      "address_2 : \n",
      "city : bellingham\n",
      "state_province : wa\n",
      "postal_code : 98225\n",
      "o_url : http://www.bellinghampubliclibrary.org\n",
      "\n",
      "o_name : bellingham public library\n",
      "address_1 : 3111 newmarket street\n",
      "address_2 : suite 103\n",
      "city : bellingham\n",
      "state_province : wa\n",
      "postal_code : 98226\n",
      "o_url : http://www.bellinghampubliclibrary.org\n",
      "\n",
      "30/10 positive, 153/10 negative\n",
      "Do these records refer to the same thing?\n",
      "(y)es / (n)o / (u)nsure / (f)inished / (p)revious\n"
     ]
    },
    {
     "name": "stdout",
     "output_type": "stream",
     "text": [
      "n\n"
     ]
    },
    {
     "name": "stderr",
     "output_type": "stream",
     "text": [
      "o_name : sunrise services, inc.\n",
      "address_1 : 1515 cornwall avenue\n",
      "address_2 : \n",
      "city : bellingham\n",
      "state_province : wa\n",
      "postal_code : 98225\n",
      "o_url : https://sunriseservicesinc.com\n",
      "\n",
      "o_name : sunrise services, inc.\n",
      "address_1 : 4151 meridian street\n",
      "address_2 : suite 12\n",
      "city : bellingham\n",
      "state_province : wa\n",
      "postal_code : 98226\n",
      "o_url : https://sunriseservicesinc.com\n",
      "\n",
      "30/10 positive, 154/10 negative\n",
      "Do these records refer to the same thing?\n",
      "(y)es / (n)o / (u)nsure / (f)inished / (p)revious\n"
     ]
    },
    {
     "name": "stdout",
     "output_type": "stream",
     "text": [
      "n\n"
     ]
    },
    {
     "name": "stderr",
     "output_type": "stream",
     "text": [
      "o_name : bellingham parks and recreation division\n",
      "address_1 : 210 lottie street\n",
      "address_2 : \n",
      "city : bellingham\n",
      "state_province : wa\n",
      "postal_code : 98225\n",
      "o_url : https://cob.org/services/recreation\n",
      "\n",
      "o_name : bellingham public library\n",
      "address_1 : 210 central avenue\n",
      "address_2 : \n",
      "city : bellingham\n",
      "state_province : wa\n",
      "postal_code : 98225\n",
      "o_url : http://www.bellinghampubliclibrary.org\n",
      "\n",
      "30/10 positive, 155/10 negative\n",
      "Do these records refer to the same thing?\n",
      "(y)es / (n)o / (u)nsure / (f)inished / (p)revious\n"
     ]
    },
    {
     "name": "stdout",
     "output_type": "stream",
     "text": [
      "n\n"
     ]
    },
    {
     "name": "stderr",
     "output_type": "stream",
     "text": [
      "o_name : whatcom county courts\n",
      "address_1 : 435 martin st\n",
      "address_2 : suite 4000\n",
      "city : blaine\n",
      "state_province : wa\n",
      "postal_code : 98230\n",
      "o_url : http://www.courts.wa.gov/court_dir/orgs/296.html\n",
      "\n",
      "o_name : whatcom county courts\n",
      "address_1 : 205 4th street\n",
      "address_2 : \n",
      "city : lynden\n",
      "state_province : wa\n",
      "postal_code : 98264\n",
      "o_url : http://www.courts.wa.gov/court_dir/orgs/296.html\n",
      "\n",
      "30/10 positive, 156/10 negative\n",
      "Do these records refer to the same thing?\n",
      "(y)es / (n)o / (u)nsure / (f)inished / (p)revious\n"
     ]
    },
    {
     "name": "stdout",
     "output_type": "stream",
     "text": [
      "n\n"
     ]
    },
    {
     "name": "stderr",
     "output_type": "stream",
     "text": [
      "o_name : foothills food bank\n",
      "address_1 : 8255 kendall road\n",
      "address_2 : \n",
      "city : maple falls\n",
      "state_province : wa\n",
      "postal_code : 98266\n",
      "o_url : http://www.foothillsfoodbank.org\n",
      "\n",
      "o_name : kendall elementary school\n",
      "address_1 : 7547 kendall rd\n",
      "address_2 : None\n",
      "city : maple falls\n",
      "state_province : wa\n",
      "postal_code : 98266\n",
      "o_url : https://www.mtbaker.wednet.edu/o/kendall\n",
      "\n",
      "30/10 positive, 157/10 negative\n",
      "Do these records refer to the same thing?\n",
      "(y)es / (n)o / (u)nsure / (f)inished / (p)revious\n"
     ]
    },
    {
     "name": "stdout",
     "output_type": "stream",
     "text": [
      "n\n"
     ]
    },
    {
     "name": "stderr",
     "output_type": "stream",
     "text": [
      "o_name : bellingham central lions club\n",
      "address_1 : 4141 west maplewood avenue\n",
      "address_2 : \n",
      "city : bellingham\n",
      "state_province : wa\n",
      "postal_code : 98226\n",
      "o_url : http://www.bellinghamcentrallions.org\n",
      "\n",
      "o_name : bellingham central lions club\n",
      "address_1 : 800 east chestnut street\n",
      "address_2 : suite 3b\n",
      "city : bellingham\n",
      "state_province : wa\n",
      "postal_code : 98225\n",
      "o_url : http://www.bellinghamcentrallions.org\n",
      "\n",
      "30/10 positive, 158/10 negative\n",
      "Do these records refer to the same thing?\n",
      "(y)es / (n)o / (u)nsure / (f)inished / (p)revious\n"
     ]
    },
    {
     "name": "stdout",
     "output_type": "stream",
     "text": [
      "n\n"
     ]
    },
    {
     "name": "stderr",
     "output_type": "stream",
     "text": [
      "o_name : whatcom county courts\n",
      "address_1 : 311 grand avenue\n",
      "address_2 : suite 501\n",
      "city : bellingham\n",
      "state_province : wa\n",
      "postal_code : 98225\n",
      "o_url : http://www.courts.wa.gov/court_dir/orgs/296.html\n",
      "\n",
      "o_name : whatcom county courts\n",
      "address_1 : 205 4th street\n",
      "address_2 : \n",
      "city : lynden\n",
      "state_province : wa\n",
      "postal_code : 98264\n",
      "o_url : http://www.courts.wa.gov/court_dir/orgs/296.html\n",
      "\n",
      "30/10 positive, 159/10 negative\n",
      "Do these records refer to the same thing?\n",
      "(y)es / (n)o / (u)nsure / (f)inished / (p)revious\n"
     ]
    },
    {
     "name": "stdout",
     "output_type": "stream",
     "text": [
      "n\n"
     ]
    },
    {
     "name": "stderr",
     "output_type": "stream",
     "text": [
      "o_name : whatcom county courts\n",
      "address_1 : 311 grand avenue\n",
      "address_2 : suite 401\n",
      "city : bellingham\n",
      "state_province : wa\n",
      "postal_code : 98225\n",
      "o_url : http://www.courts.wa.gov/court_dir/orgs/296.html\n",
      "\n",
      "o_name : whatcom county courts\n",
      "address_1 : 205 4th street\n",
      "address_2 : \n",
      "city : lynden\n",
      "state_province : wa\n",
      "postal_code : 98264\n",
      "o_url : http://www.courts.wa.gov/court_dir/orgs/296.html\n",
      "\n",
      "30/10 positive, 160/10 negative\n",
      "Do these records refer to the same thing?\n",
      "(y)es / (n)o / (u)nsure / (f)inished / (p)revious\n"
     ]
    },
    {
     "name": "stdout",
     "output_type": "stream",
     "text": [
      "n\n"
     ]
    },
    {
     "name": "stderr",
     "output_type": "stream",
     "text": [
      "o_name : whatcom county courts\n",
      "address_1 : 311 grand avenue\n",
      "address_2 : suite 301\n",
      "city : bellingham\n",
      "state_province : wa\n",
      "postal_code : 98225\n",
      "o_url : http://www.courts.wa.gov/court_dir/orgs/296.html\n",
      "\n",
      "o_name : whatcom county courts\n",
      "address_1 : 205 4th street\n",
      "address_2 : \n",
      "city : lynden\n",
      "state_province : wa\n",
      "postal_code : 98264\n",
      "o_url : http://www.courts.wa.gov/court_dir/orgs/296.html\n",
      "\n",
      "30/10 positive, 161/10 negative\n",
      "Do these records refer to the same thing?\n",
      "(y)es / (n)o / (u)nsure / (f)inished / (p)revious\n"
     ]
    },
    {
     "name": "stdout",
     "output_type": "stream",
     "text": [
      "n\n"
     ]
    },
    {
     "name": "stderr",
     "output_type": "stream",
     "text": [
      "o_name : sea mar community health centers\n",
      "address_1 : 3350 airport drive\n",
      "address_2 : \n",
      "city : bellingham\n",
      "state_province : wa\n",
      "postal_code : 98226\n",
      "o_url : https://www.seamar.org/\n",
      "\n",
      "o_name : sea mar community health centers\n",
      "address_1 : 1764 iowa street\n",
      "address_2 : \n",
      "city : bellingham\n",
      "state_province : wa\n",
      "postal_code : 98229\n",
      "o_url : https://www.seamar.org/\n",
      "\n",
      "30/10 positive, 162/10 negative\n",
      "Do these records refer to the same thing?\n",
      "(y)es / (n)o / (u)nsure / (f)inished / (p)revious\n"
     ]
    },
    {
     "name": "stdout",
     "output_type": "stream",
     "text": [
      "n\n"
     ]
    },
    {
     "name": "stderr",
     "output_type": "stream",
     "text": [
      "o_name : whatcom county courts\n",
      "address_1 : 205 4th street\n",
      "address_2 : \n",
      "city : lynden\n",
      "state_province : wa\n",
      "postal_code : 98264\n",
      "o_url : http://www.courts.wa.gov/court_dir/orgs/296.html\n",
      "\n",
      "o_name : project hope\n",
      "address_1 : 205 s british columbia ave\n",
      "address_2 : None\n",
      "city : lynden\n",
      "state_province : wa\n",
      "postal_code : 98264\n",
      "o_url : https://www.projecthopelynden.org/project-hope-food-bank/\n",
      "\n",
      "30/10 positive, 163/10 negative\n",
      "Do these records refer to the same thing?\n",
      "(y)es / (n)o / (u)nsure / (f)inished / (p)revious\n"
     ]
    },
    {
     "name": "stdout",
     "output_type": "stream",
     "text": [
      "n\n"
     ]
    },
    {
     "name": "stderr",
     "output_type": "stream",
     "text": [
      "o_name : unity care northwest\n",
      "address_1 : 220 unity street\n",
      "address_2 : \n",
      "city : bellingham\n",
      "state_province : wa\n",
      "postal_code : 98225\n",
      "o_url : http://unitycarenw.org\n",
      "\n",
      "o_name : unity care northwest\n",
      "address_1 : 1616 cornwall avenue\n",
      "address_2 : \n",
      "city : bellingham\n",
      "state_province : wa\n",
      "postal_code : 98225\n",
      "o_url : http://unitycarenw.org\n",
      "\n",
      "30/10 positive, 164/10 negative\n",
      "Do these records refer to the same thing?\n",
      "(y)es / (n)o / (u)nsure / (f)inished / (p)revious\n"
     ]
    },
    {
     "name": "stdout",
     "output_type": "stream",
     "text": [
      "n\n"
     ]
    },
    {
     "name": "stderr",
     "output_type": "stream",
     "text": [
      "o_name : dshs community services offices\n",
      "address_1 : 4101 meridian ave\n",
      "address_2 : \n",
      "city : bellingham\n",
      "state_province : wa\n",
      "postal_code : 98226\n",
      "o_url : https://www.dshs.wa.gov/food-cash-medical\n",
      "\n",
      "o_name : answers counseling, consultation and case management\n",
      "address_1 : 4101 guide meridian\n",
      "address_2 : \n",
      "city : bellingham\n",
      "state_province : wa\n",
      "postal_code : 98226\n",
      "o_url : https://www.answerscounseling.org/\n",
      "\n",
      "30/10 positive, 165/10 negative\n",
      "Do these records refer to the same thing?\n",
      "(y)es / (n)o / (u)nsure / (f)inished / (p)revious\n"
     ]
    },
    {
     "name": "stdout",
     "output_type": "stream",
     "text": [
      "n\n"
     ]
    },
    {
     "name": "stderr",
     "output_type": "stream",
     "text": [
      "o_name : bellingham food bank\n",
      "address_1 : 4173 meridian street\n",
      "address_2 : \n",
      "city : bellingham\n",
      "state_province : wa\n",
      "postal_code : 98226\n",
      "o_url : http://bellinghamfoodbank.org\n",
      "\n",
      "o_name : bellingham food bank\n",
      "address_1 : 2020 cornwall avenue\n",
      "address_2 : \n",
      "city : bellingham\n",
      "state_province : wa\n",
      "postal_code : 98225\n",
      "o_url : http://bellinghamfoodbank.org\n",
      "\n",
      "30/10 positive, 166/10 negative\n",
      "Do these records refer to the same thing?\n",
      "(y)es / (n)o / (u)nsure / (f)inished / (p)revious\n"
     ]
    },
    {
     "name": "stdout",
     "output_type": "stream",
     "text": [
      "n\n"
     ]
    },
    {
     "name": "stderr",
     "output_type": "stream",
     "text": [
      "o_name : sea mar community health centers\n",
      "address_1 : 6884 hannegan road\n",
      "address_2 : \n",
      "city : everson\n",
      "state_province : wa\n",
      "postal_code : 98247\n",
      "o_url : https://www.seamar.org/\n",
      "\n",
      "o_name : sea mar community health centers\n",
      "address_1 : 1764 iowa street\n",
      "address_2 : \n",
      "city : bellingham\n",
      "state_province : wa\n",
      "postal_code : 98229\n",
      "o_url : https://www.seamar.org/\n",
      "\n",
      "30/10 positive, 167/10 negative\n",
      "Do these records refer to the same thing?\n",
      "(y)es / (n)o / (u)nsure / (f)inished / (p)revious\n"
     ]
    },
    {
     "name": "stdout",
     "output_type": "stream",
     "text": [
      "n\n"
     ]
    },
    {
     "name": "stderr",
     "output_type": "stream",
     "text": [
      "o_name : boys and girls clubs of whatcom county\n",
      "address_1 : 2015 cherry street\n",
      "address_2 : \n",
      "city : ferndale\n",
      "state_province : wa\n",
      "postal_code : 98248\n",
      "o_url : http://www.whatcomclubs.org\n",
      "\n",
      "o_name : boys and girls clubs of whatcom county\n",
      "address_1 : 8800 bender road\n",
      "address_2 : \n",
      "city : lynden\n",
      "state_province : wa\n",
      "postal_code : 98264\n",
      "o_url : http://www.whatcomclubs.org\n",
      "\n",
      "30/10 positive, 168/10 negative\n",
      "Do these records refer to the same thing?\n",
      "(y)es / (n)o / (u)nsure / (f)inished / (p)revious\n"
     ]
    },
    {
     "name": "stdout",
     "output_type": "stream",
     "text": [
      "n\n"
     ]
    },
    {
     "name": "stderr",
     "output_type": "stream",
     "text": [
      "o_name : whatcom county courts\n",
      "address_1 : 2014 c street\n",
      "address_2 : \n",
      "city : bellingham\n",
      "state_province : wa\n",
      "postal_code : 98225\n",
      "o_url : http://www.courts.wa.gov/court_dir/orgs/296.html\n",
      "\n",
      "o_name : whatcom county courts\n",
      "address_1 : 111 w main st\n",
      "address_2 : \n",
      "city : everson\n",
      "state_province : wa\n",
      "postal_code : 98247\n",
      "o_url : http://www.courts.wa.gov/court_dir/orgs/296.html\n",
      "\n",
      "30/10 positive, 169/10 negative\n",
      "Do these records refer to the same thing?\n",
      "(y)es / (n)o / (u)nsure / (f)inished / (p)revious\n"
     ]
    },
    {
     "name": "stdout",
     "output_type": "stream",
     "text": [
      "n\n"
     ]
    },
    {
     "name": "stderr",
     "output_type": "stream",
     "text": [
      "o_name : north sound cooling centers\n",
      "address_1 : 8251 kendall road\n",
      "address_2 : \n",
      "city : maple falls\n",
      "state_province : wa\n",
      "postal_code : 98266\n",
      "o_url : \n",
      "\n",
      "o_name : kendall elementary school\n",
      "address_1 : 7547 kendall rd\n",
      "address_2 : None\n",
      "city : maple falls\n",
      "state_province : wa\n",
      "postal_code : 98266\n",
      "o_url : https://www.mtbaker.wednet.edu/o/kendall\n",
      "\n",
      "30/10 positive, 170/10 negative\n",
      "Do these records refer to the same thing?\n",
      "(y)es / (n)o / (u)nsure / (f)inished / (p)revious\n"
     ]
    },
    {
     "name": "stdout",
     "output_type": "stream",
     "text": [
      "n\n"
     ]
    },
    {
     "name": "stderr",
     "output_type": "stream",
     "text": [
      "o_name : sea mar community health centers\n",
      "address_1 : 6046 portal way\n",
      "address_2 : \n",
      "city : ferndale\n",
      "state_province : wa\n",
      "postal_code : 98248\n",
      "o_url : https://www.seamar.org/\n",
      "\n",
      "o_name : sea mar community health centers\n",
      "address_1 : 1764 iowa street\n",
      "address_2 : \n",
      "city : bellingham\n",
      "state_province : wa\n",
      "postal_code : 98229\n",
      "o_url : https://www.seamar.org/\n",
      "\n",
      "30/10 positive, 171/10 negative\n",
      "Do these records refer to the same thing?\n",
      "(y)es / (n)o / (u)nsure / (f)inished / (p)revious\n"
     ]
    },
    {
     "name": "stdout",
     "output_type": "stream",
     "text": [
      "n\n"
     ]
    },
    {
     "name": "stderr",
     "output_type": "stream",
     "text": [
      "o_name : compass health - whatcom county\n",
      "address_1 : 3645 east mcleod road\n",
      "address_2 : \n",
      "city : bellingham\n",
      "state_province : wa\n",
      "postal_code : 98226\n",
      "o_url : https://www.compasshealth.org\n",
      "\n",
      "o_name : compass health - whatcom county\n",
      "address_1 : 4350 cordata parkway\n",
      "address_2 : suite 100\n",
      "city : bellingham\n",
      "state_province : wa\n",
      "postal_code : 98226\n",
      "o_url : https://www.compasshealth.org\n",
      "\n",
      "30/10 positive, 172/10 negative\n",
      "Do these records refer to the same thing?\n",
      "(y)es / (n)o / (u)nsure / (f)inished / (p)revious\n"
     ]
    },
    {
     "name": "stdout",
     "output_type": "stream",
     "text": [
      "n\n"
     ]
    },
    {
     "name": "stderr",
     "output_type": "stream",
     "text": [
      "o_name : sea mar community health centers\n",
      "address_1 : 6884 hannegan road\n",
      "address_2 : \n",
      "city : everson\n",
      "state_province : wa\n",
      "postal_code : 98247\n",
      "o_url : https://www.seamar.org/\n",
      "\n",
      "o_name : sea mar community health centers\n",
      "address_1 : 4455 cordata parkway\n",
      "address_2 : \n",
      "city : bellingham\n",
      "state_province : wa\n",
      "postal_code : 98226\n",
      "o_url : https://www.seamar.org/\n",
      "\n",
      "30/10 positive, 173/10 negative\n",
      "Do these records refer to the same thing?\n",
      "(y)es / (n)o / (u)nsure / (f)inished / (p)revious\n"
     ]
    },
    {
     "name": "stdout",
     "output_type": "stream",
     "text": [
      "n\n"
     ]
    },
    {
     "name": "stderr",
     "output_type": "stream",
     "text": [
      "o_name : dshs division of child support\n",
      "address_1 : 4101 meridian street\n",
      "address_2 : \n",
      "city : bellingham\n",
      "state_province : wa\n",
      "postal_code : 98226\n",
      "o_url : http://dshs.wa.gov/dcs\n",
      "\n",
      "o_name : answers counseling, consultation and case management\n",
      "address_1 : 4101 guide meridian\n",
      "address_2 : \n",
      "city : bellingham\n",
      "state_province : wa\n",
      "postal_code : 98226\n",
      "o_url : https://www.answerscounseling.org/\n",
      "\n",
      "30/10 positive, 174/10 negative\n",
      "Do these records refer to the same thing?\n",
      "(y)es / (n)o / (u)nsure / (f)inished / (p)revious\n"
     ]
    },
    {
     "name": "stdout",
     "output_type": "stream",
     "text": [
      "n\n"
     ]
    },
    {
     "name": "stderr",
     "output_type": "stream",
     "text": [
      "o_name : whatcom county courts\n",
      "address_1 : 311 grand avenue\n",
      "address_2 : suite 301\n",
      "city : bellingham\n",
      "state_province : wa\n",
      "postal_code : 98225\n",
      "o_url : http://www.courts.wa.gov/court_dir/orgs/296.html\n",
      "\n",
      "o_name : whatcom county courts\n",
      "address_1 : 433 cherry street\n",
      "address_2 : \n",
      "city : sumas\n",
      "state_province : wa\n",
      "postal_code : 98295\n",
      "o_url : http://www.courts.wa.gov/court_dir/orgs/296.html\n",
      "\n",
      "30/10 positive, 175/10 negative\n",
      "Do these records refer to the same thing?\n",
      "(y)es / (n)o / (u)nsure / (f)inished / (p)revious\n"
     ]
    },
    {
     "name": "stdout",
     "output_type": "stream",
     "text": [
      "n\n"
     ]
    },
    {
     "name": "stderr",
     "output_type": "stream",
     "text": [
      "o_name : whatcom county courts\n",
      "address_1 : 311 grand avenue\n",
      "address_2 : suite 501\n",
      "city : bellingham\n",
      "state_province : wa\n",
      "postal_code : 98225\n",
      "o_url : http://www.courts.wa.gov/court_dir/orgs/296.html\n",
      "\n",
      "o_name : whatcom county courts\n",
      "address_1 : 433 cherry street\n",
      "address_2 : \n",
      "city : sumas\n",
      "state_province : wa\n",
      "postal_code : 98295\n",
      "o_url : http://www.courts.wa.gov/court_dir/orgs/296.html\n",
      "\n",
      "30/10 positive, 176/10 negative\n",
      "Do these records refer to the same thing?\n",
      "(y)es / (n)o / (u)nsure / (f)inished / (p)revious\n"
     ]
    },
    {
     "name": "stdout",
     "output_type": "stream",
     "text": [
      "n\n"
     ]
    },
    {
     "name": "stderr",
     "output_type": "stream",
     "text": [
      "o_name : whatcom county courts\n",
      "address_1 : 311 grand avenue\n",
      "address_2 : suite 401\n",
      "city : bellingham\n",
      "state_province : wa\n",
      "postal_code : 98225\n",
      "o_url : http://www.courts.wa.gov/court_dir/orgs/296.html\n",
      "\n",
      "o_name : whatcom county courts\n",
      "address_1 : 433 cherry street\n",
      "address_2 : \n",
      "city : sumas\n",
      "state_province : wa\n",
      "postal_code : 98295\n",
      "o_url : http://www.courts.wa.gov/court_dir/orgs/296.html\n",
      "\n",
      "30/10 positive, 177/10 negative\n",
      "Do these records refer to the same thing?\n",
      "(y)es / (n)o / (u)nsure / (f)inished / (p)revious\n"
     ]
    },
    {
     "name": "stdout",
     "output_type": "stream",
     "text": [
      "n\n"
     ]
    },
    {
     "name": "stderr",
     "output_type": "stream",
     "text": [
      "o_name : project hope\n",
      "address_1 : 205 s british columbia ave\n",
      "address_2 : None\n",
      "city : lynden\n",
      "state_province : wa\n",
      "postal_code : 98264\n",
      "o_url : https://www.projecthopelynden.org/project-hope-food-bank/\n",
      "\n",
      "o_name : whatcom center for early learning (ferndale)\n",
      "address_1 : 205 cherry st,5534 2nd ave\n",
      "address_2 : None\n",
      "city : ferndale\n",
      "state_province : wa\n",
      "postal_code : 98248\n",
      "o_url : \n",
      "\n",
      "30/10 positive, 178/10 negative\n",
      "Do these records refer to the same thing?\n",
      "(y)es / (n)o / (u)nsure / (f)inished / (p)revious\n"
     ]
    },
    {
     "name": "stdout",
     "output_type": "stream",
     "text": [
      "n\n"
     ]
    },
    {
     "name": "stderr",
     "output_type": "stream",
     "text": [
      "o_name : bellingham food bank\n",
      "address_1 : 4173 meridian street\n",
      "address_2 : \n",
      "city : bellingham\n",
      "state_province : wa\n",
      "postal_code : 98226\n",
      "o_url : http://bellinghamfoodbank.org\n",
      "\n",
      "o_name : bellingham food bank\n",
      "address_1 : 2717 alderwood avenue\n",
      "address_2 : \n",
      "city : bellingham\n",
      "state_province : wa\n",
      "postal_code : 98225\n",
      "o_url : http://bellinghamfoodbank.org\n",
      "\n",
      "30/10 positive, 179/10 negative\n",
      "Do these records refer to the same thing?\n",
      "(y)es / (n)o / (u)nsure / (f)inished / (p)revious\n"
     ]
    },
    {
     "name": "stdout",
     "output_type": "stream",
     "text": [
      "n\n"
     ]
    },
    {
     "name": "stderr",
     "output_type": "stream",
     "text": [
      "o_name : bellingham central lions club\n",
      "address_1 : 800 east chestnut street\n",
      "address_2 : suite 3b\n",
      "city : bellingham\n",
      "state_province : wa\n",
      "postal_code : 98225\n",
      "o_url : http://www.bellinghamcentrallions.org\n",
      "\n",
      "o_name : whatcom county dental resource list\n",
      "address_1 : 800 e chestnut ll suite 2\n",
      "address_2 : None\n",
      "city : bellingham\n",
      "state_province : wa\n",
      "postal_code : 98227\n",
      "o_url : \n",
      "\n",
      "30/10 positive, 180/10 negative\n",
      "Do these records refer to the same thing?\n",
      "(y)es / (n)o / (u)nsure / (f)inished / (p)revious\n"
     ]
    },
    {
     "name": "stdout",
     "output_type": "stream",
     "text": [
      "n\n"
     ]
    },
    {
     "name": "stderr",
     "output_type": "stream",
     "text": [
      "o_name : bellingham parks and recreation division\n",
      "address_1 : 210 lottie street\n",
      "address_2 : \n",
      "city : bellingham\n",
      "state_province : wa\n",
      "postal_code : 98225\n",
      "o_url : https://cob.org/services/recreation\n",
      "\n",
      "o_name : law advocates\n",
      "address_1 : 210 central avenue\n",
      "address_2 : \n",
      "city : bellingham\n",
      "state_province : wa\n",
      "postal_code : 98225\n",
      "o_url : http://www.lawadvocates.org\n",
      "\n",
      "30/10 positive, 181/10 negative\n",
      "Do these records refer to the same thing?\n",
      "(y)es / (n)o / (u)nsure / (f)inished / (p)revious\n"
     ]
    },
    {
     "name": "stdout",
     "output_type": "stream",
     "text": [
      "n\n"
     ]
    },
    {
     "name": "stderr",
     "output_type": "stream",
     "text": [
      "o_name : salvation army - bellingham\n",
      "address_1 : 1515 birchwood avenue\n",
      "address_2 : \n",
      "city : bellingham\n",
      "state_province : wa\n",
      "postal_code : 98225\n",
      "o_url : https://bellingham.salvationarmy.org\n",
      "\n",
      "o_name : sunrise services, inc.\n",
      "address_1 : 1515 cornwall avenue\n",
      "address_2 : \n",
      "city : bellingham\n",
      "state_province : wa\n",
      "postal_code : 98225\n",
      "o_url : https://sunriseservicesinc.com\n",
      "\n",
      "30/10 positive, 182/10 negative\n",
      "Do these records refer to the same thing?\n",
      "(y)es / (n)o / (u)nsure / (f)inished / (p)revious\n"
     ]
    },
    {
     "name": "stdout",
     "output_type": "stream",
     "text": [
      "n\n"
     ]
    },
    {
     "name": "stderr",
     "output_type": "stream",
     "text": [
      "o_name : boys and girls clubs of whatcom county\n",
      "address_1 : 8800 bender road\n",
      "address_2 : \n",
      "city : lynden\n",
      "state_province : wa\n",
      "postal_code : 98264\n",
      "o_url : http://www.whatcomclubs.org\n",
      "\n",
      "o_name : boys and girls clubs of whatcom county\n",
      "address_1 : 635 8th street\n",
      "address_2 : \n",
      "city : blaine\n",
      "state_province : wa\n",
      "postal_code : 98230\n",
      "o_url : http://www.whatcomclubs.org\n",
      "\n",
      "30/10 positive, 183/10 negative\n",
      "Do these records refer to the same thing?\n",
      "(y)es / (n)o / (u)nsure / (f)inished / (p)revious\n"
     ]
    },
    {
     "name": "stdout",
     "output_type": "stream",
     "text": [
      "n\n"
     ]
    },
    {
     "name": "stderr",
     "output_type": "stream",
     "text": [
      "o_name : whatcom county courts\n",
      "address_1 : 111 w main st\n",
      "address_2 : \n",
      "city : everson\n",
      "state_province : wa\n",
      "postal_code : 98247\n",
      "o_url : http://www.courts.wa.gov/court_dir/orgs/296.html\n",
      "\n",
      "o_name : whatcom county courts\n",
      "address_1 : 205 4th street\n",
      "address_2 : \n",
      "city : lynden\n",
      "state_province : wa\n",
      "postal_code : 98264\n",
      "o_url : http://www.courts.wa.gov/court_dir/orgs/296.html\n",
      "\n",
      "30/10 positive, 184/10 negative\n",
      "Do these records refer to the same thing?\n",
      "(y)es / (n)o / (u)nsure / (f)inished / (p)revious\n"
     ]
    },
    {
     "name": "stdout",
     "output_type": "stream",
     "text": [
      "n\n"
     ]
    },
    {
     "name": "stderr",
     "output_type": "stream",
     "text": [
      "o_name : journey housing and payee services\n",
      "address_1 : 1515 cornwall avenue\n",
      "address_2 : \n",
      "city : bellingham\n",
      "state_province : wa\n",
      "postal_code : 98225\n",
      "o_url : https://journeyhousingandpayee.org\n",
      "\n",
      "o_name : salvation army - bellingham\n",
      "address_1 : 1515 birchwood avenue\n",
      "address_2 : \n",
      "city : bellingham\n",
      "state_province : wa\n",
      "postal_code : 98225\n",
      "o_url : https://bellingham.salvationarmy.org\n",
      "\n",
      "30/10 positive, 185/10 negative\n",
      "Do these records refer to the same thing?\n",
      "(y)es / (n)o / (u)nsure / (f)inished / (p)revious\n"
     ]
    },
    {
     "name": "stdout",
     "output_type": "stream",
     "text": [
      "n\n"
     ]
    },
    {
     "name": "stderr",
     "output_type": "stream",
     "text": [
      "o_name : whatcom county courts\n",
      "address_1 : 5694 2nd avenue\n",
      "address_2 : \n",
      "city : ferndale\n",
      "state_province : wa\n",
      "postal_code : 98248\n",
      "o_url : http://www.courts.wa.gov/court_dir/orgs/296.html\n",
      "\n",
      "o_name : whatcom county courts\n",
      "address_1 : 433 cherry street\n",
      "address_2 : \n",
      "city : sumas\n",
      "state_province : wa\n",
      "postal_code : 98295\n",
      "o_url : http://www.courts.wa.gov/court_dir/orgs/296.html\n",
      "\n",
      "30/10 positive, 186/10 negative\n",
      "Do these records refer to the same thing?\n",
      "(y)es / (n)o / (u)nsure / (f)inished / (p)revious\n"
     ]
    },
    {
     "name": "stdout",
     "output_type": "stream",
     "text": [
      "n\n"
     ]
    },
    {
     "name": "stderr",
     "output_type": "stream",
     "text": [
      "o_name : sea mar community health centers\n",
      "address_1 : 3350 airport drive\n",
      "address_2 : \n",
      "city : bellingham\n",
      "state_province : wa\n",
      "postal_code : 98226\n",
      "o_url : https://www.seamar.org/\n",
      "\n",
      "o_name : sea mar community health centers\n",
      "address_1 : 6884 hannegan road\n",
      "address_2 : \n",
      "city : everson\n",
      "state_province : wa\n",
      "postal_code : 98247\n",
      "o_url : https://www.seamar.org/\n",
      "\n",
      "30/10 positive, 187/10 negative\n",
      "Do these records refer to the same thing?\n",
      "(y)es / (n)o / (u)nsure / (f)inished / (p)revious\n"
     ]
    },
    {
     "name": "stdout",
     "output_type": "stream",
     "text": [
      "n\n"
     ]
    },
    {
     "name": "stderr",
     "output_type": "stream",
     "text": [
      "o_name : whatcom county courts\n",
      "address_1 : 205 4th street\n",
      "address_2 : \n",
      "city : lynden\n",
      "state_province : wa\n",
      "postal_code : 98264\n",
      "o_url : http://www.courts.wa.gov/court_dir/orgs/296.html\n",
      "\n",
      "o_name : new way ministries\n",
      "address_1 : 205 south british columbia avenue\n",
      "address_2 : \n",
      "city : lynden\n",
      "state_province : wa\n",
      "postal_code : 98264\n",
      "o_url : http://www.christianhopeassociation.org\n",
      "\n",
      "30/10 positive, 188/10 negative\n",
      "Do these records refer to the same thing?\n",
      "(y)es / (n)o / (u)nsure / (f)inished / (p)revious\n"
     ]
    },
    {
     "name": "stdout",
     "output_type": "stream",
     "text": [
      "n\n"
     ]
    },
    {
     "name": "stderr",
     "output_type": "stream",
     "text": [
      "o_name : dshs division of vocational rehabilitation\n",
      "address_1 : 4101 meridian ave\n",
      "address_2 : \n",
      "city : bellingham\n",
      "state_province : wa\n",
      "postal_code : 98226\n",
      "o_url : http://dshs.wa.gov/dvr\n",
      "\n",
      "o_name : answers counseling, consultation and case management\n",
      "address_1 : 4101 guide meridian\n",
      "address_2 : \n",
      "city : bellingham\n",
      "state_province : wa\n",
      "postal_code : 98226\n",
      "o_url : https://www.answerscounseling.org/\n",
      "\n",
      "30/10 positive, 189/10 negative\n",
      "Do these records refer to the same thing?\n",
      "(y)es / (n)o / (u)nsure / (f)inished / (p)revious\n"
     ]
    },
    {
     "name": "stdout",
     "output_type": "stream",
     "text": [
      "n\n"
     ]
    },
    {
     "name": "stderr",
     "output_type": "stream",
     "text": [
      "o_name : whatcom county courts\n",
      "address_1 : 5694 2nd avenue\n",
      "address_2 : \n",
      "city : ferndale\n",
      "state_province : wa\n",
      "postal_code : 98248\n",
      "o_url : http://www.courts.wa.gov/court_dir/orgs/296.html\n",
      "\n",
      "o_name : whatcom county courts\n",
      "address_1 : 205 4th street\n",
      "address_2 : \n",
      "city : lynden\n",
      "state_province : wa\n",
      "postal_code : 98264\n",
      "o_url : http://www.courts.wa.gov/court_dir/orgs/296.html\n",
      "\n",
      "30/10 positive, 190/10 negative\n",
      "Do these records refer to the same thing?\n",
      "(y)es / (n)o / (u)nsure / (f)inished / (p)revious\n"
     ]
    },
    {
     "name": "stdout",
     "output_type": "stream",
     "text": [
      "n\n"
     ]
    },
    {
     "name": "stderr",
     "output_type": "stream",
     "text": [
      "o_name : city of bellingham\n",
      "address_1 : 210 lottie street\n",
      "address_2 : \n",
      "city : bellingham\n",
      "state_province : wa\n",
      "postal_code : 98225\n",
      "o_url : https://cob.org\n",
      "\n",
      "o_name : bellingham public library\n",
      "address_1 : 210 central ave\n",
      "address_2 : None\n",
      "city : bellingham\n",
      "state_province : wa\n",
      "postal_code : 98227\n",
      "o_url : \n",
      "\n",
      "30/10 positive, 191/10 negative\n",
      "Do these records refer to the same thing?\n",
      "(y)es / (n)o / (u)nsure / (f)inished / (p)revious\n"
     ]
    },
    {
     "name": "stdout",
     "output_type": "stream",
     "text": [
      "n\n"
     ]
    },
    {
     "name": "stderr",
     "output_type": "stream",
     "text": [
      "o_name : whatcom county courts\n",
      "address_1 : 2014 c street\n",
      "address_2 : \n",
      "city : bellingham\n",
      "state_province : wa\n",
      "postal_code : 98225\n",
      "o_url : http://www.courts.wa.gov/court_dir/orgs/296.html\n",
      "\n",
      "o_name : whatcom county courts\n",
      "address_1 : 435 martin st\n",
      "address_2 : suite 4000\n",
      "city : blaine\n",
      "state_province : wa\n",
      "postal_code : 98230\n",
      "o_url : http://www.courts.wa.gov/court_dir/orgs/296.html\n",
      "\n",
      "30/10 positive, 192/10 negative\n",
      "Do these records refer to the same thing?\n",
      "(y)es / (n)o / (u)nsure / (f)inished / (p)revious\n"
     ]
    },
    {
     "name": "stdout",
     "output_type": "stream",
     "text": [
      "n\n"
     ]
    },
    {
     "name": "stderr",
     "output_type": "stream",
     "text": [
      "o_name : project hope\n",
      "address_1 : 205 south british columbia avenue\n",
      "address_2 : suite 105\n",
      "city : lynden\n",
      "state_province : wa\n",
      "postal_code : 98264\n",
      "o_url : https://www.projecthopelynden.org\n",
      "\n",
      "o_name : whatcom center for early learning (ferndale)\n",
      "address_1 : 205 cherry st,5534 2nd ave\n",
      "address_2 : None\n",
      "city : ferndale\n",
      "state_province : wa\n",
      "postal_code : 98248\n",
      "o_url : \n",
      "\n",
      "30/10 positive, 193/10 negative\n",
      "Do these records refer to the same thing?\n",
      "(y)es / (n)o / (u)nsure / (f)inished / (p)revious\n"
     ]
    },
    {
     "name": "stdout",
     "output_type": "stream",
     "text": [
      "n\n"
     ]
    },
    {
     "name": "stderr",
     "output_type": "stream",
     "text": [
      "o_name : unity care northwest\n",
      "address_1 : 220 unity street\n",
      "address_2 : \n",
      "city : bellingham\n",
      "state_province : wa\n",
      "postal_code : 98225\n",
      "o_url : http://unitycarenw.org\n",
      "\n",
      "o_name : unity care northwest\n",
      "address_1 : 6060 portal way\n",
      "address_2 : \n",
      "city : ferndale\n",
      "state_province : wa\n",
      "postal_code : 98248\n",
      "o_url : http://unitycarenw.org\n",
      "\n",
      "30/10 positive, 194/10 negative\n",
      "Do these records refer to the same thing?\n",
      "(y)es / (n)o / (u)nsure / (f)inished / (p)revious\n"
     ]
    },
    {
     "name": "stdout",
     "output_type": "stream",
     "text": [
      "n\n"
     ]
    },
    {
     "name": "stderr",
     "output_type": "stream",
     "text": [
      "o_name : united way of whatcom county\n",
      "address_1 : 1500 cornwall avenue\n",
      "address_2 : suite 203\n",
      "city : bellingham\n",
      "state_province : wa\n",
      "postal_code : 98225\n",
      "o_url : http://www.unitedwaywhatcom.org\n",
      "\n",
      "o_name : whatcom county health department\n",
      "address_1 : 1500 n state st\n",
      "address_2 : None\n",
      "city : bellingham\n",
      "state_province : wa\n",
      "postal_code : 98225\n",
      "o_url : https://www.whatcomcounty.us/360/health-department\n",
      "\n",
      "30/10 positive, 195/10 negative\n",
      "Do these records refer to the same thing?\n",
      "(y)es / (n)o / (u)nsure / (f)inished / (p)revious\n"
     ]
    },
    {
     "name": "stdout",
     "output_type": "stream",
     "text": [
      "n\n"
     ]
    },
    {
     "name": "stderr",
     "output_type": "stream",
     "text": [
      "o_name : whatcom county courts\n",
      "address_1 : 111 w main st\n",
      "address_2 : \n",
      "city : everson\n",
      "state_province : wa\n",
      "postal_code : 98247\n",
      "o_url : http://www.courts.wa.gov/court_dir/orgs/296.html\n",
      "\n",
      "o_name : whatcom county courts\n",
      "address_1 : 5694 2nd avenue\n",
      "address_2 : \n",
      "city : ferndale\n",
      "state_province : wa\n",
      "postal_code : 98248\n",
      "o_url : http://www.courts.wa.gov/court_dir/orgs/296.html\n",
      "\n",
      "30/10 positive, 196/10 negative\n",
      "Do these records refer to the same thing?\n",
      "(y)es / (n)o / (u)nsure / (f)inished / (p)revious\n"
     ]
    },
    {
     "name": "stdout",
     "output_type": "stream",
     "text": [
      "n\n"
     ]
    },
    {
     "name": "stderr",
     "output_type": "stream",
     "text": [
      "o_name : whatcom county courts\n",
      "address_1 : 435 martin st\n",
      "address_2 : suite 4000\n",
      "city : blaine\n",
      "state_province : wa\n",
      "postal_code : 98230\n",
      "o_url : http://www.courts.wa.gov/court_dir/orgs/296.html\n",
      "\n",
      "o_name : whatcom county courts\n",
      "address_1 : 5694 2nd avenue\n",
      "address_2 : \n",
      "city : ferndale\n",
      "state_province : wa\n",
      "postal_code : 98248\n",
      "o_url : http://www.courts.wa.gov/court_dir/orgs/296.html\n",
      "\n",
      "30/10 positive, 197/10 negative\n",
      "Do these records refer to the same thing?\n",
      "(y)es / (n)o / (u)nsure / (f)inished / (p)revious\n"
     ]
    },
    {
     "name": "stdout",
     "output_type": "stream",
     "text": [
      "n\n"
     ]
    },
    {
     "name": "stderr",
     "output_type": "stream",
     "text": [
      "o_name : whatcom county courts\n",
      "address_1 : 311 grand avenue\n",
      "address_2 : suite 401\n",
      "city : bellingham\n",
      "state_province : wa\n",
      "postal_code : 98225\n",
      "o_url : http://www.courts.wa.gov/court_dir/orgs/296.html\n",
      "\n",
      "o_name : whatcom county courts\n",
      "address_1 : 435 martin st\n",
      "address_2 : suite 4000\n",
      "city : blaine\n",
      "state_province : wa\n",
      "postal_code : 98230\n",
      "o_url : http://www.courts.wa.gov/court_dir/orgs/296.html\n",
      "\n",
      "30/10 positive, 198/10 negative\n",
      "Do these records refer to the same thing?\n",
      "(y)es / (n)o / (u)nsure / (f)inished / (p)revious\n"
     ]
    },
    {
     "name": "stdout",
     "output_type": "stream",
     "text": [
      "n\n"
     ]
    },
    {
     "name": "stderr",
     "output_type": "stream",
     "text": [
      "o_name : whatcom county courts\n",
      "address_1 : 311 grand avenue\n",
      "address_2 : suite 501\n",
      "city : bellingham\n",
      "state_province : wa\n",
      "postal_code : 98225\n",
      "o_url : http://www.courts.wa.gov/court_dir/orgs/296.html\n",
      "\n",
      "o_name : whatcom county courts\n",
      "address_1 : 435 martin st\n",
      "address_2 : suite 4000\n",
      "city : blaine\n",
      "state_province : wa\n",
      "postal_code : 98230\n",
      "o_url : http://www.courts.wa.gov/court_dir/orgs/296.html\n",
      "\n",
      "30/10 positive, 199/10 negative\n",
      "Do these records refer to the same thing?\n",
      "(y)es / (n)o / (u)nsure / (f)inished / (p)revious\n"
     ]
    },
    {
     "name": "stdout",
     "output_type": "stream",
     "text": [
      "n\n"
     ]
    },
    {
     "name": "stderr",
     "output_type": "stream",
     "text": [
      "o_name : bellingham public library\n",
      "address_1 : 210 central avenue\n",
      "address_2 : \n",
      "city : bellingham\n",
      "state_province : wa\n",
      "postal_code : 98225\n",
      "o_url : http://www.bellinghampubliclibrary.org\n",
      "\n",
      "o_name : city of bellingham\n",
      "address_1 : 210 lottie street\n",
      "address_2 : \n",
      "city : bellingham\n",
      "state_province : wa\n",
      "postal_code : 98225\n",
      "o_url : https://cob.org\n",
      "\n",
      "30/10 positive, 200/10 negative\n",
      "Do these records refer to the same thing?\n",
      "(y)es / (n)o / (u)nsure / (f)inished / (p)revious\n"
     ]
    },
    {
     "name": "stdout",
     "output_type": "stream",
     "text": [
      "n\n"
     ]
    },
    {
     "name": "stderr",
     "output_type": "stream",
     "text": [
      "o_name : whatcom county courts\n",
      "address_1 : 311 grand avenue\n",
      "address_2 : suite 301\n",
      "city : bellingham\n",
      "state_province : wa\n",
      "postal_code : 98225\n",
      "o_url : http://www.courts.wa.gov/court_dir/orgs/296.html\n",
      "\n",
      "o_name : whatcom county courts\n",
      "address_1 : 435 martin st\n",
      "address_2 : suite 4000\n",
      "city : blaine\n",
      "state_province : wa\n",
      "postal_code : 98230\n",
      "o_url : http://www.courts.wa.gov/court_dir/orgs/296.html\n",
      "\n",
      "30/10 positive, 201/10 negative\n",
      "Do these records refer to the same thing?\n",
      "(y)es / (n)o / (u)nsure / (f)inished / (p)revious\n"
     ]
    },
    {
     "name": "stdout",
     "output_type": "stream",
     "text": [
      "n\n"
     ]
    },
    {
     "name": "stderr",
     "output_type": "stream",
     "text": [
      "o_name : bridges treatment and recovery (bellingham)\n",
      "address_1 : 1221 fraser st,suite e-1\n",
      "address_2 : None\n",
      "city : bellingham\n",
      "state_province : wa\n",
      "postal_code : 98229\n",
      "o_url : https://www.bridgestreatment.com\n",
      "\n",
      "o_name : bridges treatment and recovery (ferndale)\n",
      "address_1 : 6044 portal way,103\n",
      "address_2 : None\n",
      "city : ferndale\n",
      "state_province : wa\n",
      "postal_code : 98248\n",
      "o_url : https://www.bridgestreatment.com\n",
      "\n",
      "30/10 positive, 202/10 negative\n",
      "Do these records refer to the same thing?\n",
      "(y)es / (n)o / (u)nsure / (f)inished / (p)revious\n"
     ]
    },
    {
     "name": "stdout",
     "output_type": "stream",
     "text": [
      "n\n"
     ]
    },
    {
     "name": "stderr",
     "output_type": "stream",
     "text": [
      "o_name : lighthouse mission ministries\n",
      "address_1 : 1530 cornwall avenue\n",
      "address_2 : \n",
      "city : bellingham\n",
      "state_province : wa\n",
      "postal_code : 98225\n",
      "o_url : http://www.thelighthousemission.org\n",
      "\n",
      "o_name : planned parenthood\n",
      "address_1 : 1530 ellis st.\n",
      "address_2 : \n",
      "city : bellingham\n",
      "state_province : wa\n",
      "postal_code : 98225\n",
      "o_url : http://ppgnhi.org\n",
      "\n",
      "30/10 positive, 203/10 negative\n",
      "Do these records refer to the same thing?\n",
      "(y)es / (n)o / (u)nsure / (f)inished / (p)revious\n"
     ]
    },
    {
     "name": "stdout",
     "output_type": "stream",
     "text": [
      "n\n"
     ]
    },
    {
     "name": "stderr",
     "output_type": "stream",
     "text": [
      "o_name : planned parenthood\n",
      "address_1 : 1530 ellis st.\n",
      "address_2 : \n",
      "city : bellingham\n",
      "state_province : wa\n",
      "postal_code : 98225\n",
      "o_url : http://ppgnhi.org\n",
      "\n",
      "o_name : north sound cooling centers\n",
      "address_1 : 1530 cornwall avenue\n",
      "address_2 : \n",
      "city : bellingham\n",
      "state_province : wa\n",
      "postal_code : 98225\n",
      "o_url : \n",
      "\n",
      "30/10 positive, 204/10 negative\n",
      "Do these records refer to the same thing?\n",
      "(y)es / (n)o / (u)nsure / (f)inished / (p)revious\n"
     ]
    },
    {
     "name": "stdout",
     "output_type": "stream",
     "text": [
      "n\n"
     ]
    },
    {
     "name": "stderr",
     "output_type": "stream",
     "text": [
      "o_name : whatcom county health department\n",
      "address_1 : 509 girard street\n",
      "address_2 : \n",
      "city : bellingham\n",
      "state_province : wa\n",
      "postal_code : 98225\n",
      "o_url : http://www.whatcomcounty.us/360/health-department\n",
      "\n",
      "o_name : whatcom county health department\n",
      "address_1 : 4255 mitchell way\n",
      "address_2 : \n",
      "city : bellingham\n",
      "state_province : wa\n",
      "postal_code : 98226\n",
      "o_url : http://www.whatcomcounty.us/360/health-department\n",
      "\n",
      "30/10 positive, 205/10 negative\n",
      "Do these records refer to the same thing?\n",
      "(y)es / (n)o / (u)nsure / (f)inished / (p)revious\n"
     ]
    },
    {
     "name": "stdout",
     "output_type": "stream",
     "text": [
      "n\n"
     ]
    },
    {
     "name": "stderr",
     "output_type": "stream",
     "text": [
      "o_name : whatcom county health department\n",
      "address_1 : 1500 north state street\n",
      "address_2 : \n",
      "city : bellingham\n",
      "state_province : wa\n",
      "postal_code : 98225\n",
      "o_url : http://www.whatcomcounty.us/360/health-department\n",
      "\n",
      "o_name : united way of whatcom county\n",
      "address_1 : 1500 cornwall avenue\n",
      "address_2 : suite 203\n",
      "city : bellingham\n",
      "state_province : wa\n",
      "postal_code : 98225\n",
      "o_url : http://www.unitedwaywhatcom.org\n",
      "\n",
      "30/10 positive, 206/10 negative\n",
      "Do these records refer to the same thing?\n",
      "(y)es / (n)o / (u)nsure / (f)inished / (p)revious\n"
     ]
    },
    {
     "name": "stdout",
     "output_type": "stream",
     "text": [
      "n\n"
     ]
    },
    {
     "name": "stderr",
     "output_type": "stream",
     "text": [
      "o_name : bellingham parks and recreation division\n",
      "address_1 : 210 lottie street\n",
      "address_2 : \n",
      "city : bellingham\n",
      "state_province : wa\n",
      "postal_code : 98225\n",
      "o_url : https://cob.org/services/recreation\n",
      "\n",
      "o_name : north sound cooling centers\n",
      "address_1 : 210 central avenue\n",
      "address_2 : \n",
      "city : bellingham\n",
      "state_province : wa\n",
      "postal_code : 98225\n",
      "o_url : \n",
      "\n",
      "30/10 positive, 207/10 negative\n",
      "Do these records refer to the same thing?\n",
      "(y)es / (n)o / (u)nsure / (f)inished / (p)revious\n"
     ]
    },
    {
     "name": "stdout",
     "output_type": "stream",
     "text": [
      "n\n"
     ]
    },
    {
     "name": "stderr",
     "output_type": "stream",
     "text": [
      "o_name : city of bellingham\n",
      "address_1 : 210 lottie street\n",
      "address_2 : \n",
      "city : bellingham\n",
      "state_province : wa\n",
      "postal_code : 98225\n",
      "o_url : https://cob.org\n",
      "\n",
      "o_name : north sound cooling centers\n",
      "address_1 : 210 central avenue\n",
      "address_2 : \n",
      "city : bellingham\n",
      "state_province : wa\n",
      "postal_code : 98225\n",
      "o_url : \n",
      "\n",
      "30/10 positive, 208/10 negative\n",
      "Do these records refer to the same thing?\n",
      "(y)es / (n)o / (u)nsure / (f)inished / (p)revious\n"
     ]
    },
    {
     "name": "stdout",
     "output_type": "stream",
     "text": [
      "n\n"
     ]
    },
    {
     "name": "stderr",
     "output_type": "stream",
     "text": [
      "o_name : north sound cooling centers\n",
      "address_1 : 1530 cornwall avenue\n",
      "address_2 : \n",
      "city : bellingham\n",
      "state_province : wa\n",
      "postal_code : 98225\n",
      "o_url : \n",
      "\n",
      "o_name : planned parenthood (bellingham)\n",
      "address_1 : 1530 ellis st\n",
      "address_2 : None\n",
      "city : bellingham\n",
      "state_province : wa\n",
      "postal_code : 98225\n",
      "o_url : https://www.plannedparenthood.org/health-center/washington/bellingham/98225/bellingham-health-center-2454-91780\n",
      "\n",
      "30/10 positive, 209/10 negative\n",
      "Do these records refer to the same thing?\n",
      "(y)es / (n)o / (u)nsure / (f)inished / (p)revious\n"
     ]
    },
    {
     "name": "stdout",
     "output_type": "stream",
     "text": [
      "n\n"
     ]
    },
    {
     "name": "stderr",
     "output_type": "stream",
     "text": [
      "o_name : point roberts food bank\n",
      "address_1 : 1480 gulf rd\n",
      "address_2 : None\n",
      "city : point roberts\n",
      "state_province : wa\n",
      "postal_code : 98281\n",
      "o_url : \n",
      "\n",
      "o_name : unity care nw (point roberts clinic)\n",
      "address_1 : 2030 benson rd\n",
      "address_2 : None\n",
      "city : point roberts\n",
      "state_province : wa\n",
      "postal_code : 98281\n",
      "o_url : \n",
      "\n",
      "30/10 positive, 210/10 negative\n",
      "Do these records refer to the same thing?\n",
      "(y)es / (n)o / (u)nsure / (f)inished / (p)revious\n"
     ]
    },
    {
     "name": "stdout",
     "output_type": "stream",
     "text": [
      "n\n"
     ]
    },
    {
     "name": "stderr",
     "output_type": "stream",
     "text": [
      "o_name : new way ministries\n",
      "address_1 : 205 south british columbia avenue\n",
      "address_2 : \n",
      "city : lynden\n",
      "state_province : wa\n",
      "postal_code : 98264\n",
      "o_url : http://www.christianhopeassociation.org\n",
      "\n",
      "o_name : whatcom center for early learning (ferndale)\n",
      "address_1 : 205 cherry st,5534 2nd ave\n",
      "address_2 : None\n",
      "city : ferndale\n",
      "state_province : wa\n",
      "postal_code : 98248\n",
      "o_url : \n",
      "\n",
      "30/10 positive, 211/10 negative\n",
      "Do these records refer to the same thing?\n",
      "(y)es / (n)o / (u)nsure / (f)inished / (p)revious\n"
     ]
    },
    {
     "name": "stdout",
     "output_type": "stream",
     "text": [
      "n\n"
     ]
    },
    {
     "name": "stderr",
     "output_type": "stream",
     "text": [
      "o_name : lighthouse mission ministries\n",
      "address_1 : 1530 cornwall avenue\n",
      "address_2 : \n",
      "city : bellingham\n",
      "state_province : wa\n",
      "postal_code : 98225\n",
      "o_url : http://www.thelighthousemission.org\n",
      "\n",
      "o_name : planned parenthood (bellingham)\n",
      "address_1 : 1530 ellis st\n",
      "address_2 : None\n",
      "city : bellingham\n",
      "state_province : wa\n",
      "postal_code : 98225\n",
      "o_url : https://www.plannedparenthood.org/health-center/washington/bellingham/98225/bellingham-health-center-2454-91780\n",
      "\n",
      "30/10 positive, 212/10 negative\n",
      "Do these records refer to the same thing?\n",
      "(y)es / (n)o / (u)nsure / (f)inished / (p)revious\n"
     ]
    },
    {
     "name": "stdout",
     "output_type": "stream",
     "text": [
      "n\n"
     ]
    },
    {
     "name": "stderr",
     "output_type": "stream",
     "text": [
      "o_name : point roberts food bank\n",
      "address_1 : 323 evergreen way\n",
      "address_2 : \n",
      "city : point roberts\n",
      "state_province : wa\n",
      "postal_code : 98281\n",
      "o_url : http://www.harmonywebdesigns.com/pointrobertschurch/announcements.htm\n",
      "\n",
      "o_name : unity care nw (point roberts clinic)\n",
      "address_1 : 2030 benson rd\n",
      "address_2 : None\n",
      "city : point roberts\n",
      "state_province : wa\n",
      "postal_code : 98281\n",
      "o_url : \n",
      "\n",
      "30/10 positive, 213/10 negative\n",
      "Do these records refer to the same thing?\n",
      "(y)es / (n)o / (u)nsure / (f)inished / (p)revious\n"
     ]
    },
    {
     "name": "stdout",
     "output_type": "stream",
     "text": [
      "n\n"
     ]
    },
    {
     "name": "stderr",
     "output_type": "stream",
     "text": [
      "o_name : blue skies for children\n",
      "address_1 : 2505 cedarwood avenue\n",
      "address_2 : suite 5\n",
      "city : bellingham\n",
      "state_province : wa\n",
      "postal_code : 98225\n",
      "o_url : http://www.blueskiesforchildren.org\n",
      "\n",
      "o_name : nooksack tribe (genesis ii)\n",
      "address_1 : 2505 sulwhanon drive,modular building a\n",
      "address_2 : None\n",
      "city : everson\n",
      "state_province : wa\n",
      "postal_code : 98247\n",
      "o_url : https://nooksacktribe.org/departments/health/alcohol-chemical-dependency/\n",
      "\n",
      "30/10 positive, 214/10 negative\n",
      "Do these records refer to the same thing?\n",
      "(y)es / (n)o / (u)nsure / (f)inished / (p)revious\n"
     ]
    },
    {
     "name": "stdout",
     "output_type": "stream",
     "text": [
      "n\n"
     ]
    },
    {
     "name": "stderr",
     "output_type": "stream",
     "text": [
      "o_name : bellingham community meal program\n",
      "address_1 : 2116 cornwall avenue\n",
      "address_2 : \n",
      "city : bellingham\n",
      "state_province : wa\n",
      "postal_code : 98225\n",
      "o_url : https://www.assumption.org\n",
      "\n",
      "o_name : saint pauls episcopal church\n",
      "address_1 : 2116 walnut street\n",
      "address_2 : \n",
      "city : bellingham\n",
      "state_province : wa\n",
      "postal_code : 98225\n",
      "o_url : http://stpaulsbellingham.org\n",
      "\n",
      "30/10 positive, 215/10 negative\n",
      "Do these records refer to the same thing?\n",
      "(y)es / (n)o / (u)nsure / (f)inished / (p)revious\n"
     ]
    },
    {
     "name": "stdout",
     "output_type": "stream",
     "text": [
      "n\n"
     ]
    },
    {
     "name": "stderr",
     "output_type": "stream",
     "text": [
      "o_name : lake whatcom residential and treatment center\n",
      "address_1 : 3400 agate heights road\n",
      "address_2 : \n",
      "city : bellingham\n",
      "state_province : wa\n",
      "postal_code : 98226\n",
      "o_url : http://lwrtc.org\n",
      "\n",
      "o_name : satellite food bank at alderwood elementary\n",
      "address_1 : 3400 hollywood ave\n",
      "address_2 : None\n",
      "city : bellingham\n",
      "state_province : wa\n",
      "postal_code : 98225\n",
      "o_url : \n",
      "\n",
      "30/10 positive, 216/10 negative\n",
      "Do these records refer to the same thing?\n",
      "(y)es / (n)o / (u)nsure / (f)inished / (p)revious\n"
     ]
    },
    {
     "name": "stdout",
     "output_type": "stream",
     "text": [
      "n\n"
     ]
    },
    {
     "name": "stderr",
     "output_type": "stream",
     "text": [
      "o_name : law advocates\n",
      "address_1 : 210 central avenue\n",
      "address_2 : \n",
      "city : bellingham\n",
      "state_province : wa\n",
      "postal_code : 98225\n",
      "o_url : http://www.lawadvocates.org\n",
      "\n",
      "o_name : city of bellingham\n",
      "address_1 : 210 lottie street\n",
      "address_2 : \n",
      "city : bellingham\n",
      "state_province : wa\n",
      "postal_code : 98225\n",
      "o_url : https://cob.org\n",
      "\n",
      "30/10 positive, 217/10 negative\n",
      "Do these records refer to the same thing?\n",
      "(y)es / (n)o / (u)nsure / (f)inished / (p)revious\n"
     ]
    },
    {
     "name": "stdout",
     "output_type": "stream",
     "text": [
      "n\n"
     ]
    },
    {
     "name": "stderr",
     "output_type": "stream",
     "text": [
      "o_name : bellingham central lions club\n",
      "address_1 : \n",
      "address_2 : \n",
      "city : \n",
      "state_province : \n",
      "postal_code : \n",
      "o_url : http://www.bellinghamcentrallions.org\n",
      "\n",
      "o_name : bellingham central lions club\n",
      "address_1 : 4141 west maplewood avenue\n",
      "address_2 : \n",
      "city : bellingham\n",
      "state_province : wa\n",
      "postal_code : 98226\n",
      "o_url : http://www.bellinghamcentrallions.org\n",
      "\n",
      "30/10 positive, 218/10 negative\n",
      "Do these records refer to the same thing?\n",
      "(y)es / (n)o / (u)nsure / (f)inished / (p)revious\n"
     ]
    },
    {
     "name": "stdout",
     "output_type": "stream",
     "text": [
      "y\n"
     ]
    },
    {
     "name": "stderr",
     "output_type": "stream",
     "text": [
      "o_name : bellingham central lions club\n",
      "address_1 : \n",
      "address_2 : \n",
      "city : \n",
      "state_province : \n",
      "postal_code : \n",
      "o_url : http://www.bellinghamcentrallions.org\n",
      "\n",
      "o_name : bellingham central lions club\n",
      "address_1 : 800 east chestnut street\n",
      "address_2 : suite 3b\n",
      "city : bellingham\n",
      "state_province : wa\n",
      "postal_code : 98225\n",
      "o_url : http://www.bellinghamcentrallions.org\n",
      "\n",
      "31/10 positive, 218/10 negative\n",
      "Do these records refer to the same thing?\n",
      "(y)es / (n)o / (u)nsure / (f)inished / (p)revious\n"
     ]
    },
    {
     "name": "stdout",
     "output_type": "stream",
     "text": [
      "y\n"
     ]
    },
    {
     "name": "stderr",
     "output_type": "stream",
     "text": [
      "o_name : lummi nation\n",
      "address_1 : 2665 kwina road\n",
      "address_2 : \n",
      "city : bellingham\n",
      "state_province : wa\n",
      "postal_code : 98226\n",
      "o_url : https://www.lummi-nsn.gov\n",
      "\n",
      "o_name : lummi nation\n",
      "address_1 : 2592 kwina road\n",
      "address_2 : \n",
      "city : bellingham\n",
      "state_province : wa\n",
      "postal_code : 98226\n",
      "o_url : https://www.lummi-nsn.gov\n",
      "\n",
      "32/10 positive, 218/10 negative\n",
      "Do these records refer to the same thing?\n",
      "(y)es / (n)o / (u)nsure / (f)inished / (p)revious\n"
     ]
    },
    {
     "name": "stdout",
     "output_type": "stream",
     "text": [
      "n\n"
     ]
    },
    {
     "name": "stderr",
     "output_type": "stream",
     "text": [
      "o_name : lummi nation\n",
      "address_1 : 2616 kwina road\n",
      "address_2 : \n",
      "city : bellingham\n",
      "state_province : wa\n",
      "postal_code : 98226\n",
      "o_url : https://www.lummi-nsn.gov\n",
      "\n",
      "o_name : lummi nation\n",
      "address_1 : 2592 kwina road\n",
      "address_2 : \n",
      "city : bellingham\n",
      "state_province : wa\n",
      "postal_code : 98226\n",
      "o_url : https://www.lummi-nsn.gov\n",
      "\n",
      "32/10 positive, 219/10 negative\n",
      "Do these records refer to the same thing?\n",
      "(y)es / (n)o / (u)nsure / (f)inished / (p)revious\n"
     ]
    },
    {
     "name": "stdout",
     "output_type": "stream",
     "text": [
      "n\n"
     ]
    },
    {
     "name": "stderr",
     "output_type": "stream",
     "text": [
      "o_name : lummi nation\n",
      "address_1 : 2830 kwina road\n",
      "address_2 : \n",
      "city : bellingham\n",
      "state_province : wa\n",
      "postal_code : 98226\n",
      "o_url : https://www.lummi-nsn.gov\n",
      "\n",
      "o_name : lummi nation\n",
      "address_1 : 2592 kwina road\n",
      "address_2 : \n",
      "city : bellingham\n",
      "state_province : wa\n",
      "postal_code : 98226\n",
      "o_url : https://www.lummi-nsn.gov\n",
      "\n",
      "32/10 positive, 220/10 negative\n",
      "Do these records refer to the same thing?\n",
      "(y)es / (n)o / (u)nsure / (f)inished / (p)revious\n"
     ]
    },
    {
     "name": "stdout",
     "output_type": "stream",
     "text": [
      "n\n"
     ]
    },
    {
     "name": "stderr",
     "output_type": "stream",
     "text": [
      "o_name : lummi nation\n",
      "address_1 : 2665 kwina road\n",
      "address_2 : \n",
      "city : bellingham\n",
      "state_province : wa\n",
      "postal_code : 98226\n",
      "o_url : https://www.lummi-nsn.gov\n",
      "\n",
      "o_name : lummi nation\n",
      "address_1 : 2830 kwina road\n",
      "address_2 : \n",
      "city : bellingham\n",
      "state_province : wa\n",
      "postal_code : 98226\n",
      "o_url : https://www.lummi-nsn.gov\n",
      "\n",
      "32/10 positive, 221/10 negative\n",
      "Do these records refer to the same thing?\n",
      "(y)es / (n)o / (u)nsure / (f)inished / (p)revious\n"
     ]
    },
    {
     "name": "stdout",
     "output_type": "stream",
     "text": [
      "n\n"
     ]
    },
    {
     "name": "stderr",
     "output_type": "stream",
     "text": [
      "o_name : washington state department of labor industries\n",
      "address_1 : 1720 ellis st\n",
      "address_2 : suite 200\n",
      "city : bellingham\n",
      "state_province : wa\n",
      "postal_code : 98225\n",
      "o_url : http://lni.wa.gov\n",
      "\n",
      "o_name : washington state department of children, youth families child welfare system\n",
      "address_1 : 1720 ellis st., suite 100\n",
      "address_2 : \n",
      "city : bellingham\n",
      "state_province : wa\n",
      "postal_code : 98225\n",
      "o_url : https://www.dcyf.wa.gov\n",
      "\n",
      "32/10 positive, 222/10 negative\n",
      "Do these records refer to the same thing?\n",
      "(y)es / (n)o / (u)nsure / (f)inished / (p)revious\n"
     ]
    },
    {
     "name": "stdout",
     "output_type": "stream",
     "text": [
      "n\n"
     ]
    },
    {
     "name": "stderr",
     "output_type": "stream",
     "text": [
      "o_name : whatcom county courts\n",
      "address_1 : 311 grand avenue\n",
      "address_2 : suite 501\n",
      "city : bellingham\n",
      "state_province : wa\n",
      "postal_code : 98225\n",
      "o_url : http://www.courts.wa.gov/court_dir/orgs/296.html\n",
      "\n",
      "o_name : whatcom county courts\n",
      "address_1 : 311 grand avenue\n",
      "address_2 : suite 401\n",
      "city : bellingham\n",
      "state_province : wa\n",
      "postal_code : 98225\n",
      "o_url : http://www.courts.wa.gov/court_dir/orgs/296.html\n",
      "\n",
      "32/10 positive, 223/10 negative\n",
      "Do these records refer to the same thing?\n",
      "(y)es / (n)o / (u)nsure / (f)inished / (p)revious\n"
     ]
    },
    {
     "name": "stdout",
     "output_type": "stream",
     "text": [
      "n\n"
     ]
    },
    {
     "name": "stderr",
     "output_type": "stream",
     "text": [
      "o_name : western washington university\n",
      "address_1 : 516 high street\n",
      "address_2 : room 540\n",
      "city : bellingham\n",
      "state_province : wa\n",
      "postal_code : 98225\n",
      "o_url : http://www.wwu.edu\n",
      "\n",
      "o_name : western washington university\n",
      "address_1 : 516 high street\n",
      "address_2 : room 265\n",
      "city : bellingham\n",
      "state_province : wa\n",
      "postal_code : 98225\n",
      "o_url : http://www.wwu.edu\n",
      "\n",
      "32/10 positive, 224/10 negative\n",
      "Do these records refer to the same thing?\n",
      "(y)es / (n)o / (u)nsure / (f)inished / (p)revious\n"
     ]
    },
    {
     "name": "stdout",
     "output_type": "stream",
     "text": [
      "n\n"
     ]
    },
    {
     "name": "stderr",
     "output_type": "stream",
     "text": [
      "o_name : western washington university\n",
      "address_1 : 516 high street\n",
      "address_2 : room 265\n",
      "city : bellingham\n",
      "state_province : wa\n",
      "postal_code : 98225\n",
      "o_url : http://www.wwu.edu\n",
      "\n",
      "o_name : western washington university\n",
      "address_1 : 516 high street\n",
      "address_2 : 2nd floor, room 256\n",
      "city : bellingham\n",
      "state_province : wa\n",
      "postal_code : 98225\n",
      "o_url : http://www.wwu.edu\n",
      "\n",
      "32/10 positive, 225/10 negative\n",
      "Do these records refer to the same thing?\n",
      "(y)es / (n)o / (u)nsure / (f)inished / (p)revious\n"
     ]
    },
    {
     "name": "stdout",
     "output_type": "stream",
     "text": [
      "n\n"
     ]
    },
    {
     "name": "stderr",
     "output_type": "stream",
     "text": [
      "o_name : western washington university\n",
      "address_1 : 516 high street\n",
      "address_2 : 2nd floor, room 256\n",
      "city : bellingham\n",
      "state_province : wa\n",
      "postal_code : 98225\n",
      "o_url : http://www.wwu.edu\n",
      "\n",
      "o_name : western washington university\n",
      "address_1 : 516 high street\n",
      "address_2 : room 280\n",
      "city : bellingham\n",
      "state_province : wa\n",
      "postal_code : 98225\n",
      "o_url : http://www.wwu.edu\n",
      "\n",
      "32/10 positive, 226/10 negative\n",
      "Do these records refer to the same thing?\n",
      "(y)es / (n)o / (u)nsure / (f)inished / (p)revious\n"
     ]
    },
    {
     "name": "stdout",
     "output_type": "stream",
     "text": [
      "n\n"
     ]
    },
    {
     "name": "stderr",
     "output_type": "stream",
     "text": [
      "o_name : western washington university\n",
      "address_1 : 516 high street\n",
      "address_2 : room 265\n",
      "city : bellingham\n",
      "state_province : wa\n",
      "postal_code : 98225\n",
      "o_url : http://www.wwu.edu\n",
      "\n",
      "o_name : western washington university\n",
      "address_1 : 516 high street\n",
      "address_2 : room 280\n",
      "city : bellingham\n",
      "state_province : wa\n",
      "postal_code : 98225\n",
      "o_url : http://www.wwu.edu\n",
      "\n",
      "32/10 positive, 227/10 negative\n",
      "Do these records refer to the same thing?\n",
      "(y)es / (n)o / (u)nsure / (f)inished / (p)revious\n"
     ]
    },
    {
     "name": "stdout",
     "output_type": "stream",
     "text": [
      "n\n"
     ]
    },
    {
     "name": "stderr",
     "output_type": "stream",
     "text": [
      "o_name : whatcom county courts\n",
      "address_1 : 311 grand avenue\n",
      "address_2 : suite 501\n",
      "city : bellingham\n",
      "state_province : wa\n",
      "postal_code : 98225\n",
      "o_url : http://www.courts.wa.gov/court_dir/orgs/296.html\n",
      "\n",
      "o_name : whatcom county courts\n",
      "address_1 : 311 grand avenue\n",
      "address_2 : suite 301\n",
      "city : bellingham\n",
      "state_province : wa\n",
      "postal_code : 98225\n",
      "o_url : http://www.courts.wa.gov/court_dir/orgs/296.html\n",
      "\n",
      "32/10 positive, 228/10 negative\n",
      "Do these records refer to the same thing?\n",
      "(y)es / (n)o / (u)nsure / (f)inished / (p)revious\n"
     ]
    },
    {
     "name": "stdout",
     "output_type": "stream",
     "text": [
      "n\n"
     ]
    },
    {
     "name": "stderr",
     "output_type": "stream",
     "text": [
      "o_name : whatcom county courts\n",
      "address_1 : 311 grand avenue\n",
      "address_2 : suite 301\n",
      "city : bellingham\n",
      "state_province : wa\n",
      "postal_code : 98225\n",
      "o_url : http://www.courts.wa.gov/court_dir/orgs/296.html\n",
      "\n",
      "o_name : whatcom county courts\n",
      "address_1 : 311 grand avenue\n",
      "address_2 : suite 401\n",
      "city : bellingham\n",
      "state_province : wa\n",
      "postal_code : 98225\n",
      "o_url : http://www.courts.wa.gov/court_dir/orgs/296.html\n",
      "\n",
      "32/10 positive, 229/10 negative\n",
      "Do these records refer to the same thing?\n",
      "(y)es / (n)o / (u)nsure / (f)inished / (p)revious\n"
     ]
    },
    {
     "name": "stdout",
     "output_type": "stream",
     "text": [
      "n\n"
     ]
    },
    {
     "name": "stderr",
     "output_type": "stream",
     "text": [
      "o_name : whatcom county courts\n",
      "address_1 : 311 grand avenue\n",
      "address_2 : suite 401\n",
      "city : bellingham\n",
      "state_province : wa\n",
      "postal_code : 98225\n",
      "o_url : http://www.courts.wa.gov/court_dir/orgs/296.html\n",
      "\n",
      "o_name : whatcom county sheriffs office\n",
      "address_1 : 311 grand avenue\n",
      "address_2 : \n",
      "city : bellingham\n",
      "state_province : wa\n",
      "postal_code : 98225\n",
      "o_url : http://www.co.whatcom.wa.us/sheriff/\n",
      "\n",
      "32/10 positive, 230/10 negative\n",
      "Do these records refer to the same thing?\n",
      "(y)es / (n)o / (u)nsure / (f)inished / (p)revious\n"
     ]
    },
    {
     "name": "stdout",
     "output_type": "stream",
     "text": [
      "n\n"
     ]
    },
    {
     "name": "stderr",
     "output_type": "stream",
     "text": [
      "o_name : whatcom county courts\n",
      "address_1 : 311 grand avenue\n",
      "address_2 : suite 501\n",
      "city : bellingham\n",
      "state_province : wa\n",
      "postal_code : 98225\n",
      "o_url : http://www.courts.wa.gov/court_dir/orgs/296.html\n",
      "\n",
      "o_name : whatcom county sheriffs office\n",
      "address_1 : 311 grand avenue\n",
      "address_2 : \n",
      "city : bellingham\n",
      "state_province : wa\n",
      "postal_code : 98225\n",
      "o_url : http://www.co.whatcom.wa.us/sheriff/\n",
      "\n",
      "32/10 positive, 231/10 negative\n",
      "Do these records refer to the same thing?\n",
      "(y)es / (n)o / (u)nsure / (f)inished / (p)revious\n"
     ]
    },
    {
     "name": "stdout",
     "output_type": "stream",
     "text": [
      "n\n"
     ]
    },
    {
     "name": "stderr",
     "output_type": "stream",
     "text": [
      "o_name : whatcom county courts\n",
      "address_1 : 311 grand avenue\n",
      "address_2 : suite 301\n",
      "city : bellingham\n",
      "state_province : wa\n",
      "postal_code : 98225\n",
      "o_url : http://www.courts.wa.gov/court_dir/orgs/296.html\n",
      "\n",
      "o_name : whatcom county sheriffs office\n",
      "address_1 : 311 grand avenue\n",
      "address_2 : \n",
      "city : bellingham\n",
      "state_province : wa\n",
      "postal_code : 98225\n",
      "o_url : http://www.co.whatcom.wa.us/sheriff/\n",
      "\n",
      "32/10 positive, 232/10 negative\n",
      "Do these records refer to the same thing?\n",
      "(y)es / (n)o / (u)nsure / (f)inished / (p)revious\n"
     ]
    },
    {
     "name": "stdout",
     "output_type": "stream",
     "text": [
      "n\n"
     ]
    },
    {
     "name": "stderr",
     "output_type": "stream",
     "text": [
      "o_name : western washington university\n",
      "address_1 : 516 high street\n",
      "address_2 : \n",
      "city : bellingham\n",
      "state_province : wa\n",
      "postal_code : 98225\n",
      "o_url : http://www.wwu.edu\n",
      "\n",
      "o_name : western washington university\n",
      "address_1 : 516 high street\n",
      "address_2 : room 540\n",
      "city : bellingham\n",
      "state_province : wa\n",
      "postal_code : 98225\n",
      "o_url : http://www.wwu.edu\n",
      "\n",
      "32/10 positive, 233/10 negative\n",
      "Do these records refer to the same thing?\n",
      "(y)es / (n)o / (u)nsure / (f)inished / (p)revious\n"
     ]
    },
    {
     "name": "stdout",
     "output_type": "stream",
     "text": [
      "y\n"
     ]
    },
    {
     "name": "stderr",
     "output_type": "stream",
     "text": [
      "o_name : western washington university\n",
      "address_1 : 516 high street\n",
      "address_2 : room 265\n",
      "city : bellingham\n",
      "state_province : wa\n",
      "postal_code : 98225\n",
      "o_url : http://www.wwu.edu\n",
      "\n",
      "o_name : western washington university\n",
      "address_1 : 516 high street\n",
      "address_2 : \n",
      "city : bellingham\n",
      "state_province : wa\n",
      "postal_code : 98225\n",
      "o_url : http://www.wwu.edu\n",
      "\n",
      "33/10 positive, 233/10 negative\n",
      "Do these records refer to the same thing?\n",
      "(y)es / (n)o / (u)nsure / (f)inished / (p)revious\n"
     ]
    },
    {
     "name": "stdout",
     "output_type": "stream",
     "text": [
      "y\n"
     ]
    },
    {
     "name": "stderr",
     "output_type": "stream",
     "text": [
      "o_name : western washington university\n",
      "address_1 : 516 high street\n",
      "address_2 : \n",
      "city : bellingham\n",
      "state_province : wa\n",
      "postal_code : 98225\n",
      "o_url : http://www.wwu.edu\n",
      "\n",
      "o_name : western washington university\n",
      "address_1 : 516 high street\n",
      "address_2 : room 280\n",
      "city : bellingham\n",
      "state_province : wa\n",
      "postal_code : 98225\n",
      "o_url : http://www.wwu.edu\n",
      "\n",
      "34/10 positive, 233/10 negative\n",
      "Do these records refer to the same thing?\n",
      "(y)es / (n)o / (u)nsure / (f)inished / (p)revious\n"
     ]
    },
    {
     "name": "stdout",
     "output_type": "stream",
     "text": [
      "p\n"
     ]
    },
    {
     "name": "stderr",
     "output_type": "stream",
     "text": [
      "o_name : western washington university\n",
      "address_1 : 516 high street\n",
      "address_2 : room 265\n",
      "city : bellingham\n",
      "state_province : wa\n",
      "postal_code : 98225\n",
      "o_url : http://www.wwu.edu\n",
      "\n",
      "o_name : western washington university\n",
      "address_1 : 516 high street\n",
      "address_2 : \n",
      "city : bellingham\n",
      "state_province : wa\n",
      "postal_code : 98225\n",
      "o_url : http://www.wwu.edu\n",
      "\n",
      "33/10 positive, 233/10 negative\n",
      "Do these records refer to the same thing?\n",
      "(y)es / (n)o / (u)nsure / (f)inished\n"
     ]
    },
    {
     "name": "stdout",
     "output_type": "stream",
     "text": [
      "p\n"
     ]
    },
    {
     "name": "stderr",
     "output_type": "stream",
     "text": [
      "(y)es / (n)o / (u)nsure / (f)inished\n"
     ]
    },
    {
     "name": "stdout",
     "output_type": "stream",
     "text": [
      "n\n"
     ]
    },
    {
     "name": "stderr",
     "output_type": "stream",
     "text": [
      "o_name : western washington university\n",
      "address_1 : 516 high street\n",
      "address_2 : \n",
      "city : bellingham\n",
      "state_province : wa\n",
      "postal_code : 98225\n",
      "o_url : http://www.wwu.edu\n",
      "\n",
      "o_name : western washington university\n",
      "address_1 : 516 high street\n",
      "address_2 : room 280\n",
      "city : bellingham\n",
      "state_province : wa\n",
      "postal_code : 98225\n",
      "o_url : http://www.wwu.edu\n",
      "\n",
      "33/10 positive, 234/10 negative\n",
      "Do these records refer to the same thing?\n",
      "(y)es / (n)o / (u)nsure / (f)inished / (p)revious\n"
     ]
    },
    {
     "name": "stdout",
     "output_type": "stream",
     "text": [
      "n\n"
     ]
    },
    {
     "name": "stderr",
     "output_type": "stream",
     "text": [
      "o_name : western washington university\n",
      "address_1 : 516 high street\n",
      "address_2 : \n",
      "city : bellingham\n",
      "state_province : wa\n",
      "postal_code : 98225\n",
      "o_url : http://www.wwu.edu\n",
      "\n",
      "o_name : western washington university\n",
      "address_1 : 516 high street\n",
      "address_2 : 2nd floor, room 256\n",
      "city : bellingham\n",
      "state_province : wa\n",
      "postal_code : 98225\n",
      "o_url : http://www.wwu.edu\n",
      "\n",
      "33/10 positive, 235/10 negative\n",
      "Do these records refer to the same thing?\n",
      "(y)es / (n)o / (u)nsure / (f)inished / (p)revious\n"
     ]
    },
    {
     "name": "stdout",
     "output_type": "stream",
     "text": [
      "n\n"
     ]
    },
    {
     "name": "stderr",
     "output_type": "stream",
     "text": [
      "o_name : western washington university\n",
      "address_1 : 516 high street\n",
      "address_2 : \n",
      "city : bellingham\n",
      "state_province : wa\n",
      "postal_code : 98225\n",
      "o_url : http://www.wwu.edu\n",
      "\n",
      "o_name : western washington university\n",
      "address_1 : 516 high street\n",
      "address_2 : room 265\n",
      "city : bellingham\n",
      "state_province : wa\n",
      "postal_code : 98225\n",
      "o_url : http://www.wwu.edu\n",
      "\n",
      "33/10 positive, 236/10 negative\n",
      "Do these records refer to the same thing?\n",
      "(y)es / (n)o / (u)nsure / (f)inished / (p)revious\n"
     ]
    },
    {
     "name": "stdout",
     "output_type": "stream",
     "text": [
      "n\n"
     ]
    },
    {
     "name": "stderr",
     "output_type": "stream",
     "text": [
      "o_name : western washington university\n",
      "address_1 : 516 high street\n",
      "address_2 : room 540\n",
      "city : bellingham\n",
      "state_province : wa\n",
      "postal_code : 98225\n",
      "o_url : http://www.wwu.edu\n",
      "\n",
      "o_name : western washington university\n",
      "address_1 : 516 high street\n",
      "address_2 : \n",
      "city : bellingham\n",
      "state_province : wa\n",
      "postal_code : 98225\n",
      "o_url : http://www.wwu.edu\n",
      "\n",
      "33/10 positive, 237/10 negative\n",
      "Do these records refer to the same thing?\n",
      "(y)es / (n)o / (u)nsure / (f)inished / (p)revious\n"
     ]
    },
    {
     "name": "stdout",
     "output_type": "stream",
     "text": [
      "n\n"
     ]
    },
    {
     "name": "stderr",
     "output_type": "stream",
     "text": [
      "o_name : western washington university\n",
      "address_1 : 516 high street\n",
      "address_2 : \n",
      "city : bellingham\n",
      "state_province : wa\n",
      "postal_code : 98225\n",
      "o_url : http://www.wwu.edu\n",
      "\n",
      "o_name : western washington university\n",
      "address_1 : 516 high street\n",
      "address_2 : \n",
      "city : bellingham\n",
      "state_province : wa\n",
      "postal_code : 98225\n",
      "o_url : http://www.wwu.edu\n",
      "\n",
      "33/10 positive, 238/10 negative\n",
      "Do these records refer to the same thing?\n",
      "(y)es / (n)o / (u)nsure / (f)inished / (p)revious\n"
     ]
    },
    {
     "name": "stdout",
     "output_type": "stream",
     "text": [
      "y\n"
     ]
    },
    {
     "name": "stderr",
     "output_type": "stream",
     "text": [
      "o_name : western washington university\n",
      "address_1 : 516 high street\n",
      "address_2 : room 280\n",
      "city : bellingham\n",
      "state_province : wa\n",
      "postal_code : 98225\n",
      "o_url : http://www.wwu.edu\n",
      "\n",
      "o_name : western washington university\n",
      "address_1 : 516 high street\n",
      "address_2 : \n",
      "city : bellingham\n",
      "state_province : wa\n",
      "postal_code : 98225\n",
      "o_url : http://www.wwu.edu\n",
      "\n",
      "34/10 positive, 238/10 negative\n",
      "Do these records refer to the same thing?\n",
      "(y)es / (n)o / (u)nsure / (f)inished / (p)revious\n"
     ]
    },
    {
     "name": "stdout",
     "output_type": "stream",
     "text": [
      "n\n"
     ]
    },
    {
     "name": "stderr",
     "output_type": "stream",
     "text": [
      "o_name : western washington university\n",
      "address_1 : 516 high street\n",
      "address_2 : 2nd floor, room 256\n",
      "city : bellingham\n",
      "state_province : wa\n",
      "postal_code : 98225\n",
      "o_url : http://www.wwu.edu\n",
      "\n",
      "o_name : western washington university\n",
      "address_1 : 516 high street\n",
      "address_2 : \n",
      "city : bellingham\n",
      "state_province : wa\n",
      "postal_code : 98225\n",
      "o_url : http://www.wwu.edu\n",
      "\n",
      "34/10 positive, 239/10 negative\n",
      "Do these records refer to the same thing?\n",
      "(y)es / (n)o / (u)nsure / (f)inished / (p)revious\n"
     ]
    },
    {
     "name": "stdout",
     "output_type": "stream",
     "text": [
      "n\n"
     ]
    },
    {
     "name": "stderr",
     "output_type": "stream",
     "text": [
      "o_name : laurel church\n",
      "address_1 : 162 w laurel rd\n",
      "address_2 : \n",
      "city : bellingham\n",
      "state_province : wa\n",
      "postal_code : 98226\n",
      "o_url : http://www.laurelchurch.us\n",
      "\n",
      "o_name : laurel community baptist church\n",
      "address_1 : 162 w laurel rd\n",
      "address_2 : None\n",
      "city : bellingham\n",
      "state_province : wa\n",
      "postal_code : 98226\n",
      "o_url : \n",
      "\n",
      "34/10 positive, 240/10 negative\n",
      "Do these records refer to the same thing?\n",
      "(y)es / (n)o / (u)nsure / (f)inished / (p)revious\n"
     ]
    },
    {
     "name": "stdout",
     "output_type": "stream",
     "text": [
      "y\n"
     ]
    },
    {
     "name": "stderr",
     "output_type": "stream",
     "text": [
      "o_name : north sound cooling centers\n",
      "address_1 : 1117 12th street\n",
      "address_2 : \n",
      "city : bellingham\n",
      "state_province : wa\n",
      "postal_code : 98225\n",
      "o_url : \n",
      "\n",
      "o_name : north sound cooling centers\n",
      "address_1 : 216 4th street\n",
      "address_2 : \n",
      "city : lynden\n",
      "state_province : wa\n",
      "postal_code : 98264\n",
      "o_url : \n",
      "\n",
      "35/10 positive, 240/10 negative\n",
      "Do these records refer to the same thing?\n",
      "(y)es / (n)o / (u)nsure / (f)inished / (p)revious\n"
     ]
    },
    {
     "name": "stdout",
     "output_type": "stream",
     "text": [
      "n\n"
     ]
    },
    {
     "name": "stderr",
     "output_type": "stream",
     "text": [
      "o_name : north sound cooling centers\n",
      "address_1 : 461 2nd street\n",
      "address_2 : \n",
      "city : sumas\n",
      "state_province : wa\n",
      "postal_code : 98295\n",
      "o_url : \n",
      "\n",
      "o_name : north sound cooling centers\n",
      "address_1 : 216 4th street\n",
      "address_2 : \n",
      "city : lynden\n",
      "state_province : wa\n",
      "postal_code : 98264\n",
      "o_url : \n",
      "\n",
      "35/10 positive, 241/10 negative\n",
      "Do these records refer to the same thing?\n",
      "(y)es / (n)o / (u)nsure / (f)inished / (p)revious\n"
     ]
    },
    {
     "name": "stdout",
     "output_type": "stream",
     "text": [
      "n\n"
     ]
    },
    {
     "name": "stderr",
     "output_type": "stream",
     "text": [
      "o_name : lake whatcom residential and treatment center\n",
      "address_1 : 3600 meridian street\n",
      "address_2 : \n",
      "city : bellingham\n",
      "state_province : wa\n",
      "postal_code : 98225\n",
      "o_url : http://lwrtc.org\n",
      "\n",
      "o_name : lake whatcom residential treatment center\n",
      "address_1 : 3600 meridian st\n",
      "address_2 : None\n",
      "city : bellingham\n",
      "state_province : wa\n",
      "postal_code : 98225\n",
      "o_url : https://lwrtc.org/services/medical-services/\n",
      "\n",
      "35/10 positive, 242/10 negative\n",
      "Do these records refer to the same thing?\n",
      "(y)es / (n)o / (u)nsure / (f)inished / (p)revious\n"
     ]
    },
    {
     "name": "stdout",
     "output_type": "stream",
     "text": [
      "y\n"
     ]
    },
    {
     "name": "stderr",
     "output_type": "stream",
     "text": [
      "o_name : washington state department of children, youth families child welfare system\n",
      "address_1 : 1720 ellis st., suite 100\n",
      "address_2 : \n",
      "city : bellingham\n",
      "state_province : wa\n",
      "postal_code : 98225\n",
      "o_url : https://www.dcyf.wa.gov\n",
      "\n",
      "o_name : usda\n",
      "address_1 : 1701 ellis street\n",
      "address_2 : suite 221\n",
      "city : bellingham\n",
      "state_province : wa\n",
      "postal_code : 98225\n",
      "o_url : \n",
      "\n",
      "36/10 positive, 242/10 negative\n",
      "Do these records refer to the same thing?\n",
      "(y)es / (n)o / (u)nsure / (f)inished / (p)revious\n"
     ]
    },
    {
     "name": "stdout",
     "output_type": "stream",
     "text": [
      "n\n"
     ]
    },
    {
     "name": "stderr",
     "output_type": "stream",
     "text": [
      "o_name : north sound cooling centers\n",
      "address_1 : 210 central avenue\n",
      "address_2 : \n",
      "city : bellingham\n",
      "state_province : wa\n",
      "postal_code : 98225\n",
      "o_url : \n",
      "\n",
      "o_name : north sound cooling centers\n",
      "address_1 : 1530 cornwall avenue\n",
      "address_2 : \n",
      "city : bellingham\n",
      "state_province : wa\n",
      "postal_code : 98225\n",
      "o_url : \n",
      "\n",
      "36/10 positive, 243/10 negative\n",
      "Do these records refer to the same thing?\n",
      "(y)es / (n)o / (u)nsure / (f)inished / (p)revious\n"
     ]
    },
    {
     "name": "stdout",
     "output_type": "stream",
     "text": [
      "n\n"
     ]
    },
    {
     "name": "stderr",
     "output_type": "stream",
     "text": [
      "o_name : salvation army - bellingham\n",
      "address_1 : 2912 northwest avenue\n",
      "address_2 : \n",
      "city : bellingham\n",
      "state_province : wa\n",
      "postal_code : 98225\n",
      "o_url : https://bellingham.salvationarmy.org\n",
      "\n",
      "o_name : salvation army (bellingham)\n",
      "address_1 : 2912 northwest ave\n",
      "address_2 : None\n",
      "city : bellingham\n",
      "state_province : wa\n",
      "postal_code : 98225\n",
      "o_url : \n",
      "\n",
      "36/10 positive, 244/10 negative\n",
      "Do these records refer to the same thing?\n",
      "(y)es / (n)o / (u)nsure / (f)inished / (p)revious\n"
     ]
    },
    {
     "name": "stdout",
     "output_type": "stream",
     "text": [
      "y\n"
     ]
    },
    {
     "name": "stderr",
     "output_type": "stream",
     "text": [
      "o_name : northwest regional council\n",
      "address_1 : 600 lakeway drive\n",
      "address_2 : suite 100\n",
      "city : bellingham\n",
      "state_province : wa\n",
      "postal_code : 98225\n",
      "o_url : http://www.nwrcwa.org\n",
      "\n",
      "o_name : northwest regional council\n",
      "address_1 : 600 lakeway dr,suite 100\n",
      "address_2 : None\n",
      "city : bellingham\n",
      "state_province : wa\n",
      "postal_code : 98225\n",
      "o_url : \n",
      "\n",
      "37/10 positive, 244/10 negative\n",
      "Do these records refer to the same thing?\n",
      "(y)es / (n)o / (u)nsure / (f)inished / (p)revious\n"
     ]
    },
    {
     "name": "stdout",
     "output_type": "stream",
     "text": [
      "y\n"
     ]
    },
    {
     "name": "stderr",
     "output_type": "stream",
     "text": [
      "o_name : lummi tribal health center\n",
      "address_1 : 2592 kwina rd\n",
      "address_2 : None\n",
      "city : bellingham\n",
      "state_province : wa\n",
      "postal_code : 98226\n",
      "o_url : https://www.lummi-nsn.gov/website.phppageid433\n",
      "\n",
      "o_name : lummi care\n",
      "address_1 : 2694 kwina rd\n",
      "address_2 : None\n",
      "city : bellingham\n",
      "state_province : wa\n",
      "postal_code : 98226\n",
      "o_url : https://www.lummi-nsn.gov/website.phppageid671\n",
      "\n",
      "38/10 positive, 244/10 negative\n",
      "Do these records refer to the same thing?\n",
      "(y)es / (n)o / (u)nsure / (f)inished / (p)revious\n"
     ]
    },
    {
     "name": "stdout",
     "output_type": "stream",
     "text": [
      "n\n"
     ]
    },
    {
     "name": "stderr",
     "output_type": "stream",
     "text": [
      "o_name : north sound cooling centers\n",
      "address_1 : 1117 12th street\n",
      "address_2 : \n",
      "city : bellingham\n",
      "state_province : wa\n",
      "postal_code : 98225\n",
      "o_url : \n",
      "\n",
      "o_name : north sound cooling centers\n",
      "address_1 : 2125 main street\n",
      "address_2 : \n",
      "city : ferndale\n",
      "state_province : wa\n",
      "postal_code : 98248\n",
      "o_url : \n",
      "\n",
      "38/10 positive, 245/10 negative\n",
      "Do these records refer to the same thing?\n",
      "(y)es / (n)o / (u)nsure / (f)inished / (p)revious\n"
     ]
    },
    {
     "name": "stdout",
     "output_type": "stream",
     "text": [
      "n\n"
     ]
    },
    {
     "name": "stderr",
     "output_type": "stream",
     "text": [
      "o_name : foothills food bank\n",
      "address_1 : 8251 kendall road\n",
      "address_2 : \n",
      "city : sumas\n",
      "state_province : wa\n",
      "postal_code : 98295\n",
      "o_url : http://www.foothillsfoodbank.org\n",
      "\n",
      "o_name : foothills food bank (saint peters church)\n",
      "address_1 : east whatcom regional resource center,8255 kendal road\n",
      "address_2 : None\n",
      "city : maple falls\n",
      "state_province : wa\n",
      "postal_code : 98266\n",
      "o_url : \n",
      "\n",
      "38/10 positive, 246/10 negative\n",
      "Do these records refer to the same thing?\n",
      "(y)es / (n)o / (u)nsure / (f)inished / (p)revious\n"
     ]
    },
    {
     "name": "stdout",
     "output_type": "stream",
     "text": [
      "n\n"
     ]
    },
    {
     "name": "stderr",
     "output_type": "stream",
     "text": [
      "o_name : sea mar community health centers\n",
      "address_1 : 3350 airport drive\n",
      "address_2 : \n",
      "city : bellingham\n",
      "state_province : wa\n",
      "postal_code : 98226\n",
      "o_url : https://www.seamar.org/\n",
      "\n",
      "o_name : sea mar community health center (bellingham behavioral)\n",
      "address_1 : 3350 airport drive\n",
      "address_2 : None\n",
      "city : bellingham\n",
      "state_province : wa\n",
      "postal_code : 98226\n",
      "o_url : https://www.seamar.org/whatcom-bh-bellingham.html\n",
      "\n",
      "38/10 positive, 247/10 negative\n",
      "Do these records refer to the same thing?\n",
      "(y)es / (n)o / (u)nsure / (f)inished / (p)revious\n"
     ]
    },
    {
     "name": "stdout",
     "output_type": "stream",
     "text": [
      "y\n"
     ]
    },
    {
     "name": "stderr",
     "output_type": "stream",
     "text": [
      "o_name : hope house\n",
      "address_1 : 207 kentucky street\n",
      "address_2 : \n",
      "city : bellingham\n",
      "state_province : wa\n",
      "postal_code : 98225\n",
      "o_url : https://www.assumption.org/hope-house.html\n",
      "\n",
      "o_name : hope house\n",
      "address_1 : 207 kentucky st\n",
      "address_2 : None\n",
      "city : bellingham\n",
      "state_province : wa\n",
      "postal_code : 98226\n",
      "o_url : \n",
      "\n",
      "39/10 positive, 247/10 negative\n",
      "Do these records refer to the same thing?\n",
      "(y)es / (n)o / (u)nsure / (f)inished / (p)revious\n"
     ]
    },
    {
     "name": "stdout",
     "output_type": "stream",
     "text": [
      "y\n"
     ]
    },
    {
     "name": "stderr",
     "output_type": "stream",
     "text": [
      "o_name : bellingham public library\n",
      "address_1 : 210 central avenue\n",
      "address_2 : \n",
      "city : bellingham\n",
      "state_province : wa\n",
      "postal_code : 98225\n",
      "o_url : http://www.bellinghampubliclibrary.org\n",
      "\n",
      "o_name : bellingham public library\n",
      "address_1 : 210 central ave\n",
      "address_2 : None\n",
      "city : bellingham\n",
      "state_province : wa\n",
      "postal_code : 98227\n",
      "o_url : \n",
      "\n",
      "40/10 positive, 247/10 negative\n",
      "Do these records refer to the same thing?\n",
      "(y)es / (n)o / (u)nsure / (f)inished / (p)revious\n"
     ]
    },
    {
     "name": "stdout",
     "output_type": "stream",
     "text": [
      "y\n"
     ]
    },
    {
     "name": "stderr",
     "output_type": "stream",
     "text": [
      "o_name : usda\n",
      "address_1 : 1701 ellis street\n",
      "address_2 : suite 221\n",
      "city : bellingham\n",
      "state_province : wa\n",
      "postal_code : 98225\n",
      "o_url : \n",
      "\n",
      "o_name : planned parenthood (bellingham)\n",
      "address_1 : 1530 ellis st\n",
      "address_2 : None\n",
      "city : bellingham\n",
      "state_province : wa\n",
      "postal_code : 98225\n",
      "o_url : https://www.plannedparenthood.org/health-center/washington/bellingham/98225/bellingham-health-center-2454-91780\n",
      "\n",
      "41/10 positive, 247/10 negative\n",
      "Do these records refer to the same thing?\n",
      "(y)es / (n)o / (u)nsure / (f)inished / (p)revious\n"
     ]
    },
    {
     "name": "stdout",
     "output_type": "stream",
     "text": [
      "n\n"
     ]
    },
    {
     "name": "stderr",
     "output_type": "stream",
     "text": [
      "o_name : sea mar community health centers\n",
      "address_1 : 6884 hannegan road\n",
      "address_2 : \n",
      "city : everson\n",
      "state_province : wa\n",
      "postal_code : 98247\n",
      "o_url : https://www.seamar.org/\n",
      "\n",
      "o_name : sea mar community health center (everson)\n",
      "address_1 : 6884 hannegan road\n",
      "address_2 : None\n",
      "city : everson\n",
      "state_province : wa\n",
      "postal_code : 98247\n",
      "o_url : https://www.seamar.org/whatcom-medical-everson.html\n",
      "\n",
      "41/10 positive, 248/10 negative\n",
      "Do these records refer to the same thing?\n",
      "(y)es / (n)o / (u)nsure / (f)inished / (p)revious\n"
     ]
    },
    {
     "name": "stdout",
     "output_type": "stream",
     "text": [
      "y\n"
     ]
    },
    {
     "name": "stderr",
     "output_type": "stream",
     "text": [
      "o_name : north sound cooling centers\n",
      "address_1 : 461 2nd street\n",
      "address_2 : \n",
      "city : sumas\n",
      "state_province : wa\n",
      "postal_code : 98295\n",
      "o_url : \n",
      "\n",
      "o_name : north sound cooling centers\n",
      "address_1 : 401 grover street\n",
      "address_2 : \n",
      "city : lynden\n",
      "state_province : wa\n",
      "postal_code : 98264\n",
      "o_url : \n",
      "\n",
      "42/10 positive, 248/10 negative\n",
      "Do these records refer to the same thing?\n",
      "(y)es / (n)o / (u)nsure / (f)inished / (p)revious\n"
     ]
    },
    {
     "name": "stdout",
     "output_type": "stream",
     "text": [
      "n\n"
     ]
    },
    {
     "name": "stderr",
     "output_type": "stream",
     "text": [
      "o_name : law advocates\n",
      "address_1 : 1415 commercial street\n",
      "address_2 : \n",
      "city : bellingham\n",
      "state_province : wa\n",
      "postal_code : 98225\n",
      "o_url : http://www.lawadvocates.org\n",
      "\n",
      "o_name : domestic violence and sexual assault services of whatcom county\n",
      "address_1 : 1407 commercial street\n",
      "address_2 : \n",
      "city : bellingham\n",
      "state_province : wa\n",
      "postal_code : 98225\n",
      "o_url : http://www.dvsas.org\n",
      "\n",
      "42/10 positive, 249/10 negative\n",
      "Do these records refer to the same thing?\n",
      "(y)es / (n)o / (u)nsure / (f)inished / (p)revious\n"
     ]
    },
    {
     "name": "stdout",
     "output_type": "stream",
     "text": [
      "n\n"
     ]
    },
    {
     "name": "stderr",
     "output_type": "stream",
     "text": [
      "o_name : whatcom county courts\n",
      "address_1 : 311 grand avenue\n",
      "address_2 : suite 501\n",
      "city : bellingham\n",
      "state_province : wa\n",
      "postal_code : 98225\n",
      "o_url : http://www.courts.wa.gov/court_dir/orgs/296.html\n",
      "\n",
      "o_name : whatcom county\n",
      "address_1 : 311 grand avenue\n",
      "address_2 : \n",
      "city : bellingham\n",
      "state_province : wa\n",
      "postal_code : 98225\n",
      "o_url : http://www.co.whatcom.wa.us\n",
      "\n",
      "42/10 positive, 250/10 negative\n",
      "Do these records refer to the same thing?\n",
      "(y)es / (n)o / (u)nsure / (f)inished / (p)revious\n"
     ]
    },
    {
     "name": "stdout",
     "output_type": "stream",
     "text": [
      "n\n"
     ]
    },
    {
     "name": "stderr",
     "output_type": "stream",
     "text": [
      "o_name : usda\n",
      "address_1 : 1220 north forest street\n",
      "address_2 : \n",
      "city : bellingham\n",
      "state_province : wa\n",
      "postal_code : 98225\n",
      "o_url : \n",
      "\n",
      "o_name : usda\n",
      "address_1 : 1701 ellis street\n",
      "address_2 : suite 221\n",
      "city : bellingham\n",
      "state_province : wa\n",
      "postal_code : 98225\n",
      "o_url : \n",
      "\n",
      "42/10 positive, 251/10 negative\n",
      "Do these records refer to the same thing?\n",
      "(y)es / (n)o / (u)nsure / (f)inished / (p)revious\n"
     ]
    },
    {
     "name": "stdout",
     "output_type": "stream",
     "text": [
      "n\n"
     ]
    },
    {
     "name": "stderr",
     "output_type": "stream",
     "text": [
      "o_name : lydia place\n",
      "address_1 : 1701 gladstone street\n",
      "address_2 : \n",
      "city : bellingham\n",
      "state_province : wa\n",
      "postal_code : 98229\n",
      "o_url : http://www.lydiaplace.org\n",
      "\n",
      "o_name : lydia place\n",
      "address_1 : 1701 gladstone street\n",
      "address_2 : None\n",
      "city : bellingham\n",
      "state_province : wa\n",
      "postal_code : 98229\n",
      "o_url : https://lydiaplace.org/\n",
      "\n",
      "42/10 positive, 252/10 negative\n",
      "Do these records refer to the same thing?\n",
      "(y)es / (n)o / (u)nsure / (f)inished / (p)revious\n"
     ]
    },
    {
     "name": "stdout",
     "output_type": "stream",
     "text": [
      "y\n"
     ]
    },
    {
     "name": "stderr",
     "output_type": "stream",
     "text": [
      "o_name : arc of whatcom county\n",
      "address_1 : 2602 mcleod road\n",
      "address_2 : \n",
      "city : bellingham\n",
      "state_province : wa\n",
      "postal_code : 98225\n",
      "o_url : http://www.arcwhatcom.org\n",
      "\n",
      "o_name : arc of whatcom county\n",
      "address_1 : 2602 mcleod rd\n",
      "address_2 : None\n",
      "city : bellingham\n",
      "state_province : wa\n",
      "postal_code : 98225\n",
      "o_url : \n",
      "\n",
      "43/10 positive, 252/10 negative\n",
      "Do these records refer to the same thing?\n",
      "(y)es / (n)o / (u)nsure / (f)inished / (p)revious\n"
     ]
    },
    {
     "name": "stdout",
     "output_type": "stream",
     "text": [
      "y\n"
     ]
    },
    {
     "name": "stderr",
     "output_type": "stream",
     "text": [
      "o_name : satellite food bank at christ the king community church\n",
      "address_1 : 4173 meridian st\n",
      "address_2 : None\n",
      "city : bellingham\n",
      "state_province : wa\n",
      "postal_code : 98226\n",
      "o_url : \n",
      "\n",
      "o_name : sendan center\n",
      "address_1 : 4201 meridian st,suite\n",
      "address_2 : None\n",
      "city : bellingham\n",
      "state_province : wa\n",
      "postal_code : 98226\n",
      "o_url : \n",
      "\n",
      "44/10 positive, 252/10 negative\n",
      "Do these records refer to the same thing?\n",
      "(y)es / (n)o / (u)nsure / (f)inished / (p)revious\n"
     ]
    },
    {
     "name": "stdout",
     "output_type": "stream",
     "text": [
      "n\n"
     ]
    },
    {
     "name": "stderr",
     "output_type": "stream",
     "text": [
      "o_name : lifeline connections\n",
      "address_1 : 4120 meridian street\n",
      "address_2 : 220\n",
      "city : bellingham\n",
      "state_province : wa\n",
      "postal_code : 98226\n",
      "o_url : https://lifelineconnections.org/\n",
      "\n",
      "o_name : satellite food bank at christ the king community church\n",
      "address_1 : 4173 meridian st\n",
      "address_2 : None\n",
      "city : bellingham\n",
      "state_province : wa\n",
      "postal_code : 98226\n",
      "o_url : \n",
      "\n",
      "44/10 positive, 253/10 negative\n",
      "Do these records refer to the same thing?\n",
      "(y)es / (n)o / (u)nsure / (f)inished / (p)revious\n"
     ]
    },
    {
     "name": "stdout",
     "output_type": "stream",
     "text": [
      "n\n"
     ]
    },
    {
     "name": "stderr",
     "output_type": "stream",
     "text": [
      "o_name : sea mar community health centers\n",
      "address_1 : 1764 iowa street\n",
      "address_2 : \n",
      "city : bellingham\n",
      "state_province : wa\n",
      "postal_code : 98229\n",
      "o_url : https://www.seamar.org/\n",
      "\n",
      "o_name : sea mar community health center (downtown bellingham wic)\n",
      "address_1 : 1764 iowa st\n",
      "address_2 : None\n",
      "city : bellingham\n",
      "state_province : wa\n",
      "postal_code : 98229\n",
      "o_url : \n",
      "\n",
      "44/10 positive, 254/10 negative\n",
      "Do these records refer to the same thing?\n",
      "(y)es / (n)o / (u)nsure / (f)inished / (p)revious\n"
     ]
    },
    {
     "name": "stdout",
     "output_type": "stream",
     "text": [
      "n\n"
     ]
    },
    {
     "name": "stderr",
     "output_type": "stream",
     "text": [
      "o_name : bellingham food bank\n",
      "address_1 : 2020 cornwall avenue\n",
      "address_2 : \n",
      "city : bellingham\n",
      "state_province : wa\n",
      "postal_code : 98225\n",
      "o_url : http://bellinghamfoodbank.org\n",
      "\n",
      "o_name : bellingham community meal program\n",
      "address_1 : 2116 cornwall avenue\n",
      "address_2 : \n",
      "city : bellingham\n",
      "state_province : wa\n",
      "postal_code : 98225\n",
      "o_url : https://www.assumption.org\n",
      "\n",
      "44/10 positive, 255/10 negative\n",
      "Do these records refer to the same thing?\n",
      "(y)es / (n)o / (u)nsure / (f)inished / (p)revious\n"
     ]
    },
    {
     "name": "stdout",
     "output_type": "stream",
     "text": [
      "n\n"
     ]
    },
    {
     "name": "stderr",
     "output_type": "stream",
     "text": [
      "o_name : ferndale community service cooperative\n",
      "address_1 : 5694 2nd avenue\n",
      "address_2 : \n",
      "city : ferndale\n",
      "state_province : wa\n",
      "postal_code : 98248\n",
      "o_url : http://www.ferndalecsc.org\n",
      "\n",
      "o_name : ferndale community service cooperative - resource center\n",
      "address_1 : 5694 2nd ave\n",
      "address_2 : None\n",
      "city : ferndale\n",
      "state_province : wa\n",
      "postal_code : 98248\n",
      "o_url : \n",
      "\n",
      "44/10 positive, 256/10 negative\n",
      "Do these records refer to the same thing?\n",
      "(y)es / (n)o / (u)nsure / (f)inished / (p)revious\n"
     ]
    },
    {
     "name": "stdout",
     "output_type": "stream",
     "text": [
      "n\n"
     ]
    },
    {
     "name": "stderr",
     "output_type": "stream",
     "text": [
      "o_name : re store\n",
      "address_1 : 2309 meridian st\n",
      "address_2 : \n",
      "city : bellingham\n",
      "state_province : wa\n",
      "postal_code : 98225\n",
      "o_url : http://www.re-store.org\n",
      "\n",
      "o_name : lake whatcom residential and treatment center\n",
      "address_1 : 3600 meridian street\n",
      "address_2 : \n",
      "city : bellingham\n",
      "state_province : wa\n",
      "postal_code : 98225\n",
      "o_url : http://lwrtc.org\n",
      "\n",
      "44/10 positive, 257/10 negative\n",
      "Do these records refer to the same thing?\n",
      "(y)es / (n)o / (u)nsure / (f)inished / (p)revious\n"
     ]
    },
    {
     "name": "stdout",
     "output_type": "stream",
     "text": [
      "n\n"
     ]
    },
    {
     "name": "stderr",
     "output_type": "stream",
     "text": [
      "o_name : ferndale food bank\n",
      "address_1 : 1671 main street\n",
      "address_2 : wta transfer station property\n",
      "city : ferndale\n",
      "state_province : wa\n",
      "postal_code : 98248\n",
      "o_url : http://www.ferndalefoodbank.org\n",
      "\n",
      "o_name : ferndale food bank\n",
      "address_1 : 1671 main st\n",
      "address_2 : None\n",
      "city : ferndale\n",
      "state_province : wa\n",
      "postal_code : 98248\n",
      "o_url : \n",
      "\n",
      "44/10 positive, 258/10 negative\n",
      "Do these records refer to the same thing?\n",
      "(y)es / (n)o / (u)nsure / (f)inished / (p)revious\n"
     ]
    },
    {
     "name": "stdout",
     "output_type": "stream",
     "text": [
      "n\n"
     ]
    },
    {
     "name": "stderr",
     "output_type": "stream",
     "text": [
      "o_name : bellingham technical college\n",
      "address_1 : 3028 lindbergh avenue\n",
      "address_2 : \n",
      "city : bellingham\n",
      "state_province : wa\n",
      "postal_code : 98225\n",
      "o_url : https://www.btc.edu\n",
      "\n",
      "o_name : bellingham technical college\n",
      "address_1 : 3028 lindbergh ave\n",
      "address_2 : None\n",
      "city : bellingham\n",
      "state_province : wa\n",
      "postal_code : 98225\n",
      "o_url : \n",
      "\n",
      "44/10 positive, 259/10 negative\n",
      "Do these records refer to the same thing?\n",
      "(y)es / (n)o / (u)nsure / (f)inished / (p)revious\n"
     ]
    },
    {
     "name": "stdout",
     "output_type": "stream",
     "text": [
      "p\n"
     ]
    },
    {
     "name": "stderr",
     "output_type": "stream",
     "text": [
      "o_name : ferndale food bank\n",
      "address_1 : 1671 main street\n",
      "address_2 : wta transfer station property\n",
      "city : ferndale\n",
      "state_province : wa\n",
      "postal_code : 98248\n",
      "o_url : http://www.ferndalefoodbank.org\n",
      "\n",
      "o_name : ferndale food bank\n",
      "address_1 : 1671 main st\n",
      "address_2 : None\n",
      "city : ferndale\n",
      "state_province : wa\n",
      "postal_code : 98248\n",
      "o_url : \n",
      "\n",
      "44/10 positive, 258/10 negative\n",
      "Do these records refer to the same thing?\n",
      "(y)es / (n)o / (u)nsure / (f)inished\n"
     ]
    },
    {
     "name": "stdout",
     "output_type": "stream",
     "text": [
      "y\n"
     ]
    },
    {
     "name": "stderr",
     "output_type": "stream",
     "text": [
      "o_name : bellingham technical college\n",
      "address_1 : 3028 lindbergh avenue\n",
      "address_2 : \n",
      "city : bellingham\n",
      "state_province : wa\n",
      "postal_code : 98225\n",
      "o_url : https://www.btc.edu\n",
      "\n",
      "o_name : bellingham technical college\n",
      "address_1 : 3028 lindbergh ave\n",
      "address_2 : None\n",
      "city : bellingham\n",
      "state_province : wa\n",
      "postal_code : 98225\n",
      "o_url : \n",
      "\n",
      "45/10 positive, 258/10 negative\n",
      "Do these records refer to the same thing?\n",
      "(y)es / (n)o / (u)nsure / (f)inished / (p)revious\n"
     ]
    },
    {
     "name": "stdout",
     "output_type": "stream",
     "text": [
      "y\n"
     ]
    },
    {
     "name": "stderr",
     "output_type": "stream",
     "text": [
      "o_name : washington state department of children, youth families child welfare system\n",
      "address_1 : 1720 ellis st., suite 100\n",
      "address_2 : \n",
      "city : bellingham\n",
      "state_province : wa\n",
      "postal_code : 98225\n",
      "o_url : https://www.dcyf.wa.gov\n",
      "\n",
      "o_name : planned parenthood\n",
      "address_1 : 1530 ellis st.\n",
      "address_2 : \n",
      "city : bellingham\n",
      "state_province : wa\n",
      "postal_code : 98225\n",
      "o_url : http://ppgnhi.org\n",
      "\n",
      "46/10 positive, 258/10 negative\n",
      "Do these records refer to the same thing?\n",
      "(y)es / (n)o / (u)nsure / (f)inished / (p)revious\n"
     ]
    },
    {
     "name": "stdout",
     "output_type": "stream",
     "text": [
      "n\n"
     ]
    },
    {
     "name": "stderr",
     "output_type": "stream",
     "text": [
      "o_name : north sound cooling centers\n",
      "address_1 : 1117 12th street\n",
      "address_2 : \n",
      "city : bellingham\n",
      "state_province : wa\n",
      "postal_code : 98225\n",
      "o_url : \n",
      "\n",
      "o_name : north sound cooling centers\n",
      "address_1 : 461 2nd street\n",
      "address_2 : \n",
      "city : sumas\n",
      "state_province : wa\n",
      "postal_code : 98295\n",
      "o_url : \n",
      "\n",
      "46/10 positive, 259/10 negative\n",
      "Do these records refer to the same thing?\n",
      "(y)es / (n)o / (u)nsure / (f)inished / (p)revious\n"
     ]
    },
    {
     "name": "stdout",
     "output_type": "stream",
     "text": [
      "n\n"
     ]
    },
    {
     "name": "stderr",
     "output_type": "stream",
     "text": [
      "o_name : north sound cooling centers\n",
      "address_1 : 216 4th street\n",
      "address_2 : \n",
      "city : lynden\n",
      "state_province : wa\n",
      "postal_code : 98264\n",
      "o_url : \n",
      "\n",
      "o_name : north sound cooling centers\n",
      "address_1 : 2125 main street\n",
      "address_2 : \n",
      "city : ferndale\n",
      "state_province : wa\n",
      "postal_code : 98248\n",
      "o_url : \n",
      "\n",
      "46/10 positive, 260/10 negative\n",
      "Do these records refer to the same thing?\n",
      "(y)es / (n)o / (u)nsure / (f)inished / (p)revious\n"
     ]
    },
    {
     "name": "stdout",
     "output_type": "stream",
     "text": [
      "n\n"
     ]
    },
    {
     "name": "stderr",
     "output_type": "stream",
     "text": [
      "o_name : re store\n",
      "address_1 : 2309 meridian st\n",
      "address_2 : \n",
      "city : bellingham\n",
      "state_province : wa\n",
      "postal_code : 98225\n",
      "o_url : http://www.re-store.org\n",
      "\n",
      "o_name : lake whatcom residential treatment center\n",
      "address_1 : 3600 meridian st\n",
      "address_2 : None\n",
      "city : bellingham\n",
      "state_province : wa\n",
      "postal_code : 98225\n",
      "o_url : https://lwrtc.org/services/medical-services/\n",
      "\n",
      "46/10 positive, 261/10 negative\n",
      "Do these records refer to the same thing?\n",
      "(y)es / (n)o / (u)nsure / (f)inished / (p)revious\n"
     ]
    },
    {
     "name": "stdout",
     "output_type": "stream",
     "text": [
      "n\n"
     ]
    },
    {
     "name": "stderr",
     "output_type": "stream",
     "text": [
      "o_name : bellingham food bank\n",
      "address_1 : 1824 ellis street\n",
      "address_2 : \n",
      "city : bellingham\n",
      "state_province : wa\n",
      "postal_code : 98225\n",
      "o_url : http://bellinghamfoodbank.org\n",
      "\n",
      "o_name : usda\n",
      "address_1 : 1701 ellis street\n",
      "address_2 : suite 221\n",
      "city : bellingham\n",
      "state_province : wa\n",
      "postal_code : 98225\n",
      "o_url : \n",
      "\n",
      "46/10 positive, 262/10 negative\n",
      "Do these records refer to the same thing?\n",
      "(y)es / (n)o / (u)nsure / (f)inished / (p)revious\n"
     ]
    },
    {
     "name": "stdout",
     "output_type": "stream",
     "text": [
      "n\n"
     ]
    },
    {
     "name": "stderr",
     "output_type": "stream",
     "text": [
      "o_name : whatcom county health department\n",
      "address_1 : 1500 north state street\n",
      "address_2 : \n",
      "city : bellingham\n",
      "state_province : wa\n",
      "postal_code : 98225\n",
      "o_url : http://www.whatcomcounty.us/360/health-department\n",
      "\n",
      "o_name : whatcom family ymca\n",
      "address_1 : 1256 north state street\n",
      "address_2 : \n",
      "city : bellingham\n",
      "state_province : wa\n",
      "postal_code : 98225\n",
      "o_url : http://whatcomymca.org\n",
      "\n",
      "46/10 positive, 263/10 negative\n",
      "Do these records refer to the same thing?\n",
      "(y)es / (n)o / (u)nsure / (f)inished / (p)revious\n"
     ]
    },
    {
     "name": "stdout",
     "output_type": "stream",
     "text": [
      "n\n"
     ]
    },
    {
     "name": "stderr",
     "output_type": "stream",
     "text": [
      "o_name : whatcom county pregnancy clinic\n",
      "address_1 : 1310 north state street\n",
      "address_2 : \n",
      "city : bellingham\n",
      "state_province : wa\n",
      "postal_code : 98225\n",
      "o_url : http://www.whatcomclinic.com\n",
      "\n",
      "o_name : whatcom family ymca\n",
      "address_1 : 1256 north state street\n",
      "address_2 : \n",
      "city : bellingham\n",
      "state_province : wa\n",
      "postal_code : 98225\n",
      "o_url : http://whatcomymca.org\n",
      "\n",
      "46/10 positive, 264/10 negative\n",
      "Do these records refer to the same thing?\n",
      "(y)es / (n)o / (u)nsure / (f)inished / (p)revious\n"
     ]
    },
    {
     "name": "stdout",
     "output_type": "stream",
     "text": [
      "n\n"
     ]
    },
    {
     "name": "stderr",
     "output_type": "stream",
     "text": [
      "o_name : washington state department of children, youth families child welfare system\n",
      "address_1 : 1720 ellis st., suite 100\n",
      "address_2 : \n",
      "city : bellingham\n",
      "state_province : wa\n",
      "postal_code : 98225\n",
      "o_url : https://www.dcyf.wa.gov\n",
      "\n",
      "o_name : bellingham food bank\n",
      "address_1 : 1824 ellis st\n",
      "address_2 : None\n",
      "city : bellingham\n",
      "state_province : wa\n",
      "postal_code : 98225\n",
      "o_url : https://www.bellinghamfoodbank.org/\n",
      "\n",
      "46/10 positive, 265/10 negative\n",
      "Do these records refer to the same thing?\n",
      "(y)es / (n)o / (u)nsure / (f)inished / (p)revious\n"
     ]
    },
    {
     "name": "stdout",
     "output_type": "stream",
     "text": [
      "f\n"
     ]
    },
    {
     "name": "stderr",
     "output_type": "stream",
     "text": [
      "Finished labeling\n"
     ]
    },
    {
     "name": "stdout",
     "output_type": "stream",
     "text": [
      "Clustering...\n",
      "# duplicate sets 221\n"
     ]
    }
   ],
   "source": [
    "import pandas as pd\n",
    "import pandas_dedupe\n",
    "\n",
    "from libs.feeds.postgres_feed import PostgresFeed\n",
    "\n",
    "pg_feed = PostgresFeed.from_main()\n",
    "print(pg_feed.query)\n",
    "print (pg_feed.df.head(5))\n",
    "\n",
    "# The Levenshtein distance is used for fields identified as 'String'. However, it appears we \n",
    "# can't use \"has missing\" with Strings. Where fields may be empty, use type of \"Test\" instead.\n",
    "df_final = pandas_dedupe.dedupe_dataframe(pg_feed.df, [\n",
    "    ('o_name', 'String'),\n",
    "    ('address_1', 'String'), \n",
    "    ('address_2','Text', 'has missing'), \n",
    "    ('city','Text','has missing'), \n",
    "    ('state_province','Text','has missing'), \n",
    "    ('postal_code','Text','has missing'), \n",
    "    ('o_url','Text','has missing'), \n",
    "    #('l_description','Text','has missing')\n",
    "])\n",
    "\n",
    "df_final.to_csv('deduplication_output.csv')"
   ]
  },
  {
   "cell_type": "code",
   "execution_count": null,
   "id": "89cc550f",
   "metadata": {},
   "outputs": [],
   "source": []
  },
  {
   "cell_type": "code",
   "execution_count": null,
   "id": "02c05d1e",
   "metadata": {},
   "outputs": [],
   "source": []
  }
 ],
 "metadata": {
  "kernelspec": {
   "display_name": "Python 3 (ipykernel)",
   "language": "python",
   "name": "python3"
  },
  "language_info": {
   "codemirror_mode": {
    "name": "ipython",
    "version": 3
   },
   "file_extension": ".py",
   "mimetype": "text/x-python",
   "name": "python",
   "nbconvert_exporter": "python",
   "pygments_lexer": "ipython3",
   "version": "3.10.6"
  },
  "vscode": {
   "interpreter": {
    "hash": "eb8673203dacbf360bb25dbbbce6c01807a3892e8ccb661bc147eb426e52f1f0"
   }
  }
 },
 "nbformat": 4,
 "nbformat_minor": 5
}
