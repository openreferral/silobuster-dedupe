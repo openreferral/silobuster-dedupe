{
 "cells": [
  {
   "cell_type": "code",
   "execution_count": 3,
   "id": "655225bd",
   "metadata": {},
   "outputs": [],
   "source": [
    "funcs = {\n",
    "    'dedupe_names_orgs': 'libs.dedupe.ml.names_orgs.names_orgs',\n",
    "}\n",
    "    \n",
    "    \n",
    "\n",
    "for name, path in funcs.items():\n",
    "    exec('from ' + path + ' import ' + name)\n",
    "    eval(name)\n",
    "    \n",
    "    "
   ]
  },
  {
   "cell_type": "code",
   "execution_count": null,
   "id": "d573d6e8",
   "metadata": {},
   "outputs": [],
   "source": []
  },
  {
   "cell_type": "code",
   "execution_count": null,
   "id": "335a4f43",
   "metadata": {},
   "outputs": [],
   "source": []
  }
 ],
 "metadata": {
  "kernelspec": {
   "display_name": "Python 3 (ipykernel)",
   "language": "python",
   "name": "python3"
  },
  "language_info": {
   "codemirror_mode": {
    "name": "ipython",
    "version": 3
   },
   "file_extension": ".py",
   "mimetype": "text/x-python",
   "name": "python",
   "nbconvert_exporter": "python",
   "pygments_lexer": "ipython3",
   "version": "3.10.6"
  }
 },
 "nbformat": 4,
 "nbformat_minor": 5
}
