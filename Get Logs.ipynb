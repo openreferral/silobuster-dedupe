{
 "cells": [
  {
   "cell_type": "code",
   "execution_count": 1,
   "id": "3013f33c",
   "metadata": {},
   "outputs": [
    {
     "name": "stdout",
     "output_type": "stream",
     "text": [
      "Default Destination: 1\n",
      "DB handler host: silobuster-dev-db-do-user-12298230-0.b.db.ondigitalocean.com\n",
      "DB handler db: defaultdb\n",
      "DB handler username: doadmin\n",
      "DB handler schema: public\n",
      "Connection Alive? Yes\n"
     ]
    }
   ],
   "source": [
    "from libs.connector.postgres_connector import PostgresToJsonConnector\n",
    "from libs.handler.postgres_handler import PostgresHandler\n",
    "from libs.handler.json_handler import JsonHandler\n",
    "from libs.log_handler.log_handler import LogHandler\n",
    "\n",
    "from libs.dataframes.to_types import to_list_of_dicts\n",
    "\n",
    "import pandas as pd\n",
    "\n",
    "#from libs.dedupe.algo.exact_identifier import exact_identifier\n",
    "#from libs.dedupe.algo.exact_lat_long import exact_lat_long\n",
    "#from libs.dedupe.algo.exact_name_url import exact_name_url\n",
    "\n",
    "\n",
    "log_handler = PostgresHandler(\n",
    "    host = 'silobuster-dev-db-do-user-12298230-0.b.db.ondigitalocean.com',\n",
    "    port = '25060',\n",
    "    db = 'defaultdb',\n",
    "    password = 'AVNS_2Lh_hY8r7RVKSfLwbJM',\n",
    "    username = 'doadmin',\n",
    ")\n",
    "\n",
    "logger = LogHandler(db_handler=log_handler)\n",
    "print (logger)"
   ]
  },
  {
   "cell_type": "code",
   "execution_count": 2,
   "id": "9f8575fa",
   "metadata": {},
   "outputs": [],
   "source": [
    "# wa211\n",
    "#finished = logger.create_excel(job_id='42ed89ee-4e3c-42c4-9dc8-faee553ab8a9', step_name='exact_lat_long')\n",
    "#finished = logger.create_excel(job_id='6d2a8be6-2996-4a9d-90ef-5a9e66f01915', step_name='exact_name_url')\n",
    "#finished = logger.create_excel(job_id='fe9ecd9f-d954-4102-a337-75b9feda2f02', step_name='exact_identifier')\n",
    "# finished = logger.create_excel(job_id='458f31d7-7aa0-4b18-9e5a-d5740d415e6c', step_name='exact_identifier')\n",
    "# print (finished)"
   ]
  },
  {
   "cell_type": "code",
   "execution_count": 3,
   "id": "de763542",
   "metadata": {},
   "outputs": [],
   "source": [
    "# withinreach\n",
    "# finished = logger.create_excel(job_id='77f668d8-3925-409b-9def-cceea96edaa7', step_name='exact_identifier')\n",
    "# finished = logger.create_excel(job_id='dcda0ac2-991a-49bf-bde1-ad0415b1d06a', step_name='exact_name_url')\n",
    "# finished = logger.create_excel(job_id='5fad5abb-094b-48a0-94d7-edce146d72d6', step_name='dedupe_io_addresses')\n",
    "\n",
    "# print (finished)\n"
   ]
  },
  {
   "cell_type": "code",
   "execution_count": 4,
   "id": "07c7edb6",
   "metadata": {},
   "outputs": [
    {
     "name": "stdout",
     "output_type": "stream",
     "text": [
      "address_results\n",
      "org_results\n",
      "dedupe_io_results\n",
      "original\n"
     ]
    }
   ],
   "source": [
    "finished = logger.create_excel(job_id='ac37fa2e-b765-41a5-a074-58e04e60ae0e', step_name='dedupe_io_names_addresses')\n"
   ]
  }
 ],
 "metadata": {
  "kernelspec": {
   "display_name": "Python 3 (ipykernel)",
   "language": "python",
   "name": "python3"
  },
  "language_info": {
   "codemirror_mode": {
    "name": "ipython",
    "version": 3
   },
   "file_extension": ".py",
   "mimetype": "text/x-python",
   "name": "python",
   "nbconvert_exporter": "python",
   "pygments_lexer": "ipython3",
   "version": "3.10.6"
  }
 },
 "nbformat": 4,
 "nbformat_minor": 5
}
