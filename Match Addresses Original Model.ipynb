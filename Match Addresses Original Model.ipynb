{
 "cells": [
  {
   "cell_type": "code",
   "execution_count": 1,
   "id": "519ddf6b",
   "metadata": {},
   "outputs": [
    {
     "name": "stdout",
     "output_type": "stream",
     "text": [
      "Host: silobuster-dev-db-do-user-12298230-0.b.db.ondigitalocean.com\n",
      "Port: 25060\n",
      "Database: defaultdb\n",
      "Username: doadmin\n",
      "Schema: connect211_wa211_hsds3\n",
      "Connection Alive? Yes\n",
      "<libs.handler.json_handler.JsonHandler object at 0x7ff1d9555120>\n"
     ]
    }
   ],
   "source": [
    "from libs.connector.postgres_connector import PostgresToJsonConnector\n",
    "from libs.handler.postgres_handler import PostgresHandler\n",
    "from libs.handler.json_handler import JsonHandler\n",
    "from libs.log_handler.log_handler import LogHandler\n",
    "\n",
    "from libs.dedupe.algo.exact_address import exact_address\n",
    "from libs.dedupe.ml.names_orgs.names_orgs import dedupe_names_orgs\n",
    "\n",
    "from libs.dataframes.to_types import to_list_of_dicts\n",
    "\n",
    "\n",
    "import pandas as pd\n",
    "\n",
    "\n",
    "log_handler = PostgresHandler(\n",
    "    host = 'silobuster-dev-db-do-user-12298230-0.b.db.ondigitalocean.com',\n",
    "    port = '25060',\n",
    "    db = 'defaultdb',\n",
    "    password = 'AVNS_2Lh_hY8r7RVKSfLwbJM',\n",
    "    username = 'doadmin',\n",
    ")\n",
    "\n",
    "logger = LogHandler(db_handler=log_handler)\n",
    "\n",
    "input_qry = '''\n",
    "    SELECT\n",
    "        t3.name,\n",
    "        t3.id as organization_id,\n",
    "        t3.website as o_url,\n",
    "        t1.address_1,\n",
    "        t1.address_2,\n",
    "        t1.city,\n",
    "        t1.state_province,\n",
    "        t1.postal_code\n",
    "    FROM address t1\n",
    "    LEFT JOIN location t2\n",
    "    ON t1.location_id = t2.id\n",
    "    LEFT JOIN organization t3\n",
    "    ON t3.id = t2.organization_id\n",
    "    '''\n",
    "\n",
    "input_handler = PostgresHandler(\n",
    "    host = 'silobuster-dev-db-do-user-12298230-0.b.db.ondigitalocean.com',\n",
    "    port = '25060',\n",
    "    db = 'defaultdb',\n",
    "    password = 'AVNS_2Lh_hY8r7RVKSfLwbJM',\n",
    "    username = 'doadmin',\n",
    "    query = input_qry,\n",
    "    schema = 'connect211_wa211_hsds3',\n",
    "    env_prefix = 'POSTGRES'\n",
    ")\n",
    "\n",
    "output_handler = JsonHandler()\n",
    "\n",
    "print (input_handler)\n",
    "print (output_handler)"
   ]
  },
  {
   "cell_type": "code",
   "execution_count": 2,
   "id": "9185d13e",
   "metadata": {},
   "outputs": [],
   "source": [
    "conn = PostgresToJsonConnector(\n",
    "    input_handler=input_handler,\n",
    "    output_handler=output_handler,\n",
    "    log_handler=logger,\n",
    ")"
   ]
  },
  {
   "cell_type": "code",
   "execution_count": 3,
   "id": "b8200e8b",
   "metadata": {},
   "outputs": [
    {
     "name": "stdout",
     "output_type": "stream",
     "text": [
      "Importing data ...\n",
      "Reading from /home/jamey/hackathon/microservice/source/silobuster-dedupe/libs/dedupe/ml/names_orgs/names_orgs_learned_settings\n",
      "Clustering...\n"
     ]
    },
    {
     "name": "stderr",
     "output_type": "stream",
     "text": [
      "/home/jamey/hackathon/microservice/source/silobuster-dedupe/libs/dedupe/ml/names_orgs/names_orgs.py:37: FutureWarning: The default value of regex will change from True to False in a future version.\n",
      "  df_final = pandas_dedupe.dedupe_dataframe(df=data, field_properties=[\n"
     ]
    },
    {
     "name": "stdout",
     "output_type": "stream",
     "text": [
      "# duplicate sets 13131\n"
     ]
    }
   ],
   "source": [
    "job_id = conn.transform(\n",
    "    exact_address,\n",
    "    dedupe_names_orgs\n",
    ")"
   ]
  },
  {
   "cell_type": "code",
   "execution_count": 4,
   "id": "88313b16",
   "metadata": {},
   "outputs": [
    {
     "name": "stdout",
     "output_type": "stream",
     "text": [
      "9ab2b8df-8112-4934-ac03-fa786e141fca\n"
     ]
    }
   ],
   "source": [
    "print (job_id)"
   ]
  }
 ],
 "metadata": {
  "kernelspec": {
   "display_name": "Python 3 (ipykernel)",
   "language": "python",
   "name": "python3"
  },
  "language_info": {
   "codemirror_mode": {
    "name": "ipython",
    "version": 3
   },
   "file_extension": ".py",
   "mimetype": "text/x-python",
   "name": "python",
   "nbconvert_exporter": "python",
   "pygments_lexer": "ipython3",
   "version": "3.10.6"
  }
 },
 "nbformat": 4,
 "nbformat_minor": 5
}
