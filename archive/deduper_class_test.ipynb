{
 "cells": [
  {
   "cell_type": "code",
   "execution_count": 1,
   "id": "a6c03349",
   "metadata": {},
   "outputs": [],
   "source": [
    "\n",
    "from connectors.postgres_connector import PostgresConnector\n",
    "from feeds.postgres_feed import PostgresFeed\n",
    "\n",
    "import dedupe\n",
    "\n",
    "pg_conn = PostgresConnector(db='defaultdb', username='doadmin', password='AVNS_2Lh_hY8r7RVKSfLwbJM', host='silobuster-dev-db-do-user-12298230-0.b.db.ondigitalocean.com', port=25060)\n",
    "# select_qry = \"SELECT id, name, address FROM what_location WHERE address is not null and not address = '' and name is not null and not name = ''\"\n",
    "# select_qry2 = \"SELECT id, name, address FROM what_location\"\n",
    "\n",
    "# select_qry = \"SELECT id, name, address_1, address_2, city, state_province, postal_code, url, description, duplicate_id, duplicate_type FROM organizations_normalized WHERE name IS NOT NULL AND NOT name = '' AND address_1 IS NOT NULL AND NOT address_1 = '' AND city IS NOT NULL AND NOT city = ''\"\n",
    "\n",
    "select_qry = '''SELECT\n",
    "  o.id as organization_id,\n",
    "  o.name as o_name,\n",
    "  o.description as o_description,\n",
    "  o.url as o_url,\n",
    "  l.id as location_id,\n",
    "  l.name as l_name,\n",
    "  l.description as l_description,\n",
    "  l.latitude,\n",
    "  l.longitude,\n",
    "  a.address_1,\n",
    "  a.address_2,\n",
    "  a.city,\n",
    "  a.state_province,\n",
    "  a.postal_code\n",
    "FROM organization o\n",
    "join location l on l.organization_id = o.id\n",
    "join address a on a.location_id = l.id\n",
    "  where type = 'physical';\n",
    "'''\n",
    "raw_def = [\n",
    "    {\"field\": \"o_name\", \"type\": \"String\", \"has missing\": True},\n",
    "    {\"field\": \"o_description\", \"type\": \"String\", \"has missing\": True},\n",
    "    {\"field\": \"o_url\", \"type\": \"String\", \"has missing\": True},\n",
    "    {\"field\": \"l_name\", \"type\": \"String\", \"has missing\": True},\n",
    "    {\"field\": \"l_description\", \"type\": \"String\", \"has missing\": True},\n",
    "    {\"field\": \"l_latitude\", \"type\": \"String\", \"has missing\": True},\n",
    "    {\"field\": \"l_longitude\", \"type\": \"String\", \"has missing\": True},\n",
    "    {\"field\": \"address_1\", \"type\": \"String\", \"has missing\": True},\n",
    "    {\"field\": \"address_2\", \"type\": \"Exists\", \"has missing\": True},\n",
    "    {\"field\": \"city\", \"type\": \"String\", \"has missing\": True},\n",
    "    {\"field\": \"state_province\", \"type\": \"String\", \"has missing\": True},\n",
    "    {\"field\": \"postal_code\", \"type\": \"Exists\", \"has missing\": True}\n",
    "]\n",
    "\n",
    "\n",
    "pg_feed = PostgresFeed.from_manual(connector=pg_conn, query=select_qry, column_definition=raw_def, primary_key='id')\n",
    "\n",
    "# select_qry = \"SELECT name, address FROM what_location WHERE address is not null and not address = '' and name is not null and not name = ''\"\n",
    "deduper = dedupe.Dedupe(pg_feed.variable_definition)\n",
    "\n"
   ]
  },
  {
   "cell_type": "code",
   "execution_count": 2,
   "id": "63a2a7c0",
   "metadata": {},
   "outputs": [
    {
     "ename": "ValueError",
     "evalue": "Records do not line up with data model. The field 'name' is in data_model but not in a record",
     "output_type": "error",
     "traceback": [
      "\u001b[0;31m---------------------------------------------------------------------------\u001b[0m",
      "\u001b[0;31mValueError\u001b[0m                                Traceback (most recent call last)",
      "\u001b[0;32m/tmp/ipykernel_42676/4174006383.py\u001b[0m in \u001b[0;36m<module>\u001b[0;34m\u001b[0m\n\u001b[1;32m      1\u001b[0m \u001b[0;31m#deduper.prepare_training(pg_feed.formatted_data, sample_size=100000, blocked_proportion=1)\u001b[0m\u001b[0;34m\u001b[0m\u001b[0;34m\u001b[0m\u001b[0m\n\u001b[0;32m----> 2\u001b[0;31m \u001b[0mdeduper\u001b[0m\u001b[0;34m.\u001b[0m\u001b[0mprepare_training\u001b[0m\u001b[0;34m(\u001b[0m\u001b[0mpg_feed\u001b[0m\u001b[0;34m.\u001b[0m\u001b[0mformatted_data\u001b[0m\u001b[0;34m)\u001b[0m\u001b[0;34m\u001b[0m\u001b[0;34m\u001b[0m\u001b[0m\n\u001b[0m",
      "\u001b[0;32m/usr/local/lib/python3.10/dist-packages/dedupe/api.py\u001b[0m in \u001b[0;36mprepare_training\u001b[0;34m(self, data, training_file, sample_size, blocked_proportion)\u001b[0m\n\u001b[1;32m   1330\u001b[0m                \u001b[0mmatcher\u001b[0m\u001b[0;34m.\u001b[0m\u001b[0mprepare_training\u001b[0m\u001b[0;34m(\u001b[0m\u001b[0mdata_d\u001b[0m\u001b[0;34m,\u001b[0m \u001b[0mtraining_file\u001b[0m\u001b[0;34m=\u001b[0m\u001b[0mf\u001b[0m\u001b[0;34m)\u001b[0m\u001b[0;34m\u001b[0m\u001b[0;34m\u001b[0m\u001b[0m\n\u001b[1;32m   1331\u001b[0m         \"\"\"\n\u001b[0;32m-> 1332\u001b[0;31m         \u001b[0mself\u001b[0m\u001b[0;34m.\u001b[0m\u001b[0m_checkData\u001b[0m\u001b[0;34m(\u001b[0m\u001b[0mdata\u001b[0m\u001b[0;34m)\u001b[0m\u001b[0;34m\u001b[0m\u001b[0;34m\u001b[0m\u001b[0m\n\u001b[0m\u001b[1;32m   1333\u001b[0m \u001b[0;34m\u001b[0m\u001b[0m\n\u001b[1;32m   1334\u001b[0m         \u001b[0;31m# Reset active learner\u001b[0m\u001b[0;34m\u001b[0m\u001b[0;34m\u001b[0m\u001b[0m\n",
      "\u001b[0;32m/usr/local/lib/python3.10/dist-packages/dedupe/api.py\u001b[0m in \u001b[0;36m_checkData\u001b[0;34m(self, data)\u001b[0m\n\u001b[1;32m   1354\u001b[0m             \u001b[0;32mraise\u001b[0m \u001b[0mValueError\u001b[0m\u001b[0;34m(\u001b[0m\u001b[0;34m\"Dictionary of records is empty.\"\u001b[0m\u001b[0;34m)\u001b[0m\u001b[0;34m\u001b[0m\u001b[0;34m\u001b[0m\u001b[0m\n\u001b[1;32m   1355\u001b[0m \u001b[0;34m\u001b[0m\u001b[0m\n\u001b[0;32m-> 1356\u001b[0;31m         \u001b[0mself\u001b[0m\u001b[0;34m.\u001b[0m\u001b[0mdata_model\u001b[0m\u001b[0;34m.\u001b[0m\u001b[0mcheck\u001b[0m\u001b[0;34m(\u001b[0m\u001b[0mnext\u001b[0m\u001b[0;34m(\u001b[0m\u001b[0miter\u001b[0m\u001b[0;34m(\u001b[0m\u001b[0mdata\u001b[0m\u001b[0;34m.\u001b[0m\u001b[0mvalues\u001b[0m\u001b[0;34m(\u001b[0m\u001b[0;34m)\u001b[0m\u001b[0;34m)\u001b[0m\u001b[0;34m)\u001b[0m\u001b[0;34m)\u001b[0m\u001b[0;34m\u001b[0m\u001b[0;34m\u001b[0m\u001b[0m\n\u001b[0m\u001b[1;32m   1357\u001b[0m \u001b[0;34m\u001b[0m\u001b[0m\n\u001b[1;32m   1358\u001b[0m \u001b[0;34m\u001b[0m\u001b[0m\n",
      "\u001b[0;32m/usr/local/lib/python3.10/dist-packages/dedupe/datamodel.py\u001b[0m in \u001b[0;36mcheck\u001b[0;34m(self, record)\u001b[0m\n\u001b[1;32m    130\u001b[0m         \u001b[0;32mfor\u001b[0m \u001b[0mfield\u001b[0m\u001b[0;34m,\u001b[0m \u001b[0m_\u001b[0m\u001b[0;34m,\u001b[0m \u001b[0m_\u001b[0m\u001b[0;34m,\u001b[0m \u001b[0m_\u001b[0m \u001b[0;32min\u001b[0m \u001b[0mself\u001b[0m\u001b[0;34m.\u001b[0m\u001b[0m_field_comparators\u001b[0m\u001b[0;34m:\u001b[0m\u001b[0;34m\u001b[0m\u001b[0;34m\u001b[0m\u001b[0m\n\u001b[1;32m    131\u001b[0m             \u001b[0;32mif\u001b[0m \u001b[0mfield\u001b[0m \u001b[0;32mnot\u001b[0m \u001b[0;32min\u001b[0m \u001b[0mrecord\u001b[0m\u001b[0;34m:\u001b[0m\u001b[0;34m\u001b[0m\u001b[0;34m\u001b[0m\u001b[0m\n\u001b[0;32m--> 132\u001b[0;31m                 raise ValueError(\n\u001b[0m\u001b[1;32m    133\u001b[0m                     \u001b[0;34m\"Records do not line up with data model. \"\u001b[0m\u001b[0;34m\u001b[0m\u001b[0;34m\u001b[0m\u001b[0m\n\u001b[1;32m    134\u001b[0m                     \u001b[0;34m\"The field '%s' is in data_model but not \"\u001b[0m\u001b[0;34m\u001b[0m\u001b[0;34m\u001b[0m\u001b[0m\n",
      "\u001b[0;31mValueError\u001b[0m: Records do not line up with data model. The field 'name' is in data_model but not in a record"
     ]
    }
   ],
   "source": [
    "#deduper.prepare_training(pg_feed.formatted_data, sample_size=100000, blocked_proportion=1)\n",
    "deduper.prepare_training(pg_feed.formatted_data)"
   ]
  },
  {
   "cell_type": "code",
   "execution_count": null,
   "id": "a06aa97f",
   "metadata": {},
   "outputs": [],
   "source": [
    "#distinct_pairs = []\n",
    "#while True:\n",
    "#    try:\n",
    "#        pair = deduper.uncertain_pairs()\n",
    "#        distinct_pairs.extend(pair)\n",
    "#    except IndexError as e:\n",
    "#        break\n",
    "#    except Exception as e:\n",
    "#        raise\n",
    "\n",
    "#deduper.mark_pairs({\n",
    "#    \"match\": [],\n",
    "#    \"distinct\": distinct_pairs\n",
    "#})\n",
    "#print (distinct_pairs)"
   ]
  },
  {
   "cell_type": "code",
   "execution_count": null,
   "id": "56e7cecb",
   "metadata": {},
   "outputs": [],
   "source": []
  },
  {
   "cell_type": "code",
   "execution_count": null,
   "id": "d301eb76",
   "metadata": {
    "scrolled": true
   },
   "outputs": [],
   "source": [
    "print(\"Starting active labeling...\")"
   ]
  },
  {
   "cell_type": "code",
   "execution_count": null,
   "id": "992d1c23",
   "metadata": {},
   "outputs": [],
   "source": [
    "dedupe.convenience.console_label(deduper)\n",
    "\n",
    "print ('Dumping training results...')\n"
   ]
  },
  {
   "cell_type": "code",
   "execution_count": null,
   "id": "dd174644",
   "metadata": {},
   "outputs": [],
   "source": [
    "with open(\"training_results.txt\", \"w\") as f:\n",
    "    deduper.write_training(f)"
   ]
  },
  {
   "cell_type": "code",
   "execution_count": null,
   "id": "35f1c358",
   "metadata": {},
   "outputs": [],
   "source": [
    "#with open(\"training_settings.txt\", \"wb\") as f:\n",
    "#    deduper.write_settings(f)"
   ]
  },
  {
   "cell_type": "code",
   "execution_count": null,
   "id": "a7c94337",
   "metadata": {},
   "outputs": [],
   "source": [
    "#for field in deduper.fingerprinter.index_fields:\n",
    "print ('training')\n",
    "deduper.train() \n",
    "print('trained')"
   ]
  },
  {
   "cell_type": "code",
   "execution_count": null,
   "id": "0b91c009",
   "metadata": {},
   "outputs": [],
   "source": []
  }
 ],
 "metadata": {
  "kernelspec": {
   "display_name": "Python 3",
   "language": "python",
   "name": "python3"
  },
  "language_info": {
   "codemirror_mode": {
    "name": "ipython",
    "version": 3
   },
   "file_extension": ".py",
   "mimetype": "text/x-python",
   "name": "python",
   "nbconvert_exporter": "python",
   "pygments_lexer": "ipython3",
   "version": "3.10.6 (main, Aug 10 2022, 11:40:04) [GCC 11.3.0]"
  },
  "vscode": {
   "interpreter": {
    "hash": "916dbcbb3f70747c44a77c7bcd40155683ae19c65e1c03b4aa3499c5328201f1"
   }
  }
 },
 "nbformat": 4,
 "nbformat_minor": 5
}
