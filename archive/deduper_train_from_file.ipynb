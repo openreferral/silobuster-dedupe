{
 "cells": [
  {
   "cell_type": "code",
   "execution_count": 2,
   "id": "caa2b197",
   "metadata": {},
   "outputs": [
    {
     "name": "stdout",
     "output_type": "stream",
     "text": [
      "reading labeled examples from  training_results.txt\n"
     ]
    },
    {
     "ename": "AttributeError",
     "evalue": "'Dedupe' object has no attribute 'read_training'",
     "output_type": "error",
     "traceback": [
      "\u001b[0;31m---------------------------------------------------------------------------\u001b[0m",
      "\u001b[0;31mAttributeError\u001b[0m                            Traceback (most recent call last)",
      "\u001b[0;32m/tmp/ipykernel_69203/2555181406.py\u001b[0m in \u001b[0;36m<module>\u001b[0;34m\u001b[0m\n\u001b[1;32m     30\u001b[0m     \u001b[0mprint\u001b[0m\u001b[0;34m(\u001b[0m\u001b[0;34m'reading labeled examples from '\u001b[0m\u001b[0;34m,\u001b[0m \u001b[0mtraining_file\u001b[0m\u001b[0;34m)\u001b[0m\u001b[0;34m\u001b[0m\u001b[0;34m\u001b[0m\u001b[0m\n\u001b[1;32m     31\u001b[0m     \u001b[0;32mwith\u001b[0m \u001b[0mopen\u001b[0m\u001b[0;34m(\u001b[0m\u001b[0mtraining_file\u001b[0m\u001b[0;34m,\u001b[0m \u001b[0;34m'rb'\u001b[0m\u001b[0;34m)\u001b[0m \u001b[0;32mas\u001b[0m \u001b[0mf\u001b[0m\u001b[0;34m:\u001b[0m\u001b[0;34m\u001b[0m\u001b[0;34m\u001b[0m\u001b[0m\n\u001b[0;32m---> 32\u001b[0;31m         \u001b[0mdeduper\u001b[0m\u001b[0;34m.\u001b[0m\u001b[0mread_training\u001b[0m\u001b[0;34m(\u001b[0m\u001b[0mf\u001b[0m\u001b[0;34m)\u001b[0m\u001b[0;34m\u001b[0m\u001b[0;34m\u001b[0m\u001b[0m\n\u001b[0m",
      "\u001b[0;31mAttributeError\u001b[0m: 'Dedupe' object has no attribute 'read_training'"
     ]
    }
   ],
   "source": [
    "\n",
    "from libs.connectors.postgres_connector import PostgresConnector\n",
    "from libs.feeds.postgres_feed import PostgresFeed\n",
    "\n",
    "import os\n",
    "import dedupe\n",
    "\n",
    "pg_conn = PostgresConnector(db='jameycdb', username='jameyc', password='UXZSXXXSFZeU8XKw', host='silobuster-db-do-user-12298230-0.b.db.ondigitalocean.com', port=25060)\n",
    "# select_qry = \"SELECT id, name, address FROM what_location WHERE address is not null and not address = '' and name is not null and not name = ''\"\n",
    "# select_qry2 = \"SELECT id, name, address FROM what_location\"\n",
    "\n",
    "select_qry = \"SELECT id, name, address_1, address_2, city, state_province, postal_code, url, description, duplicate_id, duplicate_type FROM organizations_normalized WHERE name IS NOT NULL AND NOT name = '' AND address_1 IS NOT NULL AND NOT address_1 = '' AND city IS NOT NULL AND NOT city = ''\"\n",
    "raw_def = [\n",
    "    {\"field\": \"name\", \"type\": \"String\"},\n",
    "    {\"field\": \"address_1\", \"type\": \"String\", \"has missing\": True},\n",
    "    {\"field\": \"address_2\", \"type\": \"Exists\", \"has missing\": True},\n",
    "    {\"field\": \"city\", \"type\": \"String\", \"has missing\": True},\n",
    "    {\"field\": \"state_province\", \"type\": \"String\", \"has missing\": True},\n",
    "    {\"field\": \"postal_code\", \"type\": \"Exists\", \"has missing\": True},\n",
    "    {\"field\": \"url\", \"type\": \"Exists\", \"has missing\": True}\n",
    "]\n",
    "\n",
    "\n",
    "pg_feed = PostgresFeed.from_manual(connector=pg_conn, query=select_qry, column_definition=raw_def, primary_key='id')\n",
    "\n",
    "# select_qry = \"SELECT name, address FROM what_location WHERE address is not null and not address = '' and name is not null and not name = ''\"\n",
    "deduper = dedupe.Dedupe(pg_feed.variable_definition)\n",
    "\n",
    "training_file = \"training_results.txt\"\n",
    "if os.path.exists(training_file):\n",
    "    print('reading labeled examples from ', training_file)\n",
    "    with open(training_file, 'rb') as f:\n",
    "        deduper.read_training(f)\n"
   ]
  },
  {
   "cell_type": "code",
   "execution_count": null,
   "id": "c0b64af1",
   "metadata": {},
   "outputs": [],
   "source": []
  }
 ],
 "metadata": {
  "kernelspec": {
   "display_name": "Python 3",
   "language": "python",
   "name": "python3"
  },
  "language_info": {
   "codemirror_mode": {
    "name": "ipython",
    "version": 3
   },
   "file_extension": ".py",
   "mimetype": "text/x-python",
   "name": "python",
   "nbconvert_exporter": "python",
   "pygments_lexer": "ipython3",
   "version": "3.10.6 (main, Aug 10 2022, 11:40:04) [GCC 11.3.0]"
  },
  "vscode": {
   "interpreter": {
    "hash": "916dbcbb3f70747c44a77c7bcd40155683ae19c65e1c03b4aa3499c5328201f1"
   }
  }
 },
 "nbformat": 4,
 "nbformat_minor": 5
}
