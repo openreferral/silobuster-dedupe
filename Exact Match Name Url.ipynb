{
 "cells": [
  {
   "cell_type": "code",
   "execution_count": 1,
   "id": "512a1a4e",
   "metadata": {},
   "outputs": [
    {
     "name": "stdout",
     "output_type": "stream",
     "text": [
      "Host: silobuster-dev-db-do-user-12298230-0.b.db.ondigitalocean.com\n",
      "Port: 25060\n",
      "Database: defaultdb\n",
      "Username: doadmin\n",
      "Schema: connect211_withinreach_hsds3\n",
      "Connection Alive? Yes\n",
      "<libs.handler.json_handler.JsonHandler object at 0x7f1e58e4bee0>\n"
     ]
    }
   ],
   "source": [
    "from libs.connector.postgres_connector import PostgresToJsonConnector\n",
    "from libs.handler.postgres_handler import PostgresHandler\n",
    "from libs.handler.json_handler import JsonHandler\n",
    "from libs.log_handler.log_handler import LogHandler\n",
    "\n",
    "from libs.dedupe.algo.exact_name_url import deduplicate_exact_match_name_url\n",
    "from libs.dataframes.to_types import to_list_of_dicts\n",
    "\n",
    "\n",
    "import pandas as pd\n",
    "\n",
    "\n",
    "log_handler = PostgresHandler(\n",
    "    host = 'silobuster-dev-db-do-user-12298230-0.b.db.ondigitalocean.com',\n",
    "    port = '25060',\n",
    "    db = 'defaultdb',\n",
    "    password = 'AVNS_2Lh_hY8r7RVKSfLwbJM',\n",
    "    username = 'doadmin',\n",
    ")\n",
    "\n",
    "logger = LogHandler(db_handler=log_handler)\n",
    "\n",
    "input_qry = '''\n",
    "    SELECT\n",
    "        id,\n",
    "        name,\n",
    "        website\n",
    "    FROM organization\n",
    "    '''\n",
    "\n",
    "input_handler = PostgresHandler(\n",
    "    host = 'silobuster-dev-db-do-user-12298230-0.b.db.ondigitalocean.com',\n",
    "    port = '25060',\n",
    "    db = 'defaultdb',\n",
    "    password = 'AVNS_2Lh_hY8r7RVKSfLwbJM',\n",
    "    username = 'doadmin',\n",
    "    query = input_qry,\n",
    "    schema = 'connect211_withinreach_hsds3',\n",
    "    env_prefix = 'POSTGRES'\n",
    ")\n",
    "\n",
    "output_handler = JsonHandler()\n",
    "\n",
    "print (input_handler)\n",
    "print (output_handler)"
   ]
  },
  {
   "cell_type": "code",
   "execution_count": 2,
   "id": "dbf3c1a8",
   "metadata": {},
   "outputs": [],
   "source": [
    "\n",
    "conn = PostgresToJsonConnector(\n",
    "    input_handler=input_handler,\n",
    "    output_handler=output_handler,\n",
    "    log_handler=logger,\n",
    ")"
   ]
  },
  {
   "cell_type": "code",
   "execution_count": 3,
   "id": "9975a0a0",
   "metadata": {},
   "outputs": [],
   "source": [
    "# job_id = conn.mutate(deduplicate_exact_match_name_url)"
   ]
  },
  {
   "cell_type": "code",
   "execution_count": 4,
   "id": "97a1261c",
   "metadata": {},
   "outputs": [],
   "source": [
    "# print (job_id)"
   ]
  },
  {
   "cell_type": "code",
   "execution_count": 5,
   "id": "5c90638b",
   "metadata": {},
   "outputs": [],
   "source": [
    "\n",
    "\n",
    "DEDUPLICATION_STEPS = {\n",
    "    'dedupe_io_names_addresses': 'libs.dedupe.ml.names_addresses.names_addresses',\n",
    "    'deduplicate_exact_match_name_url': 'libs.dedupe.algo.exact_name_url',\n",
    "}\n",
    "steps = dict()\n",
    "my_steps = ['deduplicate_exact_match_name_url']\n",
    "for step in my_steps:\n",
    "    if DEDUPLICATION_STEPS.get(step):\n",
    "        steps[step] = DEDUPLICATION_STEPS[step]\n",
    "\n",
    "\n",
    "job_id = conn.mutate(conn.parse_steps(steps))"
   ]
  },
  {
   "cell_type": "code",
   "execution_count": 6,
   "id": "9a110938",
   "metadata": {},
   "outputs": [
    {
     "name": "stdout",
     "output_type": "stream",
     "text": [
      "1bf8299d-ba62-42ed-a047-e8acda2a6d81\n"
     ]
    }
   ],
   "source": [
    "print (job_id)"
   ]
  },
  {
   "cell_type": "code",
   "execution_count": null,
   "id": "f0140da3",
   "metadata": {},
   "outputs": [],
   "source": [
    "\n"
   ]
  },
  {
   "cell_type": "code",
   "execution_count": null,
   "id": "fece5c3f",
   "metadata": {},
   "outputs": [],
   "source": []
  }
 ],
 "metadata": {
  "kernelspec": {
   "display_name": "Python 3 (ipykernel)",
   "language": "python",
   "name": "python3"
  },
  "language_info": {
   "codemirror_mode": {
    "name": "ipython",
    "version": 3
   },
   "file_extension": ".py",
   "mimetype": "text/x-python",
   "name": "python",
   "nbconvert_exporter": "python",
   "pygments_lexer": "ipython3",
   "version": "3.10.6"
  }
 },
 "nbformat": 4,
 "nbformat_minor": 5
}
