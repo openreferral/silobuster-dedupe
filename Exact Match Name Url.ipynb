{
 "cells": [
  {
   "cell_type": "code",
   "execution_count": 1,
   "id": "512a1a4e",
   "metadata": {},
   "outputs": [],
   "source": [
    "from libs.connector.postgres_connector import PostgresToJsonConnector\n",
    "from libs.handler.postgres_handler import PostgresHandler\n",
    "from libs.handler.json_handler import JsonHandler\n",
    "from libs.log_handler.log_handler import LogHandler\n",
    "\n",
    "from libs.workers.algo.exact_name_url import deduplicate_exact_match_name_url\n",
    "from libs.dataframes.to_types import to_list_of_dicts\n",
    "\n",
    "import pandas as pd\n",
    "\n",
    "\n",
    "log_handler = PostgresHandler(\n",
    "    env_prefix = 'POSTGRES'\n",
    ")\n",
    "\n",
    "logger = LogHandler(db_handler=log_handler)\n",
    "\n",
    "\n",
    "input_qry = '''\n",
    "    SELECT\n",
    "        id,\n",
    "        name,\n",
    "        website\n",
    "    FROM organization\n",
    "    '''\n",
    "\n",
    "input_handler = PostgresHandler(\n",
    "    query = input_qry,\n",
    "    schema = 'connect211_wa211_hsds3',\n",
    "    env_prefix = 'POSTGRES'\n",
    ")\n",
    "\n",
    "output_handler = JsonHandler()\n"
   ]
  },
  {
   "cell_type": "code",
   "execution_count": 2,
   "id": "dbf3c1a8",
   "metadata": {},
   "outputs": [],
   "source": [
    "\n",
    "conn = PostgresToJsonConnector(\n",
    "    input_handler=input_handler,\n",
    "    output_handler=output_handler,\n",
    "    log_handler=logger,\n",
    ")"
   ]
  },
  {
   "cell_type": "code",
   "execution_count": null,
   "id": "9975a0a0",
   "metadata": {},
   "outputs": [],
   "source": [
    "    "
   ]
  },
  {
   "cell_type": "code",
   "execution_count": null,
   "id": "97a1261c",
   "metadata": {},
   "outputs": [],
   "source": []
  },
  {
   "cell_type": "code",
   "execution_count": 3,
   "id": "5c90638b",
   "metadata": {},
   "outputs": [],
   "source": [
    "\n",
    "\n",
    "DEDUPLICATION_STEPS = {\n",
    "    'dedupe_io_names_addresses': 'libs.workers.ml.names_addresses.names_addresses',\n",
    "    'deduplicate_exact_match_name_url': 'libs.workers.algo.exact_name_url',\n",
    "}\n",
    "steps = dict()\n",
    "my_steps = ['deduplicate_exact_match_name_url']\n",
    "for step in my_steps:\n",
    "    if DEDUPLICATION_STEPS.get(step):\n",
    "        steps[step] = DEDUPLICATION_STEPS[step]\n",
    "\n",
    "\n",
    "job_id = conn.mutate(conn.parse_steps(steps))"
   ]
  },
  {
   "cell_type": "code",
   "execution_count": 4,
   "id": "9a110938",
   "metadata": {},
   "outputs": [
    {
     "name": "stdout",
     "output_type": "stream",
     "text": [
      "05420fd9-fbdd-461b-9133-95e6b8b1ec6b\n"
     ]
    }
   ],
   "source": [
    "print (job_id)"
   ]
  },
  {
   "cell_type": "code",
   "execution_count": null,
   "id": "f0140da3",
   "metadata": {},
   "outputs": [],
   "source": [
    "\n"
   ]
  },
  {
   "cell_type": "code",
   "execution_count": null,
   "id": "fece5c3f",
   "metadata": {},
   "outputs": [],
   "source": []
  }
 ],
 "metadata": {
  "kernelspec": {
   "display_name": "Python 3 (ipykernel)",
   "language": "python",
   "name": "python3"
  },
  "language_info": {
   "codemirror_mode": {
    "name": "ipython",
    "version": 3
   },
   "file_extension": ".py",
   "mimetype": "text/x-python",
   "name": "python",
   "nbconvert_exporter": "python",
   "pygments_lexer": "ipython3",
   "version": "3.10.6"
  }
 },
 "nbformat": 4,
 "nbformat_minor": 5
}
