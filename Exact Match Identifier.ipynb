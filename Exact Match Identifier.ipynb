{
 "cells": [
  {
   "cell_type": "code",
   "execution_count": 1,
   "id": "512a1a4e",
   "metadata": {},
   "outputs": [],
   "source": [
    "from libs.connector.postgres_connector import PostgresToJsonConnector\n",
    "from libs.handler.postgres_handler import PostgresHandler\n",
    "from libs.handler.json_handler import JsonHandler\n",
    "from libs.log_handler.log_handler import LogHandler\n",
    "\n",
    "from libs.dataframes.to_types import to_list_of_dicts\n",
    "\n",
    "\n",
    "import pandas as pd\n",
    "\n",
    "\n",
    "log_handler = PostgresHandler(\n",
    "    env_prefix = 'POSTGRES'\n",
    ")\n",
    "\n",
    "logger = LogHandler(db_handler=log_handler)\n",
    "\n",
    "input_qry = '''\n",
    "    SELECT\n",
    "        t2.name,\n",
    "        t2.source_organization_id,\n",
    "        t1.organization_id,\n",
    "        t1.identifier\n",
    "    FROM organization_identifier t1\n",
    "    LEFT JOIN organization t2\n",
    "    ON t1.organization_id = t2.id\n",
    "    '''\n",
    "\n",
    "input_handler = PostgresHandler(\n",
    "    query = input_qry,\n",
    "    schema = 'connect211_wa211_hsds3',\n",
    "    env_prefix = 'POSTGRES'\n",
    ")\n",
    "\n",
    "output_handler = JsonHandler()\n"
   ]
  },
  {
   "cell_type": "code",
   "execution_count": 2,
   "id": "dbf3c1a8",
   "metadata": {},
   "outputs": [],
   "source": [
    "conn = PostgresToJsonConnector(\n",
    "    input_handler=input_handler,\n",
    "    output_handler=output_handler,\n",
    "    log_handler=logger,\n",
    ")"
   ]
  },
  {
   "cell_type": "code",
   "execution_count": 3,
   "id": "9975a0a0",
   "metadata": {},
   "outputs": [],
   "source": [
    "from libs.workers.algo.exact_identifier import exact_identifier\n",
    "\n",
    "job_id = conn.mutate(exact_identifier)"
   ]
  },
  {
   "cell_type": "code",
   "execution_count": 4,
   "id": "922ec258",
   "metadata": {},
   "outputs": [
    {
     "name": "stdout",
     "output_type": "stream",
     "text": [
      "5e6001d7-ca28-4cfe-a12b-faecf8210752\n"
     ]
    }
   ],
   "source": [
    "print (job_id)\n"
   ]
  },
  {
   "cell_type": "code",
   "execution_count": null,
   "id": "97a1261c",
   "metadata": {},
   "outputs": [],
   "source": []
  },
  {
   "cell_type": "code",
   "execution_count": null,
   "id": "5c90638b",
   "metadata": {},
   "outputs": [],
   "source": []
  },
  {
   "cell_type": "code",
   "execution_count": null,
   "id": "9a110938",
   "metadata": {},
   "outputs": [],
   "source": []
  },
  {
   "cell_type": "code",
   "execution_count": null,
   "id": "f0140da3",
   "metadata": {},
   "outputs": [],
   "source": [
    "\n"
   ]
  },
  {
   "cell_type": "code",
   "execution_count": null,
   "id": "fece5c3f",
   "metadata": {},
   "outputs": [],
   "source": []
  }
 ],
 "metadata": {
  "kernelspec": {
   "display_name": "Python 3 (ipykernel)",
   "language": "python",
   "name": "python3"
  },
  "language_info": {
   "codemirror_mode": {
    "name": "ipython",
    "version": 3
   },
   "file_extension": ".py",
   "mimetype": "text/x-python",
   "name": "python",
   "nbconvert_exporter": "python",
   "pygments_lexer": "ipython3",
   "version": "3.10.6"
  }
 },
 "nbformat": 4,
 "nbformat_minor": 5
}
