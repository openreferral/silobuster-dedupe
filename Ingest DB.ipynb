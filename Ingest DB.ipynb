{
 "cells": [
  {
   "cell_type": "code",
   "execution_count": null,
   "id": "897a7dfb",
   "metadata": {},
   "outputs": [],
   "source": [
    "'''\n",
    "INGESTION\n",
    "DB and Schema\n",
    "\n",
    "Create Roadmap:\n",
    "1. Ingest Schema of each table into a Node (TODO CREATE NODE)\n",
    "2. Find matching column names. Set each pair into a relational map (NODE PROPERTY relations)\n",
    "    a. Relational map is a hash: the on join\n",
    "    b. Look for non-related tables. Set a relation flag for all tables. Set True when found.\n",
    "    c. Set keys into (NODE PROPERTY keys)\n",
    "3. \n",
    "'''\n",
    "\n"
   ]
  },
  {
   "cell_type": "code",
   "execution_count": null,
   "id": "e780676b",
   "metadata": {},
   "outputs": [],
   "source": []
  }
 ],
 "metadata": {
  "kernelspec": {
   "display_name": "Python 3 (ipykernel)",
   "language": "python",
   "name": "python3"
  },
  "language_info": {
   "codemirror_mode": {
    "name": "ipython",
    "version": 3
   },
   "file_extension": ".py",
   "mimetype": "text/x-python",
   "name": "python",
   "nbconvert_exporter": "python",
   "pygments_lexer": "ipython3",
   "version": "3.10.6"
  }
 },
 "nbformat": 4,
 "nbformat_minor": 5
}
