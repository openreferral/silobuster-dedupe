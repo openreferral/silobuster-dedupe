{
 "cells": [
  {
   "cell_type": "code",
   "execution_count": 1,
   "id": "b6595357",
   "metadata": {},
   "outputs": [],
   "source": [
    "from libs.connector.postgres_connector import PostgresToJsonConnector\n",
    "from libs.handler.postgres_handler import PostgresHandler\n",
    "from libs.handler.json_handler import JsonHandler\n",
    "from libs.log_handler.log_handler import LogHandler\n",
    "\n",
    "from libs.dataframes.to_types import to_list_of_dicts\n",
    "\n",
    "import pandas as pd\n",
    "\n",
    "\n",
    "log_handler = PostgresHandler(\n",
    "    env_prefix = 'POSTGRES'\n",
    ")\n",
    "\n",
    "logger = LogHandler(db_handler=log_handler)\n",
    "\n",
    "input_qry = '''\n",
    "    SELECT\n",
    "        id,\n",
    "        name,\n",
    "        latitude,\n",
    "        longitude\n",
    "    FROM location\n",
    "    '''\n",
    "\n",
    "#input_qry = \"select t1.identifier, t2.address_1, t2.address_2, t2.city, t2.state_province, t2.postal_code, t3.latitude, t3.longitude, t4.id, t4.website from organization t4 left join location t3 on t4.id = t3.organization_id left join address t2 on t3.id = t2.location_id left join organization_identifier t1 on t1.organization_id = t4.id\"\n",
    "\n",
    "input_handler = PostgresHandler(\n",
    "    query = input_qry,\n",
    "    env_prefix = 'POSTGRES'\n",
    ")\n",
    "\n",
    "output_handler = JsonHandler()\n"
   ]
  },
  {
   "cell_type": "code",
   "execution_count": 2,
   "id": "d048a181",
   "metadata": {},
   "outputs": [],
   "source": [
    "conn = PostgresToJsonConnector(\n",
    "    input_handler=input_handler,\n",
    "    output_handler=output_handler,\n",
    "    log_handler=logger,\n",
    ")"
   ]
  },
  {
   "cell_type": "code",
   "execution_count": 3,
   "id": "a9de2d57",
   "metadata": {},
   "outputs": [
    {
     "name": "stdout",
     "output_type": "stream",
     "text": [
      "                                   id  \\\n",
      "0    ae97066be6a14f53d572bcbab83d4ef4   \n",
      "1    5cbaa27bd58a2b8b728caad9c8a554bf   \n",
      "2    647b980c49850404ea2db47db8ec504c   \n",
      "3    2cc46b37742f870c0904d2a6f8adcd2e   \n",
      "4    52dbbe006552f49c9a32e5dee5e3f7ce   \n",
      "..                                ...   \n",
      "247  6f8fb2bc827f40c58d4af182a0673d0d   \n",
      "248  d5efd61f3ff754bfb271ef5df9d8d035   \n",
      "249  15af830a534f384b2e3604b4ae82a0f4   \n",
      "250  0c47767855354d43ed2809cca939bdff   \n",
      "251  b7d77ac93548be306d815f1eb05b5b46   \n",
      "\n",
      "                                        name   latitude   longitude  \n",
      "0                            *REQUIRED* text        NaN         NaN  \n",
      "1    Depressive and Bipolar Support Alliance        NaN         NaN  \n",
      "2       Bellingham Parks Recreation Division        NaN         NaN  \n",
      "3                Mount Baker School District        NaN         NaN  \n",
      "4               Bellingham Technical College        NaN         NaN  \n",
      "..                                       ...        ...         ...  \n",
      "247           1221 Fraser Street, Bellingham  48.752213 -122.458694  \n",
      "248                6044 Portal Way, Ferndale  48.860740 -122.584070  \n",
      "249             3600 Meridian St, Bellingham  48.779087 -122.485700  \n",
      "250              2694 Kwina Road, Bellingham  48.795227 -122.624560  \n",
      "251            2505 Sulwhanon Drive, Everson  48.885113 -122.347946  \n",
      "\n",
      "[252 rows x 4 columns]\n"
     ]
    }
   ],
   "source": [
    "print(conn.df)\n"
   ]
  },
  {
   "cell_type": "code",
   "execution_count": null,
   "id": "47566c18",
   "metadata": {},
   "outputs": [],
   "source": []
  },
  {
   "cell_type": "code",
   "execution_count": null,
   "id": "d229ce63",
   "metadata": {},
   "outputs": [],
   "source": []
  },
  {
   "cell_type": "code",
   "execution_count": null,
   "id": "3b7756cc",
   "metadata": {},
   "outputs": [],
   "source": []
  },
  {
   "cell_type": "code",
   "execution_count": 4,
   "id": "a6e3a533",
   "metadata": {},
   "outputs": [],
   "source": [
    "from libs.workers.algo.exact_lat_long import exact_lat_long"
   ]
  },
  {
   "cell_type": "code",
   "execution_count": 5,
   "id": "6c06c9a4",
   "metadata": {},
   "outputs": [
    {
     "name": "stdout",
     "output_type": "stream",
     "text": [
      "fced4549-053a-44a6-ae24-89e408d40342\n"
     ]
    }
   ],
   "source": [
    "job_id = conn.mutate(exact_lat_long)\n",
    "print (job_id)"
   ]
  },
  {
   "cell_type": "code",
   "execution_count": null,
   "id": "6ef59f02",
   "metadata": {},
   "outputs": [],
   "source": []
  },
  {
   "cell_type": "code",
   "execution_count": null,
   "id": "67900f07",
   "metadata": {},
   "outputs": [],
   "source": []
  }
 ],
 "metadata": {
  "kernelspec": {
   "display_name": "Python 3 (ipykernel)",
   "language": "python",
   "name": "python3"
  },
  "language_info": {
   "codemirror_mode": {
    "name": "ipython",
    "version": 3
   },
   "file_extension": ".py",
   "mimetype": "text/x-python",
   "name": "python",
   "nbconvert_exporter": "python",
   "pygments_lexer": "ipython3",
   "version": "3.10.6"
  }
 },
 "nbformat": 4,
 "nbformat_minor": 5
}
