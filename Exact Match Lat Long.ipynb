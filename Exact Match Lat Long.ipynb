{
 "cells": [
  {
   "cell_type": "code",
   "execution_count": 1,
   "id": "b6595357",
   "metadata": {},
   "outputs": [
    {
     "name": "stdout",
     "output_type": "stream",
     "text": [
      "Host: silobuster-dev-db-do-user-12298230-0.b.db.ondigitalocean.com\n",
      "Port: 25060\n",
      "Database: defaultdb\n",
      "Username: doadmin\n",
      "Schema: connect211_withinreach_hsds3\n",
      "Connection Alive? Yes\n",
      "<libs.handler.json_handler.JsonHandler object at 0x7fd17f609630>\n"
     ]
    }
   ],
   "source": [
    "from libs.connector.postgres_connector import PostgresToJsonConnector\n",
    "from libs.handler.postgres_handler import PostgresHandler\n",
    "from libs.handler.json_handler import JsonHandler\n",
    "from libs.log_handler.log_handler import LogHandler\n",
    "\n",
    "from libs.dataframes.to_types import to_list_of_dicts\n",
    "\n",
    "import pandas as pd\n",
    "\n",
    "\n",
    "log_handler = PostgresHandler(\n",
    "    host = 'silobuster-dev-db-do-user-12298230-0.b.db.ondigitalocean.com',\n",
    "    port = '25060',\n",
    "    db = 'defaultdb',\n",
    "    password = 'AVNS_2Lh_hY8r7RVKSfLwbJM',\n",
    "    username = 'doadmin',\n",
    ")\n",
    "\n",
    "logger = LogHandler(db_handler=log_handler)\n",
    "\n",
    "input_qry = '''\n",
    "    SELECT\n",
    "        id,\n",
    "        name,\n",
    "        latitude,\n",
    "        longitude\n",
    "    FROM location\n",
    "    '''\n",
    "\n",
    "#input_qry = \"select t1.identifier, t2.address_1, t2.address_2, t2.city, t2.state_province, t2.postal_code, t3.latitude, t3.longitude, t4.id, t4.website from organization t4 left join location t3 on t4.id = t3.organization_id left join address t2 on t3.id = t2.location_id left join organization_identifier t1 on t1.organization_id = t4.id\"\n",
    "\n",
    "input_handler = PostgresHandler(\n",
    "    host = 'silobuster-dev-db-do-user-12298230-0.b.db.ondigitalocean.com',\n",
    "    port = '25060',\n",
    "    db = 'defaultdb',\n",
    "    password = 'AVNS_2Lh_hY8r7RVKSfLwbJM',\n",
    "    username = 'doadmin',\n",
    "    query = input_qry,\n",
    "    schema = 'connect211_withinreach_hsds3',\n",
    "    env_prefix = 'POSTGRES'\n",
    ")\n",
    "\n",
    "output_handler = JsonHandler()\n",
    "\n",
    "print (input_handler)\n",
    "print (output_handler)"
   ]
  },
  {
   "cell_type": "code",
   "execution_count": 2,
   "id": "d048a181",
   "metadata": {},
   "outputs": [],
   "source": [
    "conn = PostgresToJsonConnector(\n",
    "    input_handler=input_handler,\n",
    "    output_handler=output_handler,\n",
    "    log_handler=logger,\n",
    ")"
   ]
  },
  {
   "cell_type": "code",
   "execution_count": 3,
   "id": "a9de2d57",
   "metadata": {},
   "outputs": [
    {
     "data": {
      "text/html": [
       "<div>\n",
       "<style scoped>\n",
       "    .dataframe tbody tr th:only-of-type {\n",
       "        vertical-align: middle;\n",
       "    }\n",
       "\n",
       "    .dataframe tbody tr th {\n",
       "        vertical-align: top;\n",
       "    }\n",
       "\n",
       "    .dataframe thead th {\n",
       "        text-align: right;\n",
       "    }\n",
       "</style>\n",
       "<table border=\"1\" class=\"dataframe\">\n",
       "  <thead>\n",
       "    <tr style=\"text-align: right;\">\n",
       "      <th></th>\n",
       "      <th>id</th>\n",
       "      <th>name</th>\n",
       "      <th>latitude</th>\n",
       "      <th>longitude</th>\n",
       "    </tr>\n",
       "  </thead>\n",
       "  <tbody>\n",
       "    <tr>\n",
       "      <th>0</th>\n",
       "      <td>8c50f5ac-5092-5185-86b0-48b65329cdf4</td>\n",
       "      <td>ADA Information and Technical Assistance (US D...</td>\n",
       "      <td>0.000000</td>\n",
       "      <td>0.000000</td>\n",
       "    </tr>\n",
       "    <tr>\n",
       "      <th>1</th>\n",
       "      <td>b6762cbb-84e0-5a0e-aa28-9968592e16f7</td>\n",
       "      <td>AT&amp;T Access (Discounted Internet Service)</td>\n",
       "      <td>0.000000</td>\n",
       "      <td>0.000000</td>\n",
       "    </tr>\n",
       "    <tr>\n",
       "      <th>2</th>\n",
       "      <td>f9f25630-dd36-5c8f-b2a2-4f5ae597a846</td>\n",
       "      <td>IRS Tax Hotline &amp; Office Locator</td>\n",
       "      <td>0.000000</td>\n",
       "      <td>0.000000</td>\n",
       "    </tr>\n",
       "    <tr>\n",
       "      <th>3</th>\n",
       "      <td>f7745444-4bf1-55b1-b9cf-77e550552df2</td>\n",
       "      <td>Partnership for Prescription Assistance</td>\n",
       "      <td>0.000000</td>\n",
       "      <td>0.000000</td>\n",
       "    </tr>\n",
       "    <tr>\n",
       "      <th>4</th>\n",
       "      <td>cf47b9e6-18bf-51d9-95ca-1f5e7a0b619d</td>\n",
       "      <td>Spokane Regional Crisis Hotline</td>\n",
       "      <td>0.000000</td>\n",
       "      <td>0.000000</td>\n",
       "    </tr>\n",
       "    <tr>\n",
       "      <th>...</th>\n",
       "      <td>...</td>\n",
       "      <td>...</td>\n",
       "      <td>...</td>\n",
       "      <td>...</td>\n",
       "    </tr>\n",
       "    <tr>\n",
       "      <th>2348</th>\n",
       "      <td>9a26bc0c-96cf-5796-93cd-970c0b8b6e59</td>\n",
       "      <td>Inspire Development Centers</td>\n",
       "      <td>46.734143</td>\n",
       "      <td>-119.903713</td>\n",
       "    </tr>\n",
       "    <tr>\n",
       "      <th>2349</th>\n",
       "      <td>d35ce545-07ab-568e-910f-c8a258f7ee8f</td>\n",
       "      <td>Inspire Development Centers</td>\n",
       "      <td>46.466361</td>\n",
       "      <td>-120.375376</td>\n",
       "    </tr>\n",
       "    <tr>\n",
       "      <th>2350</th>\n",
       "      <td>00b942a3-a107-56cd-b8e6-8f6f3645afee</td>\n",
       "      <td>Inspire Development Centers</td>\n",
       "      <td>46.011957</td>\n",
       "      <td>-118.395842</td>\n",
       "    </tr>\n",
       "    <tr>\n",
       "      <th>2351</th>\n",
       "      <td>0ccf5874-9578-551c-bb90-7e468c73b06e</td>\n",
       "      <td>Inspire Development Centers</td>\n",
       "      <td>46.241459</td>\n",
       "      <td>-119.092209</td>\n",
       "    </tr>\n",
       "    <tr>\n",
       "      <th>2352</th>\n",
       "      <td>27e3f9da-f9d1-5a68-b3e8-c4a764605943</td>\n",
       "      <td>Inspire Development Centers</td>\n",
       "      <td>46.214617</td>\n",
       "      <td>-119.998214</td>\n",
       "    </tr>\n",
       "  </tbody>\n",
       "</table>\n",
       "<p>2353 rows × 4 columns</p>\n",
       "</div>"
      ],
      "text/plain": [
       "                                        id  \\\n",
       "0     8c50f5ac-5092-5185-86b0-48b65329cdf4   \n",
       "1     b6762cbb-84e0-5a0e-aa28-9968592e16f7   \n",
       "2     f9f25630-dd36-5c8f-b2a2-4f5ae597a846   \n",
       "3     f7745444-4bf1-55b1-b9cf-77e550552df2   \n",
       "4     cf47b9e6-18bf-51d9-95ca-1f5e7a0b619d   \n",
       "...                                    ...   \n",
       "2348  9a26bc0c-96cf-5796-93cd-970c0b8b6e59   \n",
       "2349  d35ce545-07ab-568e-910f-c8a258f7ee8f   \n",
       "2350  00b942a3-a107-56cd-b8e6-8f6f3645afee   \n",
       "2351  0ccf5874-9578-551c-bb90-7e468c73b06e   \n",
       "2352  27e3f9da-f9d1-5a68-b3e8-c4a764605943   \n",
       "\n",
       "                                                   name   latitude   longitude  \n",
       "0     ADA Information and Technical Assistance (US D...   0.000000    0.000000  \n",
       "1             AT&T Access (Discounted Internet Service)   0.000000    0.000000  \n",
       "2                      IRS Tax Hotline & Office Locator   0.000000    0.000000  \n",
       "3               Partnership for Prescription Assistance   0.000000    0.000000  \n",
       "4                       Spokane Regional Crisis Hotline   0.000000    0.000000  \n",
       "...                                                 ...        ...         ...  \n",
       "2348                        Inspire Development Centers  46.734143 -119.903713  \n",
       "2349                        Inspire Development Centers  46.466361 -120.375376  \n",
       "2350                        Inspire Development Centers  46.011957 -118.395842  \n",
       "2351                        Inspire Development Centers  46.241459 -119.092209  \n",
       "2352                        Inspire Development Centers  46.214617 -119.998214  \n",
       "\n",
       "[2353 rows x 4 columns]"
      ]
     },
     "execution_count": 3,
     "metadata": {},
     "output_type": "execute_result"
    }
   ],
   "source": [
    "conn.df\n"
   ]
  },
  {
   "cell_type": "code",
   "execution_count": 4,
   "id": "47566c18",
   "metadata": {},
   "outputs": [],
   "source": [
    "#conn.df.fillna('', inplace=True)"
   ]
  },
  {
   "cell_type": "code",
   "execution_count": 5,
   "id": "d229ce63",
   "metadata": {},
   "outputs": [],
   "source": [
    "#conn.df['key'] = conn.df.apply(lambda row: str(row['latitude']) + str(row['longitude']), axis = 1)"
   ]
  },
  {
   "cell_type": "code",
   "execution_count": 6,
   "id": "3b7756cc",
   "metadata": {},
   "outputs": [],
   "source": [
    "#conn.df"
   ]
  },
  {
   "cell_type": "code",
   "execution_count": 7,
   "id": "a6e3a533",
   "metadata": {},
   "outputs": [],
   "source": [
    "from libs.dedupe.algo.exact_lat_long import exact_lat_long"
   ]
  },
  {
   "cell_type": "code",
   "execution_count": 8,
   "id": "6c06c9a4",
   "metadata": {},
   "outputs": [
    {
     "name": "stdout",
     "output_type": "stream",
     "text": [
      "547cb528-4d59-4e66-a7ef-ab96a520e52e\n"
     ]
    }
   ],
   "source": [
    "job_id = conn.transform(exact_lat_long)\n",
    "print (job_id)"
   ]
  },
  {
   "cell_type": "code",
   "execution_count": null,
   "id": "6ef59f02",
   "metadata": {},
   "outputs": [],
   "source": []
  },
  {
   "cell_type": "code",
   "execution_count": null,
   "id": "67900f07",
   "metadata": {},
   "outputs": [],
   "source": []
  }
 ],
 "metadata": {
  "kernelspec": {
   "display_name": "Python 3 (ipykernel)",
   "language": "python",
   "name": "python3"
  },
  "language_info": {
   "codemirror_mode": {
    "name": "ipython",
    "version": 3
   },
   "file_extension": ".py",
   "mimetype": "text/x-python",
   "name": "python",
   "nbconvert_exporter": "python",
   "pygments_lexer": "ipython3",
   "version": "3.10.6"
  }
 },
 "nbformat": 4,
 "nbformat_minor": 5
}
